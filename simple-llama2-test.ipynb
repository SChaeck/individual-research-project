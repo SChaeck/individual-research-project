{
 "cells": [
  {
   "cell_type": "code",
   "execution_count": 3,
   "metadata": {},
   "outputs": [
    {
     "name": "stdout",
     "output_type": "stream",
     "text": [
      "\n",
      "Deep learning (DL) is a subfield of machine learning that involves the use of artificial neural networks to model and solve complex problems. DL models are designed to recognize patterns in data, learn from experience, and improve their performance on a task over time.\n",
      "\n",
      "The key differences between traditional machine learning and deep learning are:\n",
      "\n",
      "1. Depth of knowledge representation: Deep learning models have multiple layers of neural networks that can learn to represent complex patterns in the input data. Traditional machine learning models typically rely on a single layer of neural networks or other non-neural models.\n",
      "2. Training data size: Deep learning models require large amounts of training data to learn and improve their performance. Traditional machine learning models can often achieve good results with smaller datasets.\n",
      "3. Computational resources: Deep learning models require significant computational resources, including powerful hardware and large amounts of memory, to train and run. Traditional machine learning models are typically less computationally intensive.\n",
      "4. Training time: Deep learning models take longer to train than traditional machine learning models due to the complexity of the neural networks and the large amount of data required for training.\n",
      "5. Overfitting: Deep learning models have a greater risk of overfitting, which occurs when the model becomes too complex and starts to memorize the training data rather than learning generalizable patterns. This can result in poor performance on new, unseen data. Traditional machine learning models are less prone to overfitting due to their simpler architecture.\n",
      "6. Loss functions: Deep learning models use different loss functions than traditional machine learning models. For example, deep learning models often use cross-entropy loss for classification tasks, while traditional machine learning models may use mean squared error or logistic regression.\n",
      "7. Optimization algorithms: Deep learning models use different optimization algorithms than traditional machine learning models. For example, deep learning models often use stochastic gradient descent with momentum and Nesterov acceleration to optimize the weights of the neural network. Traditional machine learning models may use simple gradient descent or other optimization techniques.\n",
      "8. Model interpretability: Deep learning models are often less interpretable than traditional machine learning models due to their complexity and lack of transparent inner workings. This can make it more difficult to understand why a deep learning model is making certain predictions or decisions.\n",
      "\n",
      "Some examples of applications where deep learning has been particularly successful include image recognition (e.g., identifying objects in images), natural language processing (e.g., machine translation, sentiment analysis), speech recognition, and autonomous driving. These applications often involve complex patterns in the data that traditional machine learning models struggle to capture, but deep learning models are well-suited to handle due to their ability to learn complex representations of the input data.\n"
     ]
    }
   ],
   "source": [
    "from langchain_community.chat_models import ChatOllama\n",
    "from langchain_core.output_parsers import StrOutputParser\n",
    "from langchain_core.prompts import ChatPromptTemplate\n",
    "\n",
    "# LangChain이 지원하는 다른 채팅 모델을 사용합니다. 여기서는 Ollama를 사용합니다.\n",
    "llm = ChatOllama(model=\"llama2\")\n",
    "# 주제를 기반으로 짧은 농담을 요청하는 프롬프트 템플릿을 생성합니다.\n",
    "prompt = ChatPromptTemplate.from_template(\"{topic} 에 대하여 간략히 설명해 줘.\")\n",
    "\n",
    "# LangChain 표현식 언어 체인 구문을 사용합니다.\n",
    "# LCEL에 대한 자세한 내용은 https://python.langchain.com/docs/expression_language/why 에서 확인할 수 있습니다.\n",
    "chain = prompt | llm | StrOutputParser()\n",
    "\n",
    "# 간결성을 위해 응답은 터미널에 출력됩니다.\n",
    "# 프로덕션 환경에서 애플리케이션을 배포하기 위해 LangServe를 사용할 수 있습니다.\n",
    "print(chain.invoke({\"topic\": \"deep learning\"}))"
   ]
  }
 ],
 "metadata": {
  "kernelspec": {
   "display_name": "PTLLM",
   "language": "python",
   "name": "python3"
  },
  "language_info": {
   "codemirror_mode": {
    "name": "ipython",
    "version": 3
   },
   "file_extension": ".py",
   "mimetype": "text/x-python",
   "name": "python",
   "nbconvert_exporter": "python",
   "pygments_lexer": "ipython3",
   "version": "3.8.18"
  }
 },
 "nbformat": 4,
 "nbformat_minor": 2
}
