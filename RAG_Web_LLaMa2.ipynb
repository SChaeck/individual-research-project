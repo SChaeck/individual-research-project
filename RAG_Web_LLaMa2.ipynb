{
 "cells": [
  {
   "cell_type": "code",
   "execution_count": 1,
   "id": "91849f03-ae86-4d1a-84eb-edb9948acf1d",
   "metadata": {},
   "outputs": [],
   "source": [
    "import os\n",
    "import json\n",
    "from tqdm import tqdm"
   ]
  },
  {
   "cell_type": "code",
   "execution_count": 3,
   "id": "70b0e0df-a52c-4b99-a1bc-84649e8228fb",
   "metadata": {},
   "outputs": [],
   "source": [
    "from langchain.chat_models import ChatOpenAI\n",
    "from langchain.prompts import ChatPromptTemplate\n",
    "from langchain_core.output_parsers import StrOutputParser\n",
    "from langchain_core.runnables import RunnablePassthrough"
   ]
  },
  {
   "cell_type": "code",
   "execution_count": 4,
   "id": "bad523cf-8d24-4f76-b6ae-83545fd43a7c",
   "metadata": {},
   "outputs": [],
   "source": [
    "## Adding Web Search Tools\n",
    "from langchain.tools import DuckDuckGoSearchRun\n",
    "\n",
    "search = DuckDuckGoSearchRun()"
   ]
  },
  {
   "cell_type": "code",
   "execution_count": 15,
   "id": "d4c7d7b0",
   "metadata": {},
   "outputs": [],
   "source": [
    "from langchain_community.chat_models import ChatOllama\n",
    "from langchain_core.output_parsers import StrOutputParser\n",
    "\n",
    "# LangChain이 지원하는 다른 채팅 모델을 사용합니다. 여기서는 Ollama를 사용합니다.\n",
    "llm = ChatOllama(model=\"llama2\")"
   ]
  },
  {
   "cell_type": "code",
   "execution_count": 16,
   "id": "e09db4d5",
   "metadata": {},
   "outputs": [],
   "source": [
    "from langchain.prompts import PromptTemplate\n",
    "\n",
    "template = \"\"\"\n",
    "Information: {information}\n",
    "###\n",
    "Question: {query}\"\"\"\n",
    "\n",
    "prompt = PromptTemplate.from_template(template=template)"
   ]
  },
  {
   "cell_type": "code",
   "execution_count": 17,
   "id": "6d33a558",
   "metadata": {},
   "outputs": [],
   "source": [
    "# LangChain 표현식 언어 체인 구문을 사용합니다.\n",
    "# LCEL에 대한 자세한 내용은 https://python.langchain.com/docs/expression_language/why 에서 확인할 수 있습니다.\n",
    "chain = prompt | llm | StrOutputParser()"
   ]
  },
  {
   "cell_type": "code",
   "execution_count": 18,
   "id": "501825a7",
   "metadata": {},
   "outputs": [],
   "source": [
    "file_path = os.path.join(os.getcwd(), \"data\", \"processed_data.txt\")\n",
    "\n",
    "# 문장을 저장할 배열 초기화\n",
    "sentences = []\n",
    "\n",
    "# 파일 열기\n",
    "with open(file_path, \"r\", encoding=\"utf-8\") as file:\n",
    "    # 파일의 각 줄을 읽어와 배열에 추가\n",
    "    for line in file:\n",
    "        sentences.append(line.strip())"
   ]
  },
  {
   "cell_type": "code",
   "execution_count": 19,
   "id": "35538de4",
   "metadata": {},
   "outputs": [
    {
     "name": "stdout",
     "output_type": "stream",
     "text": [
      "The young man is stirring his pot of korean food with a wooden spoon.\n"
     ]
    }
   ],
   "source": [
    "print(sentences[0])"
   ]
  },
  {
   "cell_type": "code",
   "execution_count": 49,
   "id": "8359c8d7",
   "metadata": {},
   "outputs": [
    {
     "name": "stdout",
     "output_type": "stream",
     "text": [
      "1: Chuncheon Dakgalbi - Spicy Stir Fried Chicken. Chuncheon dakgalbi is another of those traditional Korean dishes for those people who love fried meat. This dish combines marinated chicken with vegetables, rice cake (tteok 떡 ), chilli paste sauce, and other spices. You can also add noodles and cheese. Bibimbap: This Korean lunch-in-a-bowl mixes together a simple salad of rice, mixed vegetables, rice, beef and egg, with sesame oil and a dollop of chili paste for seasoning. Korean cuisine is largely based on rice, vegetables, seafood and (at least in South Korea) meats. Dairy is largely absent from the traditional Korean diet. [3] Traditional Korean meals are named for the number of side dishes ( 반찬; 飯饌; banchan) that accompany steam-cooked short-grain rice. 08 of 10. Seollangtang (Korean Ox Bone Soup) Debbi Smirnoff / Getty Images. Ox bone soup is an easy recipe, but it's one that you will simmer all day. Simmering the leg bones for several hours results in a milky-white, rich and meaty soup with garlic, ginger, and noodles. Get the Recipe. The fish meat is boiled again with beef or chicken broth and seasoned with gochujang, doenjang, grated ginger, and ground black pepper before being served in a soup with vegetables, mushroom, fried tofu, rice, and noodles. 7. Ganjang Gejang. Many Koreans have described ganjang gejang as the ultimate South Korean food.\n"
     ]
    },
    {
     "name": "stderr",
     "output_type": "stream",
     "text": [
      "c:\\Anaconda3\\envs\\PTLLM\\lib\\site-packages\\curl_cffi\\aio.py:204: UserWarning: Curlm alread closed! quitting from process_data\n",
      "  warnings.warn(\"Curlm alread closed! quitting from process_data\")\n"
     ]
    }
   ],
   "source": [
    "search_result = search.run(\"Korean traditional food name\")\n",
    "\n",
    "print(search_result)"
   ]
  },
  {
   "cell_type": "code",
   "execution_count": 50,
   "id": "95f3b3f4",
   "metadata": {},
   "outputs": [],
   "source": [
    "query = \"\"\"In \"Information\", only the proper nouns of Korean traditional cuisine are printed in format.\n",
    "However, non-traditional names are excluded.\n",
    "### \n",
    "<Output format(Json)>\n",
    "result: [\n",
    "\"name1\",\n",
    "\"name2\",\n",
    "...\n",
    "]\n",
    "</Output format(Json)>\n",
    "\"\"\""
   ]
  },
  {
   "cell_type": "code",
   "execution_count": 51,
   "id": "e61cdd8e",
   "metadata": {},
   "outputs": [
    {
     "name": "stdout",
     "output_type": "stream",
     "text": [
      "information: 1: Chuncheon Dakgalbi - Spicy Stir Fried Chicken. Chuncheon dakgalbi is another of those traditional Korean dishes for those people who love fried meat. This dish combines marinated chicken with vegetables, rice cake (tteok 떡 ), chilli paste sauce, and other spices. You can also add noodles and cheese. Bibimbap: This Korean lunch-in-a-bowl mixes together a simple salad of rice, mixed vegetables, rice, beef and egg, with sesame oil and a dollop of chili paste for seasoning. Korean cuisine is largely based on rice, vegetables, seafood and (at least in South Korea) meats. Dairy is largely absent from the traditional Korean diet. [3] Traditional Korean meals are named for the number of side dishes ( 반찬; 飯饌; banchan) that accompany steam-cooked short-grain rice. 08 of 10. Seollangtang (Korean Ox Bone Soup) Debbi Smirnoff / Getty Images. Ox bone soup is an easy recipe, but it's one that you will simmer all day. Simmering the leg bones for several hours results in a milky-white, rich and meaty soup with garlic, ginger, and noodles. Get the Recipe. The fish meat is boiled again with beef or chicken broth and seasoned with gochujang, doenjang, grated ginger, and ground black pepper before being served in a soup with vegetables, mushroom, fried tofu, rice, and noodles. 7. Ganjang Gejang. Many Koreans have described ganjang gejang as the ultimate South Korean food.\n",
      "############################\n",
      "reulst:  result: [\"Chuncheon Dakgalbi\", \"Bibimbap\", \"Seollangtang\", \"Ganjang Gejang\"]\n",
      "############################\n",
      "\n"
     ]
    }
   ],
   "source": [
    "result = chain.invoke({\"information\": search_result, \"query\": query})\n",
    "\n",
    "print(f\"information: {search_result}\\n############################\\nreulst: {result}\\n############################\\n\")"
   ]
  },
  {
   "cell_type": "code",
   "execution_count": null,
   "id": "18fd88a5",
   "metadata": {},
   "outputs": [],
   "source": [
    "# with open(\"data/result.txt\", \"w\") as file:\n",
    "#     for retrieval in tqdm(list(zip(sentences, all_assertions))[:5]):\n",
    "#         result = chain.invoke({\"retrieval\": retrieval, \"query\":query})\n",
    "#         print(f\"retrieval: {retrieval}\\nreulst: {result}\\n############################\\n\")\n",
    "#         file.write(result + '\\n')"
   ]
  }
 ],
 "metadata": {
  "kernelspec": {
   "display_name": "PTLLM",
   "language": "python",
   "name": "python3"
  },
  "language_info": {
   "codemirror_mode": {
    "name": "ipython",
    "version": 3
   },
   "file_extension": ".py",
   "mimetype": "text/x-python",
   "name": "python",
   "nbconvert_exporter": "python",
   "pygments_lexer": "ipython3",
   "version": "3.8.18"
  }
 },
 "nbformat": 4,
 "nbformat_minor": 5
}
