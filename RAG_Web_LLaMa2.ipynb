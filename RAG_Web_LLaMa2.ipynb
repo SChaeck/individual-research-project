{
 "cells": [
  {
   "cell_type": "code",
   "execution_count": 1,
   "id": "91849f03-ae86-4d1a-84eb-edb9948acf1d",
   "metadata": {},
   "outputs": [],
   "source": [
    "import json\n",
    "import re\n",
    "import os\n",
    "import tqdm"
   ]
  },
  {
   "cell_type": "code",
   "execution_count": 2,
   "id": "70b0e0df-a52c-4b99-a1bc-84649e8228fb",
   "metadata": {},
   "outputs": [],
   "source": [
    "from langchain_community.utilities import GoogleSearchAPIWrapper\n",
    "from langchain_core.tools import Tool\n",
    "from langchain_community.chat_models import ChatOllama\n",
    "from langchain_core.output_parsers import CommaSeparatedListOutputParser\n",
    "from langchain.prompts import PromptTemplate"
   ]
  },
  {
   "cell_type": "code",
   "execution_count": 3,
   "id": "97f52c9c",
   "metadata": {},
   "outputs": [],
   "source": [
    "# 파일 위치 지정\n",
    "keys_file_path = os.path.join('data', 'api_keys.txt')\n",
    "\n",
    "# 파일에서 API 키를 로드하는 함수\n",
    "def load_api_keys(file_path):\n",
    "    with open(file_path, 'r', encoding='utf-8') as file:\n",
    "        keys = json.load(file)\n",
    "    return keys\n",
    "\n",
    "# API 키 사용\n",
    "api_keys = load_api_keys(keys_file_path)\n",
    "\n",
    "os.environ[\"GOOGLE_CSE_ID\"] = api_keys['google_cse_id']\n",
    "os.environ[\"GOOGLE_API_KEY\"] = api_keys['google_api_key']"
   ]
  },
  {
   "cell_type": "code",
   "execution_count": 4,
   "id": "bad523cf-8d24-4f76-b6ae-83545fd43a7c",
   "metadata": {},
   "outputs": [],
   "source": [
    "## Web search\n",
    "search = GoogleSearchAPIWrapper()\n",
    "\n",
    "tool = Tool(\n",
    "    name=\"google_search\",\n",
    "    description=\"Search Google for recent results.\",\n",
    "    func=search.run,\n",
    ")\n",
    "\n",
    "## Ollama\n",
    "llm = ChatOllama(model=\"llama2\")\n",
    "\n",
    "## CSV Parser\n",
    "output_parser = CommaSeparatedListOutputParser()\n",
    "format_instructions = output_parser.get_format_instructions()"
   ]
  },
  {
   "cell_type": "code",
   "execution_count": 5,
   "id": "e09db4d5",
   "metadata": {},
   "outputs": [],
   "source": [
    "# 템플릿 생성\n",
    "template = \"\"\"\n",
    "Information: \n",
    "{information}\n",
    "###\n",
    "Question: \n",
    "{query}\n",
    "###\n",
    "Output format:\n",
    "{format_instructions}\n",
    "###\n",
    "System:\n",
    "{system}\n",
    "\"\"\"\n",
    "\n",
    "prompt = PromptTemplate.from_template(\n",
    "    template=template,\n",
    "    partial_variables={\"format_instructions\":  format_instructions}\n",
    "    )\n",
    "\n",
    "chain = prompt | llm | output_parser"
   ]
  },
  {
   "cell_type": "code",
   "execution_count": 6,
   "id": "51c9c748",
   "metadata": {},
   "outputs": [],
   "source": [
    "# national = \"Korean\"\n",
    "# facet = \"food\" # food, drink, clothing"
   ]
  },
  {
   "cell_type": "code",
   "execution_count": 7,
   "id": "e61cdd8e",
   "metadata": {},
   "outputs": [
    {
     "name": "stdout",
     "output_type": "stream",
     "text": [
      "Turkish :  ['taratorlu piyaz', 'kabak iei dolmas', 'tarhana orbas', 'manti', 'baba ghanoush', 'kekek']\n",
      "Egyptian :  ['mulukhiyah', 'falafel', 'mahshi', 'kofta', 'ful medames', 'koshari', 'ful wa taameya', 'baba ganoush', 'bamia', 'fatta']\n",
      "Korean :  ['tteokbokki', 'bibimbap', 'pajeon', 'japchae', 'hotteok', 'juk', 'gimbap/kimbap']\n",
      "Thai :  ['yam nua beef salad', 'gaeng massaman', 'khao soi', 'pad kra pao moo', 'pad thai', 'tom kha gai', 'khao pad', 'som tam', 'tom yum goong']\n",
      "Mexican :  ['mole poblano', 'barbao', 'pozole', 'chiltomate', 'aguachile', 'chilaquiles', 'chiles en nogada', 'tlayudas', 'carnitas', 'tamales']\n",
      "Spanish :  ['paella valenciana', 'patatas bravas', 'tortilla espaola', 'gazpacho', 'gambas al ajillo', 'pollo al ajillo']\n",
      "Turkish :  ['ayran', 'algam', 'raki']\n",
      "Egyptian :  ['asab', 'karkade', 'khoshaf', 'sugarcane juice']\n",
      "Korean :  ['gamhongno', 'sikhye', 'dongdongju', 'soju', 'makgeoli']\n",
      "Thai :  ['september 8', 'august 5', 'plus some sweetened', 'condensed milk', 'august 16', 'jan 18', 'june 21', 'august 17']\n",
      "Mexican :  ['pulque', 'vampiro', 'mezcal', 'margatita', 'raicilla', 'paloma', 'atole', 'russo blanco', 'el pajarete', 'russo negro', 'carajillo', 'tequila', 'and pajarete', 'charro negro']\n",
      "Spanish :  ['horchata', 'ratafia', 'rebujito', 'sangria', 'jerez', 'cava', 'granizado', 'tinto de verano', 'licor de hierbas', 'queimada', 'rioja']\n",
      "Turkish :  ['ardahan', 'kars', 'central anatolia', 'large turban', 'caucasian culture', 'eastern anatolia', 'abaya', 'ottoman empire', 'silver necklace', 'zeybek costume']\n",
      "Egyptian :  ['headscarves', 'hijabs', 'gallibaya', 'keffiyeh', 'kaftan', 'tunics', 'shemagh']\n",
      "Korean :  ['hanbok', 'ming dynasty', 'hanfu']\n",
      "Thai :  ['ruean ton', 'chitralada', 'sabai', 'chong kraben', 'amarin', 'boromphiman', 'mo hom', 'phah nung', 'pha sin']\n",
      "Mexican :  ['sombrero', 'blouse', 'sarape', 'huipil', 'tarahumara dresses']\n",
      "Spanish :  ['traje de chulapa', 'mantilla', 'peineta', 'traje de chulapo', 'la faldilla']\n",
      "{'food': {'Turkish': ['taratorlu piyaz', 'kabak iei dolmas', 'tarhana orbas', 'manti', 'baba ghanoush', 'kekek'], 'Egyptian': ['mulukhiyah', 'falafel', 'mahshi', 'kofta', 'ful medames', 'koshari', 'ful wa taameya', 'baba ganoush', 'bamia', 'fatta'], 'Korean': ['tteokbokki', 'bibimbap', 'pajeon', 'japchae', 'hotteok', 'juk', 'gimbap/kimbap'], 'Thai': ['yam nua beef salad', 'gaeng massaman', 'khao soi', 'pad kra pao moo', 'pad thai', 'tom kha gai', 'khao pad', 'som tam', 'tom yum goong'], 'Mexican': ['mole poblano', 'barbao', 'pozole', 'chiltomate', 'aguachile', 'chilaquiles', 'chiles en nogada', 'tlayudas', 'carnitas', 'tamales'], 'Spanish': ['paella valenciana', 'patatas bravas', 'tortilla espaola', 'gazpacho', 'gambas al ajillo', 'pollo al ajillo']}, 'drink': {'Turkish': ['ayran', 'algam', 'raki'], 'Egyptian': ['asab', 'karkade', 'khoshaf', 'sugarcane juice'], 'Korean': ['gamhongno', 'sikhye', 'dongdongju', 'soju', 'makgeoli'], 'Thai': ['september 8', 'august 5', 'plus some sweetened', 'condensed milk', 'august 16', 'jan 18', 'june 21', 'august 17'], 'Mexican': ['pulque', 'vampiro', 'mezcal', 'margatita', 'raicilla', 'paloma', 'atole', 'russo blanco', 'el pajarete', 'russo negro', 'carajillo', 'tequila', 'and pajarete', 'charro negro'], 'Spanish': ['horchata', 'ratafia', 'rebujito', 'sangria', 'jerez', 'cava', 'granizado', 'tinto de verano', 'licor de hierbas', 'queimada', 'rioja']}, 'clothing': {'Turkish': ['ardahan', 'kars', 'central anatolia', 'large turban', 'caucasian culture', 'eastern anatolia', 'abaya', 'ottoman empire', 'silver necklace', 'zeybek costume'], 'Egyptian': ['headscarves', 'hijabs', 'gallibaya', 'keffiyeh', 'kaftan', 'tunics', 'shemagh'], 'Korean': ['hanbok', 'ming dynasty', 'hanfu'], 'Thai': ['ruean ton', 'chitralada', 'sabai', 'chong kraben', 'amarin', 'boromphiman', 'mo hom', 'phah nung', 'pha sin'], 'Mexican': ['sombrero', 'blouse', 'sarape', 'huipil', 'tarahumara dresses'], 'Spanish': ['traje de chulapa', 'mantilla', 'peineta', 'traje de chulapo', 'la faldilla']}}\n"
     ]
    }
   ],
   "source": [
    "import re\n",
    "import json\n",
    "\n",
    "national_list = [\"Turkish\", \"Egyptian\", \"Korean\", \"Thai\", \"Mexican\", \"Spanish\"]\n",
    "facet_list = [\"food\", \"drink\", \"clothing\"]\n",
    "\n",
    "# 각 facet에 대한 일반적인 단어 리스트\n",
    "general_terms = {\n",
    "    \"food\": [\"bread\", \"rice\", \"soup\", \"salad\"],\n",
    "    \"drink\": [\"water\", \"coffee\", \"tea\", \"milk\"],\n",
    "    \"clothing\": [\"shirt\", \"pants\", \"dress\", \"shoes\"]\n",
    "}\n",
    "\n",
    "national_keyword_dict = {}\n",
    "\n",
    "for facet in facet_list:\n",
    "    national_keyword_dict[facet] = {}\n",
    "    \n",
    "    for national in national_list:\n",
    "        system_prompt = \"Limit speaking to anything beyond what is asked. !!DO NOT SPEAK SURE!!\"\n",
    "        search_result = tool.run(f\"{national} traditional {facet}\")\n",
    "        \n",
    "        # 일반적인 단어 리스트를 문자열로 변환\n",
    "        general_terms_str = ', '.join(general_terms[facet])\n",
    "        query = f\"Extract proper nouns of traditional {national} {facet} from the provided information. Exclude common {facet} terms such as {general_terms_str}. Provide the names according to the output format and ensure they are specific to {national} culture.\"\n",
    "\n",
    "        # 라마로 키워드 추출\n",
    "        results = set(chain.invoke({\"system\": system_prompt, \"information\": search_result, \"query\": query}))\n",
    "\n",
    "        # 출력된 내용에서 한번 더 후처리\n",
    "        proc_set = set()\n",
    "        for item in results:\n",
    "            # 특수 문자 제거, 소문자 변환, 앞뒤 공백 제거\n",
    "            cleaned_item = re.sub(r'[^a-zA-Z0-9\\n\\s/]', '', item).lower().strip()\n",
    "            # '\\n'이 있는 경우 분할하여 저장\n",
    "            if '\\n' in cleaned_item:\n",
    "                cleaned_item_list = cleaned_item.split('\\n')\n",
    "                for c in cleaned_item_list:\n",
    "                    proc_set.add(c.strip())\n",
    "            else:\n",
    "                proc_set.add(cleaned_item)\n",
    "        # 키워드 길이 0~20까지만 유지\n",
    "        filtered_results = [item for item in proc_set if 0 < len(item) < 20]\n",
    "\n",
    "        national_keyword_dict[facet][national] = filtered_results\n",
    "\n",
    "        print(national, \": \", filtered_results)\n",
    "\n",
    "print(national_keyword_dict)\n",
    "\n",
    "# augment_dict를 JSON 형태의 문자열로 변환합니다.\n",
    "national_keyword_dict_str = json.dumps(national_keyword_dict, ensure_ascii=False, indent=4)\n",
    "\n",
    "# 파일을 쓰기 모드로 엽니다. 'w'를 사용하여 파일이 이미 존재할 경우 내용을 덮어씁니다.\n",
    "with open('national_keyword.json', 'w', encoding='utf-8') as file:\n",
    "    # 변환된 JSON 문자열을 파일에 씁니다.\n",
    "    file.write(national_keyword_dict_str)\n"
   ]
  },
  {
   "cell_type": "code",
   "execution_count": 8,
   "id": "6cb9ae5e",
   "metadata": {},
   "outputs": [
    {
     "ename": "FileNotFoundError",
     "evalue": "[Errno 2] No such file or directory: 'data/sentences.json'",
     "output_type": "error",
     "traceback": [
      "\u001b[1;31m---------------------------------------------------------------------------\u001b[0m",
      "\u001b[1;31mFileNotFoundError\u001b[0m                         Traceback (most recent call last)",
      "Cell \u001b[1;32mIn[8], line 2\u001b[0m\n\u001b[0;32m      1\u001b[0m \u001b[38;5;66;03m## 증강할 캡션 문장 로드\u001b[39;00m\n\u001b[1;32m----> 2\u001b[0m \u001b[38;5;28;01mwith\u001b[39;00m \u001b[38;5;28;43mopen\u001b[39;49m\u001b[43m(\u001b[49m\u001b[38;5;124;43m'\u001b[39;49m\u001b[38;5;124;43mdata/sentences.json\u001b[39;49m\u001b[38;5;124;43m'\u001b[39;49m\u001b[43m,\u001b[49m\u001b[43m \u001b[49m\u001b[38;5;124;43m'\u001b[39;49m\u001b[38;5;124;43mr\u001b[39;49m\u001b[38;5;124;43m'\u001b[39;49m\u001b[43m)\u001b[49m \u001b[38;5;28;01mas\u001b[39;00m f:\n\u001b[0;32m      3\u001b[0m     sentences \u001b[38;5;241m=\u001b[39m json\u001b[38;5;241m.\u001b[39mload(f)\n\u001b[0;32m      5\u001b[0m \u001b[38;5;28mprint\u001b[39m(sentences)\n",
      "File \u001b[1;32mC:\\ProgramData\\anaconda3\\lib\\site-packages\\IPython\\core\\interactiveshell.py:286\u001b[0m, in \u001b[0;36m_modified_open\u001b[1;34m(file, *args, **kwargs)\u001b[0m\n\u001b[0;32m    279\u001b[0m \u001b[38;5;28;01mif\u001b[39;00m file \u001b[38;5;129;01min\u001b[39;00m {\u001b[38;5;241m0\u001b[39m, \u001b[38;5;241m1\u001b[39m, \u001b[38;5;241m2\u001b[39m}:\n\u001b[0;32m    280\u001b[0m     \u001b[38;5;28;01mraise\u001b[39;00m \u001b[38;5;167;01mValueError\u001b[39;00m(\n\u001b[0;32m    281\u001b[0m         \u001b[38;5;124mf\u001b[39m\u001b[38;5;124m\"\u001b[39m\u001b[38;5;124mIPython won\u001b[39m\u001b[38;5;124m'\u001b[39m\u001b[38;5;124mt let you open fd=\u001b[39m\u001b[38;5;132;01m{\u001b[39;00mfile\u001b[38;5;132;01m}\u001b[39;00m\u001b[38;5;124m by default \u001b[39m\u001b[38;5;124m\"\u001b[39m\n\u001b[0;32m    282\u001b[0m         \u001b[38;5;124m\"\u001b[39m\u001b[38;5;124mas it is likely to crash IPython. If you know what you are doing, \u001b[39m\u001b[38;5;124m\"\u001b[39m\n\u001b[0;32m    283\u001b[0m         \u001b[38;5;124m\"\u001b[39m\u001b[38;5;124myou can use builtins\u001b[39m\u001b[38;5;124m'\u001b[39m\u001b[38;5;124m open.\u001b[39m\u001b[38;5;124m\"\u001b[39m\n\u001b[0;32m    284\u001b[0m     )\n\u001b[1;32m--> 286\u001b[0m \u001b[38;5;28;01mreturn\u001b[39;00m io_open(file, \u001b[38;5;241m*\u001b[39margs, \u001b[38;5;241m*\u001b[39m\u001b[38;5;241m*\u001b[39mkwargs)\n",
      "\u001b[1;31mFileNotFoundError\u001b[0m: [Errno 2] No such file or directory: 'data/sentences.json'"
     ]
    }
   ],
   "source": [
    "## 증강할 캡션 문장 로드\n",
    "with open('data/sentences.json', 'r') as f:\n",
    "    sentences = json.load(f)\n",
    "\n",
    "print(sentences)"
   ]
  },
  {
   "cell_type": "code",
   "execution_count": null,
   "id": "18fd88a5",
   "metadata": {},
   "outputs": [],
   "source": [
    "facet = \"food\"\n",
    "augment_dict = {facet: {}}\n",
    "\n",
    "for sentence in sentences[facet]:\n",
    "    for national, keywords in national_keyword_dict[facet].items():\n",
    "        if national not in augment_dict[facet]:\n",
    "            augment_dict[facet][national] = []\n",
    "        for keyword in keywords[:3]:      \n",
    "            augmented_sentence = sentence.format(national_keyword=keyword)\n",
    "            print(augmented_sentence)\n",
    "            augment_dict[facet][national].append(augmented_sentence)\n",
    "\n",
    "# augment_dict를 JSON 형태의 문자열로 변환합니다.\n",
    "augment_dict_str = json.dumps(augment_dict, ensure_ascii=False, indent=4)\n",
    "\n",
    "# 파일을 쓰기 모드로 엽니다. 'w'를 사용하여 파일이 이미 존재할 경우 내용을 덮어씁니다.\n",
    "with open('augmented_sentences.json', 'w', encoding='utf-8') as file:\n",
    "    # 변환된 JSON 문자열을 파일에 씁니다.\n",
    "    file.write(augment_dict_str)"
   ]
  },
  {
   "cell_type": "code",
   "execution_count": null,
   "id": "0852de8a",
   "metadata": {},
   "outputs": [],
   "source": []
  }
 ],
 "metadata": {
  "kernelspec": {
   "display_name": "Python 3 (ipykernel)",
   "language": "python",
   "name": "python3"
  },
  "language_info": {
   "codemirror_mode": {
    "name": "ipython",
    "version": 3
   },
   "file_extension": ".py",
   "mimetype": "text/x-python",
   "name": "python",
   "nbconvert_exporter": "python",
   "pygments_lexer": "ipython3",
   "version": "3.10.13"
  }
 },
 "nbformat": 4,
 "nbformat_minor": 5
}
