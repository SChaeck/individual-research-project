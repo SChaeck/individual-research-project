{
 "cells": [
  {
   "cell_type": "code",
   "execution_count": 25,
   "metadata": {},
   "outputs": [],
   "source": [
    "import json\n",
    "import re\n",
    "import os\n",
    "import tqdm"
   ]
  },
  {
   "cell_type": "code",
   "execution_count": 26,
   "metadata": {},
   "outputs": [],
   "source": [
    "from langchain_community.utilities import GoogleSearchAPIWrapper\n",
    "from langchain_core.tools import Tool\n",
    "from langchain_community.chat_models import ChatOllama\n",
    "from langchain_core.output_parsers import CommaSeparatedListOutputParser\n",
    "from langchain.prompts import PromptTemplate"
   ]
  },
  {
   "cell_type": "code",
   "execution_count": 27,
   "metadata": {},
   "outputs": [],
   "source": [
    "# 파일 위치 지정\n",
    "keys_file_path = os.path.join('data', 'api_keys.txt')\n",
    "\n",
    "# 파일에서 API 키를 로드하는 함수\n",
    "def load_api_keys(file_path):\n",
    "    with open(file_path, 'r', encoding='utf-8') as file:\n",
    "        keys = json.load(file)\n",
    "    return keys\n",
    "\n",
    "# API 키 사용\n",
    "api_keys = load_api_keys(keys_file_path)\n",
    "\n",
    "os.environ[\"GOOGLE_CSE_ID\"] = api_keys['google_cse_id']\n",
    "os.environ[\"GOOGLE_API_KEY\"] = api_keys['google_api_key']\n",
    "os.environ['HUGGINGFACEHUB_API_TOKEN'] = api_keys['huggingface_key']"
   ]
  },
  {
   "cell_type": "code",
   "execution_count": 28,
   "metadata": {},
   "outputs": [],
   "source": [
    "## Web search\n",
    "search = GoogleSearchAPIWrapper()\n",
    "\n",
    "tool = Tool(\n",
    "    name=\"google_search\",\n",
    "    description=\"Search Google for recent results.\",\n",
    "    func=search.run,\n",
    ")\n",
    "\n",
    "## Ollama\n",
    "llm = ChatOllama(model=\"llama2:13b\")\n",
    "\n",
    "## CSV Parser\n",
    "output_parser = CommaSeparatedListOutputParser()\n",
    "format_instructions = output_parser.get_format_instructions()"
   ]
  },
  {
   "cell_type": "code",
   "execution_count": 29,
   "metadata": {},
   "outputs": [],
   "source": [
    "# 템플릿 생성\n",
    "template = \"\"\"\n",
    "Information: \n",
    "{information}\n",
    "###\n",
    "Question: \n",
    "{query}\n",
    "###\n",
    "Output format:\n",
    "{format_instructions}\n",
    "###\n",
    "System:\n",
    "{system}\n",
    "\"\"\"\n",
    "\n",
    "prompt = PromptTemplate.from_template(\n",
    "    template=template,\n",
    "    partial_variables={\"format_instructions\":  format_instructions}\n",
    "    )\n",
    "\n",
    "chain = prompt | llm | output_parser"
   ]
  },
  {
   "cell_type": "code",
   "execution_count": 30,
   "metadata": {},
   "outputs": [],
   "source": [
    "# national = \"Korean\"\n",
    "# facet = \"food\" # food, drink, clothing"
   ]
  },
  {
   "cell_type": "code",
   "execution_count": 31,
   "metadata": {},
   "outputs": [
    {
     "name": "stdout",
     "output_type": "stream",
     "text": [
      "Turkish :  ['gozleme', 'imam bayaldi', 'iskender kebab', 'pide', 'menemen', 'inegol kofte', 'manti', 'saksuka', 'guvec', 'mercimek kofte', 'piyaz', 'yaprak dolma', 'baklava', 'borek', 'kisir']\n",
      "Egyptian :  ['mulukhiyah', 'mahshi', 'fatteh', 'koshari', 'medames', 'ful', 'baklava', 'tamiya', 'kofta', 'baba ganoush']\n",
      "Korean :  ['dak galbi', 'tteokbokki', 'jajangmyeon', 'bibimbap', 'japchae', 'mandoo', 'samgyeopsal', 'kimchi']\n",
      "Thai :  ['pad kra pao moo', 'gaeng massaman', 'tom kha gai', 'khao soi', 'som tam', 'khao pad', 'tom yum goong', 'pad thai']\n",
      "Mexican :  ['pozole', 'mole poblano', 'chilaquiles', 'tamales', 'barbacoa', 'chiles en nogada']\n",
      "Spanish :  ['tortilla espaola', 'rabo de toro', 'paella', 'albondigas', 'gazpacho', 'gambas al ajillo', 'pulpo a la gallega']\n",
      "Turkish :  ['ayran', 'rak', 'algam']\n",
      "Egyptian :  ['limn', 'asab', 'fooul', 'mango juice', 'sugarcane juice', 'karkade', 'koshiri']\n",
      "Korean :  ['soju', 'makgeolli', 'dongdongju', 'bokbunja', 'gamhongno', 'maesilju', 'sikhye']\n",
      "Thai :  ['cha yen', 'oliang', 'coconut water', 'nam anchan', 'nam matoom', 'coco yen']\n",
      "Mexican :  ['atole', 'tequila', 'pulque', 'paloma', 'carajillo', 'raicilla', 'pachecada', 'mezcal', 'el pajarete', 'margarita']\n",
      "Spanish :  ['sangria', 'rebujito', 'granizado', 'jerez', 'ratafia', 'rioja', 'queimada', 'cava']\n",
      "Turkish :  ['kars', 'ardahan', 'alvar', 'gmlek', 'ottoman empire', 'eastern anatolia', 'entari', 'abaya']\n",
      "Egyptian :  ['gallebaya', 'shemagh', 'kaftan', 'gallibaya']\n",
      "Korean :  ['hanfu', 'hanbok', 'ming dynasty']\n",
      "Thai :  ['thai dress', 'sabai  sinh', 'amarin', 'zaful', 'philosophy', 'mo hom', 'ruean ton', 'boromphiman', 'raanpahmuang', 'chitralada', 'thailand']\n",
      "Mexican :  ['sarape', 'sombrero', 'huipil', 'blouse']\n",
      "Spanish :  ['chulapos', 'mantilla', 'faldilla', 'peineta', 'traje de chulapa', 'saragell', 'traje de chulapo']\n",
      "{'food': {'Turkish': ['gozleme', 'imam bayaldi', 'iskender kebab', 'pide', 'menemen', 'inegol kofte', 'manti', 'saksuka', 'guvec', 'mercimek kofte', 'piyaz', 'yaprak dolma', 'baklava', 'borek', 'kisir'], 'Egyptian': ['mulukhiyah', 'mahshi', 'fatteh', 'koshari', 'medames', 'ful', 'baklava', 'tamiya', 'kofta', 'baba ganoush'], 'Korean': ['dak galbi', 'tteokbokki', 'jajangmyeon', 'bibimbap', 'japchae', 'mandoo', 'samgyeopsal', 'kimchi'], 'Thai': ['pad kra pao moo', 'gaeng massaman', 'tom kha gai', 'khao soi', 'som tam', 'khao pad', 'tom yum goong', 'pad thai'], 'Mexican': ['pozole', 'mole poblano', 'chilaquiles', 'tamales', 'barbacoa', 'chiles en nogada'], 'Spanish': ['tortilla espaola', 'rabo de toro', 'paella', 'albondigas', 'gazpacho', 'gambas al ajillo', 'pulpo a la gallega']}, 'drink': {'Turkish': ['ayran', 'rak', 'algam'], 'Egyptian': ['limn', 'asab', 'fooul', 'mango juice', 'sugarcane juice', 'karkade', 'koshiri'], 'Korean': ['soju', 'makgeolli', 'dongdongju', 'bokbunja', 'gamhongno', 'maesilju', 'sikhye'], 'Thai': ['cha yen', 'oliang', 'coconut water', 'nam anchan', 'nam matoom', 'coco yen'], 'Mexican': ['atole', 'tequila', 'pulque', 'paloma', 'carajillo', 'raicilla', 'pachecada', 'mezcal', 'el pajarete', 'margarita'], 'Spanish': ['sangria', 'rebujito', 'granizado', 'jerez', 'ratafia', 'rioja', 'queimada', 'cava']}, 'clothing': {'Turkish': ['kars', 'ardahan', 'alvar', 'gmlek', 'ottoman empire', 'eastern anatolia', 'entari', 'abaya'], 'Egyptian': ['gallebaya', 'shemagh', 'kaftan', 'gallibaya'], 'Korean': ['hanfu', 'hanbok', 'ming dynasty'], 'Thai': ['thai dress', 'sabai  sinh', 'amarin', 'zaful', 'philosophy', 'mo hom', 'ruean ton', 'boromphiman', 'raanpahmuang', 'chitralada', 'thailand'], 'Mexican': ['sarape', 'sombrero', 'huipil', 'blouse'], 'Spanish': ['chulapos', 'mantilla', 'faldilla', 'peineta', 'traje de chulapa', 'saragell', 'traje de chulapo']}}\n"
     ]
    }
   ],
   "source": [
    "import re\n",
    "import json\n",
    "\n",
    "national_list = [\"Turkish\", \"Egyptian\", \"Korean\", \"Thai\", \"Mexican\", \"Spanish\"]\n",
    "facet_list = [\"food\", \"drink\", \"clothing\"]\n",
    "\n",
    "# 각 facet에 대한 일반적인 단어 리스트\n",
    "general_terms = {\n",
    "    \"food\": [\"bread\", \"rice\", \"soup\", \"salad\"],\n",
    "    \"drink\": [\"water\", \"coffee\", \"tea\", \"milk\"],\n",
    "    \"clothing\": [\"shirt\", \"pants\", \"dress\", \"shoes\"]\n",
    "}\n",
    "\n",
    "national_keyword_dict = {}\n",
    "\n",
    "for facet in facet_list:\n",
    "    national_keyword_dict[facet] = {}\n",
    "    \n",
    "    for national in national_list:\n",
    "        system_prompt = \"Limit speaking to anything beyond what is asked. !!DO NOT SPEAK SURE!!\"\n",
    "        search_result = tool.run(f\"{national} traditional {facet}\")\n",
    "        \n",
    "        # 일반적인 단어 리스트를 문자열로 변환\n",
    "        general_terms_str = ', '.join(general_terms[facet])\n",
    "        query = f\"Extract proper nouns of traditional {national} {facet} from the provided information. Exclude common {facet} terms such as {general_terms_str}. Provide the names according to the output format and ensure they are specific to {national} culture.\"\n",
    "\n",
    "        # 라마로 키워드 추출\n",
    "        results = set(chain.invoke({\"system\": system_prompt, \"information\": search_result, \"query\": query}))\n",
    "\n",
    "        # 출력된 내용에서 한번 더 후처리\n",
    "        proc_set = set()\n",
    "        for item in results:\n",
    "            # 특수 문자 제거, 소문자 변환, 앞뒤 공백 제거\n",
    "            cleaned_item = re.sub(r'[^a-zA-Z0-9\\n\\s/]', '', item).lower().strip()\n",
    "            # '\\n'이 있는 경우 분할하여 저장\n",
    "            if '\\n' in cleaned_item:\n",
    "                cleaned_item_list = cleaned_item.split('\\n')\n",
    "                for c in cleaned_item_list:\n",
    "                    proc_set.add(c.strip())\n",
    "            else:\n",
    "                proc_set.add(cleaned_item)\n",
    "        # 키워드 길이 0~20까지만 유지\n",
    "        filtered_results = [item for item in proc_set if 0 < len(item) < 20]\n",
    "\n",
    "        national_keyword_dict[facet][national] = filtered_results\n",
    "\n",
    "        print(national, \": \", filtered_results)\n",
    "\n",
    "print(national_keyword_dict)\n",
    "\n",
    "# augment_dict를 JSON 형태의 문자열로 변환합니다.\n",
    "national_keyword_dict_str = json.dumps(national_keyword_dict, ensure_ascii=False, indent=4)\n",
    "\n",
    "# 파일을 쓰기 모드로 엽니다. 'w'를 사용하여 파일이 이미 존재할 경우 내용을 덮어씁니다.\n",
    "with open('national_keyword.json', 'w', encoding='utf-8') as file:\n",
    "    # 변환된 JSON 문자열을 파일에 씁니다.\n",
    "    file.write(national_keyword_dict_str)\n"
   ]
  },
  {
   "cell_type": "markdown",
   "metadata": {},
   "source": [
    "# 여기서부터는 데이터 증강 코드"
   ]
  },
  {
   "cell_type": "code",
   "execution_count": 18,
   "metadata": {},
   "outputs": [
    {
     "name": "stdout",
     "output_type": "stream",
     "text": [
      "{'food': ['The young man is stirring his pot of {national_keyword} with a wooden spoon.', 'A group of people preparing {national_keyword} in a kitchen.', 'A kitchen counter with cutting board, knife and {national_keyword}.', 'A married couple preparing {national_keyword} in a house kitchen.', 'Several people are sitting around an outdoor table eating a {national_keyword}.', 'A man sitting at a table having a {national_keyword}.', 'A plate of {national_keyword} in containers is on a tray.', 'a close up of a few plates of {national_keyword} on a table', '{national_keyword} is served on a plate near a vase.', 'A man sitting at a table with a large plate of {national_keyword} on it.'], 'drink': ['Man in cycling clothes {national_keyword} beside his bicycle.', 'a plate of food on a table next to a {national_keyword}', 'Friends having a {national_keyword} together in the kitchen', 'Women are preparing {national_keyword} for themselves in the kitchen.', 'many people at tables with {national_keyword} and food', 'A guy sitting in front of his laptop with food and {national_keyword}.', 'A refrigerator filled with lots of {national_keyword}.', 'A table topped with plates of food and cups with {national_keyword}.', 'a man holding a {national_keyword} and checking a cell phone', 'The man is drinking a {national_keyword} while looking on his cell phone.'], 'clothing': ['The man in {national_keyword} is in a boat on the television screen.', 'A young male walking wearing {national_keyword} outside.', 'A guy with {national_keyword} is looking at his hand.', 'some {national_keyword} are laying out on a bed', 'two people coming out of a building wearing {national_keyword}', 'A man dressed all in black in {national_keyword}', 'A guy wearing a suit in a {national_keyword} store talking on a cell phone.', 'There is a man standing next to some {national_keyword}.', 'Man in {national_keyword} looking at display of electronic equipment.', 'There is a man that is holding {national_keyword} in his hand']}\n",
      "{'food': {'Turkish': ['mercimek kofte', 'baklava', 'cig borek', 'ezogelin corba', 'gozleme'], 'Egyptian': ['kofta', 'koshari', 'fatteh', 'falafel', 'mulukhiyah'], 'Korean': ['rice cakes', 'pajeon', 'juk', 'japchae', 'hotteok'], 'Thai': ['kao ka moo', 'khao soi', 'yam nua beef salad', 'pad kra pao', 'massaman curry'], 'Mexican': ['elote', 'chiles en nogada', 'gorditas', 'mole poblano', 'chilaquiles'], 'Spanish': ['gazpacho', 'patatas bravas', 'tortilla espaola', 'pollo a la plancha', 'gambas al ajillo', 'paella']}, 'drink': {'Turkish': ['raki', 'ayran', 'algam'], 'Egyptian': ['Tamer Hindi', 'sugarcane juice', 'sobia', 'karkade'], 'Korean': ['gamhongno', 'dongdongju', 'soju', 'maesilju', 'sikhye'], 'Thai': ['nam anchan', 'grass jelly drink', 'oliang', 'nam matoom', 'cha yen'], 'Mexican': ['margarita', 'carajillo', 'el pajarete', 'mezcal', 'paloma'], 'Spanish': ['licor de hierbas', 'horchata', 'cava', 'rioja', 'tinto de verano']}, 'clothing': {'Turkish': ['abaya', 'yelek'], 'Egyptian': ['keffiyeh', 'shemagh', 'kaftan', 'gallibaya'], 'Korean': ['hanbok'], 'Thai': ['pha nung', 'boromphiman', 'ruean ton', 'mo hom', 'pha sin'], 'Mexican': ['tehuana', 'parachico', 'huipil', 'sombrero', 'sarape'], 'Spanish': ['mantilla', 'peineta', 'traje de chulapa', 'catalan dress', 'flamenco dresses']}}\n"
     ]
    }
   ],
   "source": [
    "## 증강할 캡션 문장 로드\n",
    "with open('data/sentences.json', 'r') as f:\n",
    "    sentences = json.load(f)\n",
    "\n",
    "print(sentences)\n",
    "\n",
    "with open('filtered_national_keyword.json', 'r') as f:\n",
    "    national_keyword_dict = json.load(f)\n",
    "\n",
    "print(national_keyword_dict)"
   ]
  },
  {
   "cell_type": "code",
   "execution_count": 21,
   "metadata": {},
   "outputs": [],
   "source": [
    "facet = [\"food\", \"drink\", \"clothing\"]\n",
    "augment_dict = {}\n",
    "\n",
    "for _facet in facet:\n",
    "    augment_dict[_facet] = {}\n",
    "    for sentence in sentences[_facet]:\n",
    "        for national, keywords in national_keyword_dict[_facet].items():\n",
    "            if national not in augment_dict[_facet]:\n",
    "                augment_dict[_facet][national] = {}\n",
    "            for keyword in keywords:      \n",
    "                if keyword not in augment_dict[_facet][national]:\n",
    "                    augment_dict[_facet][national][keyword] = []\n",
    "\n",
    "                augmented_sentence = sentence.format(national_keyword=keyword)\n",
    "                augment_dict[_facet][national][keyword].append(augmented_sentence)\n",
    "\n",
    "# augment_dict를 JSON 형태의 문자열로 변환합니다.\n",
    "augment_dict_str = json.dumps(augment_dict, ensure_ascii=False, indent=4)\n",
    "\n",
    "# 파일을 쓰기 모드로 엽니다. 'w'를 사용하여 파일이 이미 존재할 경우 내용을 덮어씁니다.\n",
    "with open('filtered_augmented_sentences.json', 'w', encoding='utf-8') as file:\n",
    "    # 변환된 JSON 문자열을 파일에 씁니다.\n",
    "    file.write(augment_dict_str)"
   ]
  },
  {
   "cell_type": "code",
   "execution_count": 25,
   "metadata": {},
   "outputs": [
    {
     "name": "stdout",
     "output_type": "stream",
     "text": [
      "800\n"
     ]
    }
   ],
   "source": [
    "total_augmented_size = 0\n",
    "for facet, national in augment_dict.items():\n",
    "    for _national in national:\n",
    "        for keyword in augment_dict[facet][_national].values():\n",
    "            total_augmented_size += len(keyword)\n",
    "\n",
    "print(total_augmented_size) # 증강된 문장 수"
   ]
  }
 ],
 "metadata": {
  "kernelspec": {
   "display_name": "Python 3",
   "language": "python",
   "name": "python3"
  },
  "language_info": {
   "codemirror_mode": {
    "name": "ipython",
    "version": 3
   },
   "file_extension": ".py",
   "mimetype": "text/x-python",
   "name": "python",
   "nbconvert_exporter": "python",
   "pygments_lexer": "ipython3",
   "version": "3.10.14"
  }
 },
 "nbformat": 4,
 "nbformat_minor": 5
}
