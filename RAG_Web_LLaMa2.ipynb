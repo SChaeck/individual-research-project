{
 "cells": [
  {
   "cell_type": "code",
   "execution_count": 2,
   "id": "91849f03-ae86-4d1a-84eb-edb9948acf1d",
   "metadata": {},
   "outputs": [],
   "source": [
    "import json\n",
    "import re"
   ]
  },
  {
   "cell_type": "code",
   "execution_count": 3,
   "id": "70b0e0df-a52c-4b99-a1bc-84649e8228fb",
   "metadata": {},
   "outputs": [],
   "source": [
    "from langchain.tools import DuckDuckGoSearchRun\n",
    "from langchain_community.chat_models import ChatOllama\n",
    "from langchain_core.output_parsers import CommaSeparatedListOutputParser\n",
    "from langchain.prompts import PromptTemplate"
   ]
  },
  {
   "cell_type": "code",
   "execution_count": 4,
   "id": "bad523cf-8d24-4f76-b6ae-83545fd43a7c",
   "metadata": {},
   "outputs": [],
   "source": [
    "## Web search\n",
    "search = DuckDuckGoSearchRun()\n",
    "\n",
    "## Ollama\n",
    "llm = ChatOllama(model=\"llama2\")\n",
    "\n",
    "## CSV Parser\n",
    "output_parser = CommaSeparatedListOutputParser()\n",
    "format_instructions = output_parser.get_format_instructions()"
   ]
  },
  {
   "cell_type": "code",
   "execution_count": 5,
   "id": "e09db4d5",
   "metadata": {},
   "outputs": [],
   "source": [
    "# 템플릿 생성\n",
    "template = \"\"\"\n",
    "Information: \n",
    "{information}\n",
    "###\n",
    "Question: \n",
    "{query}\n",
    "###\n",
    "Output format:\n",
    "{format_instructions}\n",
    "###\n",
    "System:\n",
    "{system}\n",
    "\"\"\"\n",
    "\n",
    "prompt = PromptTemplate.from_template(\n",
    "    template=template,\n",
    "    partial_variables={\"format_instructions\":  format_instructions}\n",
    "    )\n",
    "\n",
    "chain = prompt | llm | output_parser"
   ]
  },
  {
   "cell_type": "code",
   "execution_count": 6,
   "id": "51c9c748",
   "metadata": {},
   "outputs": [],
   "source": [
    "national = \"Korean\"\n",
    "facet = \"food\" # food, drink, clothing"
   ]
  },
  {
   "cell_type": "code",
   "execution_count": 16,
   "id": "8359c8d7",
   "metadata": {},
   "outputs": [
    {
     "name": "stderr",
     "output_type": "stream",
     "text": [
      "c:\\Anaconda3\\envs\\PTLLM\\lib\\asyncio\\events.py:81: UserWarning: Curlm alread closed! quitting from process_data\n",
      "  self._context.run(self._callback, *self._args)\n"
     ]
    }
   ],
   "source": [
    "system_prompt = \"Limit speaking to anything beyond what is asked. !!DO NOT SPEAK SURE!!\"\n",
    "\n",
    "search_result = search.run(f\"{national} traditional {facet}\")\n",
    "# 덕덕고 search 기능 파악 필요\n",
    "\n",
    "query = f\"Find proper nouns of traditional {national} {facet} from 'information' and write them according to the 'output format', excluding names that are general {facet}.\""
   ]
  },
  {
   "cell_type": "code",
   "execution_count": 17,
   "id": "cb896e22",
   "metadata": {},
   "outputs": [
    {
     "name": "stdout",
     "output_type": "stream",
     "text": [
      "1: Chuncheon Dakgalbi - Spicy Stir Fried Chicken. Chuncheon dakgalbi is another of those traditional Korean dishes for those people who love fried meat. This dish combines marinated chicken with vegetables, rice cake (tteok 떡 ), chilli paste sauce, and other spices. You can also add noodles and cheese. 08 of 10. Seollangtang (Korean Ox Bone Soup) Debbi Smirnoff / Getty Images. Ox bone soup is an easy recipe, but it's one that you will simmer all day. Simmering the leg bones for several hours results in a milky-white, rich and meaty soup with garlic, ginger, and noodles. Get the Recipe. Korean cuisine is largely based on rice, vegetables, seafood and (at least in South Korea) meats. Dairy is largely absent from the traditional Korean diet. [3] Traditional Korean meals are named for the number of side dishes ( 반찬; 飯饌; banchan) that accompany steam-cooked short-grain rice. Bibimbap: This Korean lunch-in-a-bowl mixes together a simple salad of rice, mixed vegetables, rice, beef and egg, with sesame oil and a dollop of chili paste for seasoning. LA Galbi (Korean BBQ Short Ribs) 02/10/2024 | 95 Comments. Make Korean BBQ short ribs at home using my tried-and-tested recipe for the perfect galbi marinade. You can grill the marinated short ribs over charcoal, broil them in the oven, or pan-fry. GET THE RECIPE >.\n"
     ]
    }
   ],
   "source": [
    "print(search_result)"
   ]
  },
  {
   "cell_type": "code",
   "execution_count": 19,
   "id": "e61cdd8e",
   "metadata": {},
   "outputs": [
    {
     "name": "stdout",
     "output_type": "stream",
     "text": [
      "1: Chuncheon Dakgalbi - Spicy Stir Fried Chicken. Chuncheon dakgalbi is another of those traditional Korean dishes for those people who love fried meat. This dish combines marinated chicken with vegetables, rice cake (tteok 떡 ), chilli paste sauce, and other spices. You can also add noodles and cheese. 08 of 10. Seollangtang (Korean Ox Bone Soup) Debbi Smirnoff / Getty Images. Ox bone soup is an easy recipe, but it's one that you will simmer all day. Simmering the leg bones for several hours results in a milky-white, rich and meaty soup with garlic, ginger, and noodles. Get the Recipe. Korean cuisine is largely based on rice, vegetables, seafood and (at least in South Korea) meats. Dairy is largely absent from the traditional Korean diet. [3] Traditional Korean meals are named for the number of side dishes ( 반찬; 飯饌; banchan) that accompany steam-cooked short-grain rice. Bibimbap: This Korean lunch-in-a-bowl mixes together a simple salad of rice, mixed vegetables, rice, beef and egg, with sesame oil and a dollop of chili paste for seasoning. LA Galbi (Korean BBQ Short Ribs) 02/10/2024 | 95 Comments. Make Korean BBQ short ribs at home using my tried-and-tested recipe for the perfect galbi marinade. You can grill the marinated short ribs over charcoal, broil them in the oven, or pan-fry. GET THE RECIPE >.\n",
      "\n",
      "{'LA Galbi', 'Chuncheon Dakgalbi', 'Seollangtang'}\n",
      "\n",
      "{'chuncheon dakgalbi', 'la galbi', 'seollangtang'}\n"
     ]
    }
   ],
   "source": [
    "results = set(chain.invoke({\"system\": system_prompt, \"information\": search_result, \"query\": query}))\n",
    "\n",
    "print(search_result)\n",
    "print()\n",
    "print(results)\n",
    "print()\n",
    "\n",
    "# 추가할 항목을 담을 집합을 준비합니다.\n",
    "proc_set = set()\n",
    "\n",
    "for item in results:\n",
    "    # 특수 문자 제거, 소문자 변환, 앞뒤 공백 제거\n",
    "    cleaned_item = re.sub(r'[^a-zA-Z0-9\\n\\s]', '', item).lower().strip()\n",
    "\n",
    "    # '\\n'이 있는 경우 분할하여 저장\n",
    "    if '\\n' in cleaned_item:\n",
    "        cleaned_item_list = cleaned_item.split('\\n')\n",
    "        for c in cleaned_item_list:\n",
    "            proc_set.add(c.strip())\n",
    "    else:\n",
    "        proc_set.add(cleaned_item)\n",
    "\n",
    "# 키워드 길이 0~20까지만 유지\n",
    "filtered_results = {item for item in proc_set if 0 < len(item) < 20}\n",
    "\n",
    "print(filtered_results)"
   ]
  },
  {
   "cell_type": "code",
   "execution_count": 12,
   "id": "6cb9ae5e",
   "metadata": {},
   "outputs": [
    {
     "name": "stdout",
     "output_type": "stream",
     "text": [
      "{'food': ['The young man is stirring his pot of {national_keyword} with a wooden spoon.', 'A group of people preparing {national_keyword} in a kitchen.', 'A kitchen counter with cutting board, knife and {national_keyword}.', 'A married couple preparing {national_keyword} in a house kitchen.', 'Several people are sitting around an outdoor table eating a {national_keyword}.', 'A man sitting at a table having a {national_keyword}.', 'A plate of {national_keyword} in containers is on a tray.', 'a close up of a few plates of {national_keyword} on a table', '{national_keyword} is served on a plate near a vase.', 'A man sitting at a table with a large plate of {national_keyword} on it.'], 'drink': ['Man in cycling clothes {national_keyword} beside his bicycle.', 'a plate of food on a table next to a {national_keyword}', 'Friends having a {national_keyword} together in the kitchen', 'Women are preparing {national_keyword} for themselves in the kitchen.', 'many people at tables with {national_keyword} and food', 'A guy sitting in front of his laptop with food and {national_keyword}.', 'A refrigerator filled with lots of {national_keyword}.', 'A table topped with plates of food and cups with {national_keyword}.', 'a man holding a {national_keyword} and checking a cell phone', 'The man is drinking a {national_keyword} while looking on his cell phone.'], 'clothing': ['The man in {national_keyword} is in a boat on the television screen.', 'A young male walking wearing {national_keyword} outside.', 'A guy with {national_keyword} is looking at his hand.', 'some {national_keyword} are laying out on a bed', 'two people coming out of a building wearing {national_keyword}', 'A man dressed all in black in {national_keyword}', 'A guy wearing a suit in a {national_keyword} store talking on a cell phone.', 'There is a man standing next to some {national_keyword}.', 'Man in {national_keyword} looking at display of electronic equipment.', 'There is a man that is holding {national_keyword} in his hand']}\n"
     ]
    }
   ],
   "source": [
    "## 증강할 캡션 문장 로드\n",
    "with open('data/sentences.json', 'r') as f:\n",
    "    sentences = json.load(f)\n",
    "\n",
    "print(sentences)"
   ]
  },
  {
   "cell_type": "code",
   "execution_count": 13,
   "id": "18fd88a5",
   "metadata": {},
   "outputs": [
    {
     "name": "stdout",
     "output_type": "stream",
     "text": [
      "The young man is stirring his pot of la galbi with a wooden spoon.\n",
      "The young man is stirring his pot of chuncheon dakgalbi with a wooden spoon.\n",
      "The young man is stirring his pot of seollangtang with a wooden spoon.\n",
      "A group of people preparing la galbi in a kitchen.\n",
      "A group of people preparing chuncheon dakgalbi in a kitchen.\n",
      "A group of people preparing seollangtang in a kitchen.\n",
      "A kitchen counter with cutting board, knife and la galbi.\n",
      "A kitchen counter with cutting board, knife and chuncheon dakgalbi.\n",
      "A kitchen counter with cutting board, knife and seollangtang.\n",
      "A married couple preparing la galbi in a house kitchen.\n",
      "A married couple preparing chuncheon dakgalbi in a house kitchen.\n",
      "A married couple preparing seollangtang in a house kitchen.\n",
      "Several people are sitting around an outdoor table eating a la galbi.\n",
      "Several people are sitting around an outdoor table eating a chuncheon dakgalbi.\n",
      "Several people are sitting around an outdoor table eating a seollangtang.\n",
      "A man sitting at a table having a la galbi.\n",
      "A man sitting at a table having a chuncheon dakgalbi.\n",
      "A man sitting at a table having a seollangtang.\n",
      "A plate of la galbi in containers is on a tray.\n",
      "A plate of chuncheon dakgalbi in containers is on a tray.\n",
      "A plate of seollangtang in containers is on a tray.\n",
      "a close up of a few plates of la galbi on a table\n",
      "a close up of a few plates of chuncheon dakgalbi on a table\n",
      "a close up of a few plates of seollangtang on a table\n",
      "la galbi is served on a plate near a vase.\n",
      "chuncheon dakgalbi is served on a plate near a vase.\n",
      "seollangtang is served on a plate near a vase.\n",
      "A man sitting at a table with a large plate of la galbi on it.\n",
      "A man sitting at a table with a large plate of chuncheon dakgalbi on it.\n",
      "A man sitting at a table with a large plate of seollangtang on it.\n"
     ]
    }
   ],
   "source": [
    "for sentence in sentences[facet]:\n",
    "    for result in filtered_results:\n",
    "        augmented_sentence = sentence.format(national_keyword=result)\n",
    "        print(augmented_sentence)\n"
   ]
  },
  {
   "cell_type": "code",
   "execution_count": null,
   "id": "0852de8a",
   "metadata": {},
   "outputs": [],
   "source": []
  }
 ],
 "metadata": {
  "kernelspec": {
   "display_name": "PTLLM",
   "language": "python",
   "name": "python3"
  },
  "language_info": {
   "codemirror_mode": {
    "name": "ipython",
    "version": 3
   },
   "file_extension": ".py",
   "mimetype": "text/x-python",
   "name": "python",
   "nbconvert_exporter": "python",
   "pygments_lexer": "ipython3",
   "version": "3.8.18"
  }
 },
 "nbformat": 4,
 "nbformat_minor": 5
}
