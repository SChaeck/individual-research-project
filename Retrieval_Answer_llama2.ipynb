{
 "cells": [
  {
   "cell_type": "code",
   "execution_count": 1,
   "id": "91849f03-ae86-4d1a-84eb-edb9948acf1d",
   "metadata": {},
   "outputs": [],
   "source": [
    "import os\n",
    "import json"
   ]
  },
  {
   "cell_type": "code",
   "execution_count": 2,
   "id": "70b0e0df-a52c-4b99-a1bc-84649e8228fb",
   "metadata": {},
   "outputs": [],
   "source": [
    "# 파일 위치 지정\n",
    "keys_file_path = os.path.join('data', 'api_keys.txt')\n",
    "\n",
    "# 파일에서 API 키를 로드하는 함수\n",
    "def load_api_keys(file_path):\n",
    "    with open(file_path, 'r', encoding='utf-8') as file:\n",
    "        keys = json.load(file)\n",
    "    return keys\n",
    "\n",
    "# API 키 사용\n",
    "api_keys = load_api_keys(keys_file_path)\n",
    "pinecone_keys = api_keys['pinecone_key1']"
   ]
  },
  {
   "cell_type": "code",
   "execution_count": 6,
   "id": "bad523cf-8d24-4f76-b6ae-83545fd43a7c",
   "metadata": {},
   "outputs": [
    {
     "data": {
      "text/plain": [
       "{'dimension': 384,\n",
       " 'index_fullness': 0.41754,\n",
       " 'namespaces': {'': {'vector_count': 41754}},\n",
       " 'total_vector_count': 41754}"
      ]
     },
     "execution_count": 6,
     "metadata": {},
     "output_type": "execute_result"
    }
   ],
   "source": [
    "from pinecone import Pinecone, ServerlessSpec\n",
    "\n",
    "# Pinecone 연결 및 index 설정\n",
    "pc = Pinecone(api_key=pinecone_keys)\n",
    "index = pc.Index('minilm')\n",
    "\n",
    "index.describe_index_stats()"
   ]
  },
  {
   "cell_type": "code",
   "execution_count": 7,
   "id": "d4c7d7b0",
   "metadata": {},
   "outputs": [],
   "source": [
    "from langchain_community.chat_models import ChatOllama\n",
    "from langchain_core.output_parsers import StrOutputParser\n",
    "from langchain_core.prompts import ChatPromptTemplate\n",
    "\n",
    "# LangChain이 지원하는 다른 채팅 모델을 사용합니다. 여기서는 Ollama를 사용합니다.\n",
    "llm = ChatOllama(model=\"llama2\")"
   ]
  },
  {
   "cell_type": "code",
   "execution_count": 8,
   "id": "e09db4d5",
   "metadata": {},
   "outputs": [],
   "source": [
    "from langchain.prompts import PromptTemplate\n",
    "\n",
    "template = \"\"\"Information: {retrieval}\n",
    "Question: {query}\"\"\"\n",
    "\n",
    "prompt = PromptTemplate.from_template(template=template)"
   ]
  },
  {
   "cell_type": "code",
   "execution_count": 9,
   "id": "6d33a558",
   "metadata": {},
   "outputs": [],
   "source": [
    "# LangChain 표현식 언어 체인 구문을 사용합니다.\n",
    "# LCEL에 대한 자세한 내용은 https://python.langchain.com/docs/expression_language/why 에서 확인할 수 있습니다.\n",
    "chain = prompt | llm | StrOutputParser()"
   ]
  },
  {
   "cell_type": "code",
   "execution_count": 10,
   "id": "eeb35699",
   "metadata": {},
   "outputs": [],
   "source": [
    "query = \"Which country likes tea?\""
   ]
  },
  {
   "cell_type": "code",
   "execution_count": 16,
   "id": "d913e493",
   "metadata": {},
   "outputs": [],
   "source": [
    "from sentence_transformers import SentenceTransformer\n",
    "import numpy as np\n",
    "\n",
    "model = SentenceTransformer('sentence-transformers/all-MiniLM-L6-v2')\n",
    "\n",
    "response = model.encode(query)\n"
   ]
  },
  {
   "cell_type": "code",
   "execution_count": 19,
   "id": "d45179d0",
   "metadata": {},
   "outputs": [],
   "source": [
    "matches = index.query(\n",
    "    vector=response.tolist(),\n",
    "    top_k=3,\n",
    "    include_values=False,\n",
    "    include_metadata=True,\n",
    ")"
   ]
  },
  {
   "cell_type": "code",
   "execution_count": 20,
   "id": "ed9aed9f-4492-4db8-9b97-fb5499c7d861",
   "metadata": {},
   "outputs": [
    {
     "name": "stdout",
     "output_type": "stream",
     "text": [
      "['The countries that are most obsessed with tea are Britain, Russia, Turkey, Iran, and India.', 'The British love their tea, and it is a big part of their culture.', 'The countries that consume the most tea are Ireland, the United Kingdom, Turkey, and Kuwait.']\n"
     ]
    }
   ],
   "source": [
    "# 찾아온 벡터들의 토큰화된 metadata들 다시 이어 붙임\n",
    "assertions_list = [match['metadata']['assertion'].strip() for match in matches['matches']]\n",
    "\n",
    "print(assertions_list)"
   ]
  },
  {
   "cell_type": "code",
   "execution_count": 23,
   "id": "18fd88a5",
   "metadata": {},
   "outputs": [
    {
     "name": "stdout",
     "output_type": "stream",
     "text": [
      "Based on the information provided in the passage, the following countries like tea:\n",
      "\n",
      "1. Britain\n",
      "2. Russia\n",
      "3. Turkey\n",
      "4. Iran\n",
      "5. India\n",
      "\n",
      "So, the answer to your question is: All of these countries like tea.\n"
     ]
    }
   ],
   "source": [
    "result = chain.invoke({\"retrieval\": assertions_list, \"query\":query})\n",
    "print(result)"
   ]
  }
 ],
 "metadata": {
  "kernelspec": {
   "display_name": "PTLLM",
   "language": "python",
   "name": "python3"
  },
  "language_info": {
   "codemirror_mode": {
    "name": "ipython",
    "version": 3
   },
   "file_extension": ".py",
   "mimetype": "text/x-python",
   "name": "python",
   "nbconvert_exporter": "python",
   "pygments_lexer": "ipython3",
   "version": "3.8.18"
  }
 },
 "nbformat": 4,
 "nbformat_minor": 5
}
