{
 "cells": [
  {
   "cell_type": "code",
   "execution_count": 5,
   "id": "91849f03-ae86-4d1a-84eb-edb9948acf1d",
   "metadata": {},
   "outputs": [],
   "source": [
    "import os\n",
    "import json\n",
    "from tqdm import tqdm"
   ]
  },
  {
   "cell_type": "code",
   "execution_count": 6,
   "id": "70b0e0df-a52c-4b99-a1bc-84649e8228fb",
   "metadata": {},
   "outputs": [],
   "source": [
    "# 파일 위치 지정\n",
    "keys_file_path = os.path.join('data', 'api_keys.txt')\n",
    "\n",
    "# 파일에서 API 키를 로드하는 함수\n",
    "def load_api_keys(file_path):\n",
    "    with open(file_path, 'r', encoding='utf-8') as file:\n",
    "        keys = json.load(file)\n",
    "    return keys\n",
    "\n",
    "# API 키 사용\n",
    "api_keys = load_api_keys(keys_file_path)\n",
    "pinecone_keys = api_keys['pinecone_key1']"
   ]
  },
  {
   "cell_type": "code",
   "execution_count": 7,
   "id": "bad523cf-8d24-4f76-b6ae-83545fd43a7c",
   "metadata": {},
   "outputs": [
    {
     "data": {
      "text/plain": [
       "{'dimension': 384,\n",
       " 'index_fullness': 0.41754,\n",
       " 'namespaces': {'': {'vector_count': 41754}},\n",
       " 'total_vector_count': 41754}"
      ]
     },
     "execution_count": 7,
     "metadata": {},
     "output_type": "execute_result"
    }
   ],
   "source": [
    "from pinecone import Pinecone, ServerlessSpec\n",
    "\n",
    "# Pinecone 연결 및 index 설정\n",
    "pc = Pinecone(api_key=pinecone_keys)\n",
    "index = pc.Index('minilm')\n",
    "\n",
    "index.describe_index_stats()"
   ]
  },
  {
   "cell_type": "code",
   "execution_count": 8,
   "id": "814582b9",
   "metadata": {},
   "outputs": [],
   "source": [
    "file_path = os.path.join(os.getcwd(), \"data\", \"processed_data.txt\")\n",
    "\n",
    "# 문장을 저장할 배열 초기화\n",
    "sentences = []\n",
    "\n",
    "# 파일 열기\n",
    "with open(file_path, \"r\", encoding=\"utf-8\") as file:\n",
    "    # 파일의 각 줄을 읽어와 배열에 추가\n",
    "    for line in file:\n",
    "        sentences.append(line.strip())"
   ]
  },
  {
   "cell_type": "code",
   "execution_count": 13,
   "id": "48668358",
   "metadata": {},
   "outputs": [
    {
     "name": "stderr",
     "output_type": "stream",
     "text": [
      "100%|██████████| 186/186 [00:01<00:00, 96.12it/s] \n"
     ]
    },
    {
     "name": "stdout",
     "output_type": "stream",
     "text": [
      "[ 3.11310752e-03 -1.56439617e-02  5.08689322e-02  1.52268374e-04\n",
      " -1.67714953e-02 -2.43715756e-02  4.28456999e-02 -6.47027120e-02\n",
      "  3.78207788e-02 -2.82120947e-02  1.98299158e-02 -5.90517521e-02\n",
      " -3.56922857e-02 -2.47333087e-02 -1.91530194e-02 -1.31397828e-01\n",
      " -1.82549655e-02 -1.22621441e-02 -1.36688203e-02 -9.34328660e-02\n",
      "  1.46321645e-02  2.18940224e-03  3.63208801e-02 -2.29838751e-02\n",
      "  1.04088530e-01  4.17623436e-03  1.18183769e-01  2.40357127e-02\n",
      "  5.30165993e-02  5.28994761e-02  1.07629538e-01  7.27605773e-03\n",
      " -9.59043652e-02 -1.77922398e-02 -5.71395867e-02 -2.48129833e-02\n",
      " -1.59236938e-02  6.53056726e-02 -3.06698177e-02  1.14739798e-02\n",
      " -2.08299793e-02 -1.98709555e-02  1.04911640e-01 -4.63728141e-03\n",
      "  4.30373959e-02  9.54070129e-03 -4.88798656e-02 -8.10768902e-02\n",
      "  8.56835581e-03 -4.16736156e-02 -8.08678120e-02 -3.28446589e-02\n",
      "  5.54848760e-02  2.29463130e-02  4.26597521e-02 -2.31313426e-02\n",
      "  3.42331380e-02  8.57734680e-02 -1.16089091e-03  5.46230525e-02\n",
      " -1.00753181e-01  1.86795536e-02  2.21639257e-02 -3.60025875e-02\n",
      " -2.21237522e-02 -1.45183858e-02  8.24461803e-02  1.57533213e-02\n",
      " -6.43253773e-02  2.47815140e-02  2.78968830e-02  3.11332811e-02\n",
      "  1.28477793e-02  1.04441866e-03 -2.40103230e-02 -3.72017287e-02\n",
      " -3.84560078e-02 -3.66306528e-02 -4.85595465e-02  3.99601012e-02\n",
      " -1.17960200e-02  1.49478272e-01 -1.11328419e-02 -5.78759983e-02\n",
      " -8.64665657e-02 -2.02267673e-02 -7.94980675e-02  2.11013239e-02\n",
      "  9.55752912e-04  7.22936019e-02  5.84088601e-02  4.70006950e-02\n",
      " -2.52102260e-02 -4.49474938e-02  2.16529630e-02  4.92931567e-02\n",
      "  6.33269874e-03 -5.85330371e-03 -8.30569193e-02 -5.03260037e-03\n",
      " -7.56422710e-03  3.91415767e-02 -1.23355621e-02 -2.79438049e-02\n",
      "  5.05248234e-02  4.61970456e-02  5.06034940e-02 -5.00667803e-02\n",
      " -1.06396182e-02  6.44116327e-02  1.99395418e-02  7.76915252e-02\n",
      " -1.04630686e-01 -6.68028668e-02  2.27516554e-02 -4.43419302e-03\n",
      " -2.76234914e-02 -7.27277845e-02 -8.79046693e-02  1.36169242e-02\n",
      "  1.60683505e-02 -8.64487141e-02 -1.24788947e-01  3.71681005e-02\n",
      " -3.44359651e-02 -5.16280755e-02  1.52206961e-02 -5.06235091e-33\n",
      "  2.18918603e-02 -6.37632620e-04  4.73298319e-02  2.47045737e-02\n",
      " -1.60332993e-02  5.71808927e-02  7.89781213e-02 -2.60074772e-02\n",
      "  2.30020918e-02 -2.19627582e-02 -1.02627018e-05  5.43423416e-03\n",
      " -6.85362741e-02  1.69541705e-02 -5.10632992e-02 -6.05214946e-02\n",
      " -3.98329832e-02  4.04438749e-02 -1.45345894e-05 -2.16597971e-02\n",
      " -1.58828422e-02 -1.95702594e-02 -5.26254997e-02 -6.19827993e-02\n",
      " -3.28889415e-02  2.12051943e-02 -9.39992722e-03 -2.50103790e-02\n",
      "  1.45530021e-02 -1.18767759e-02 -3.04468684e-02  3.44693214e-02\n",
      " -7.06024319e-02  5.61875775e-02 -9.76093858e-02 -1.04808651e-01\n",
      " -6.33819923e-02 -1.24241225e-02 -1.14654340e-02 -3.89586352e-02\n",
      " -1.40610139e-03  1.38333309e-02 -5.30602038e-02  1.10677093e-01\n",
      " -1.07582356e-03  5.86882792e-02 -2.87227742e-02 -2.56185909e-03\n",
      "  3.61165665e-02 -3.51091027e-02  5.26759475e-02 -2.15680106e-03\n",
      "  1.35820182e-02 -4.48289402e-02  2.83410233e-02  6.24317117e-02\n",
      "  3.53674516e-02 -2.02825163e-02 -2.94546615e-02  4.86270851e-03\n",
      "  1.18904496e-02  1.26995901e-02 -3.23482491e-02  7.22000450e-02\n",
      "  3.88593897e-02 -5.12413215e-03  2.87081338e-02 -3.81536298e-02\n",
      "  5.95379360e-02  4.58081393e-03 -2.64985627e-03 -1.74929481e-02\n",
      " -1.10686406e-01 -2.29057223e-02 -1.44494837e-02 -6.41381517e-02\n",
      "  4.30608094e-02 -1.35398982e-02  1.55809103e-02  3.26433405e-02\n",
      "  2.11214125e-02 -4.47014570e-02 -4.40146849e-02 -1.73255485e-02\n",
      " -9.29610431e-02  3.87886465e-02 -5.71177527e-02  2.37043370e-02\n",
      "  9.55905840e-02  3.92118618e-02 -4.73335311e-02 -1.18857250e-01\n",
      "  8.04326963e-03  4.66673896e-02 -8.44127089e-02  1.40529468e-33\n",
      "  1.45341400e-02  1.79533344e-02 -3.03352550e-02  9.26581994e-02\n",
      "  4.63950671e-02 -3.82108875e-02  7.27764294e-02  7.58993179e-02\n",
      "  4.39531393e-02 -5.62697910e-02 -2.55510602e-02 -5.23162866e-03\n",
      "  7.15680271e-02 -8.60038307e-03  6.71589340e-04  2.84790769e-02\n",
      " -5.82714118e-02  1.36404112e-01  4.11868095e-02  6.12488650e-02\n",
      "  1.86042991e-02  4.00316641e-02  1.50281861e-02 -3.12365945e-02\n",
      " -5.06518260e-02 -2.32318621e-02  2.79937834e-02  9.07193199e-02\n",
      " -1.07464164e-01  7.64229000e-02  1.53548211e-01 -6.32809997e-02\n",
      "  7.22791478e-02 -5.99005707e-02 -3.95874009e-02 -4.26801331e-02\n",
      "  1.57002558e-03 -1.02842197e-01 -1.90443639e-02 -1.85945500e-02\n",
      "  3.04613430e-02  3.03789843e-02  4.93378751e-02  9.97201577e-02\n",
      " -7.50311911e-02  1.98154207e-02 -4.12022099e-02 -2.81687547e-02\n",
      "  3.16895433e-02 -4.78688776e-02  5.51026985e-02  5.01607871e-03\n",
      "  5.03077731e-02 -7.76863769e-02  1.46711385e-02  1.11375889e-02\n",
      " -6.00976944e-02 -5.75312898e-02  8.52110889e-03 -1.48653816e-02\n",
      " -4.74060141e-02  1.41909318e-02  5.14191836e-02  1.43384933e-02\n",
      "  1.12857781e-02  1.11420518e-02  8.87193531e-02 -4.24358211e-02\n",
      "  7.56531879e-02  1.49857998e-02 -6.60690712e-04  2.32313853e-02\n",
      "  1.08431965e-01 -4.23959311e-04  5.03601395e-02  4.93368246e-02\n",
      "  2.35749204e-02  1.03306239e-02  7.32603371e-02 -7.61435553e-02\n",
      "  4.77914140e-02  2.52053188e-03 -2.40697935e-02 -7.83248991e-02\n",
      " -7.71113113e-02 -5.56474365e-02  4.53761257e-02  4.77231778e-02\n",
      "  2.38342322e-02  5.93542904e-02 -1.67039409e-02 -4.15020958e-02\n",
      " -1.56656699e-03  2.67997328e-02  5.41259460e-02 -1.87939158e-08\n",
      "  4.01745178e-02 -4.80310656e-02 -2.10996661e-02  2.72732098e-02\n",
      "  1.69179477e-02  2.68163998e-02 -4.76511009e-02 -4.75572236e-02\n",
      "  4.92020585e-02  1.27062043e-02  5.84750623e-03  2.70339362e-02\n",
      "  4.13531438e-02  2.66009793e-02 -9.91304871e-03 -8.06159452e-02\n",
      "  3.97138149e-02  3.29815038e-02 -3.70917320e-02  5.73607683e-02\n",
      "  1.24048635e-01  3.18343379e-02  2.78784595e-02 -8.33107606e-02\n",
      "  7.25941062e-02  3.86635475e-02 -6.36477545e-02  8.59921500e-02\n",
      " -6.08147234e-02  7.16571813e-04 -8.99428781e-03 -4.33474593e-02\n",
      " -2.55464613e-02  6.48560449e-02  1.25144236e-03  6.29984587e-02\n",
      " -1.49298131e-01  1.95524748e-02  1.99284609e-02 -8.51333141e-02\n",
      " -6.59079254e-02 -4.40546200e-02 -3.09562348e-02 -4.67353202e-02\n",
      " -6.24766611e-02  6.74341386e-03 -6.04743175e-02  5.87594993e-02\n",
      " -2.72072181e-02  4.03167792e-02 -1.74373742e-02 -3.96811776e-02\n",
      "  3.81715447e-02 -6.08454272e-02  7.27035552e-02 -2.93543818e-03\n",
      " -3.41220410e-03  1.18000418e-01  4.60134856e-02 -4.91859652e-02\n",
      " -2.19238009e-02  9.83784199e-02 -5.18763922e-02  3.54316384e-02]\n"
     ]
    }
   ],
   "source": [
    "from sentence_transformers import SentenceTransformer\n",
    "model = SentenceTransformer('sentence-transformers/all-MiniLM-L6-v2')\n",
    "\n",
    "# Assume sentences is a list of input sentences\n",
    "embedded_sentences = []\n",
    "\n",
    "# Encode each sentence and store the embeddings\n",
    "for sentence in tqdm(sentences):\n",
    "    embedded_sentences.append(model.encode(sentence))\n",
    "\n",
    "print(embedded_sentences[0]) # 186개 문장을 전부 임베딩"
   ]
  },
  {
   "cell_type": "code",
   "execution_count": 14,
   "id": "ab285869",
   "metadata": {},
   "outputs": [
    {
     "name": "stderr",
     "output_type": "stream",
     "text": [
      "100%|██████████| 186/186 [00:47<00:00,  3.89it/s]"
     ]
    },
    {
     "name": "stdout",
     "output_type": "stream",
     "text": [
      "['Koreans usually eat rice with a spoon, which is different from other Asian countries. Koreans use chopsticks and spoons to eat their meals. Stir-frying is a quick and easy way to cook food that is popular in Asian cuisine. Korean chopsticks are typically made of metal, are flat, and have blunt or sharp ends. Korean food is meant to be shared by family and friends, and is often served in large portions.', 'Turkey is known for its spices, which are used in many different ways in Turkish cuisine. Turkish cuisine uses a variety of spices to enhance the flavor of their dishes. Turkish cuisine has a variety of meat dishes that are cooked in different ways. Turkish cuisine features a variety of soups which are often served with Turkish bread. Turkish cuisine is a fusion of Turkish, Arabic, Persian, and American cuisines.', 'The cuisine of Egypt has a long and rich history, with many dishes dating back to ancient times. Ethiopian dishes use many exotic spice blends, which can vary in spice level from mild to hot. He enjoys Italian, French, and Egyptian cuisine. The cuisine of Egypt is a very rich cuisine that has many unique customs. Ethiopian cuisine is characterized by its use of spices, which gives it its characteristic taste.', 'Thai food is eaten with a spoon and fork. Thai cuisine is known for its use of spices. Thai people generally use a fork and spoon to eat, rather than chopsticks. Thai food is characterized by the use of fresh herbs and spices. Thai cooking is a unique and exciting cuisine that is famous for its fragrant, tangy flavours.', 'Mexican dishes are typically filled with spices, which give them their characteristic flavor. Mexican cuisine is a blend of many different cultures and influences. The man simply knows authentic Mexican food. Mexican food is a blend of Spanish and indigenous cuisine. Mexican cuisine is a blend of various European countries food particularly Spanish food.', 'The Spanish kitchen is simple, small, and full of appetizers. Spanish hot chocolate is very thick and is usually served with a spoon. Spanish rice is a popular dish that is easy to make. Spanish cooking is a popular, traditional fare that is liked by almost everyone. Spanish cuisine is a popular cuisine that is different from other cuisines.', 'Korean food typically consists of meat that is grilled or seasoned, often as a small side dish. Korean food is typically spicy, with many dishes being hot and flavorful. Korean food is a diverse cuisine that is not for everyone but can be enjoyed by many. Korean cooking is simple, on trend, flexible, similar, free-form, and can be learned from Maangchi. Korean cuisine is characterized by its many side dishes.', 'Turkish cuisine has a variety of meat dishes that are cooked in different ways. Turkish food is a diverse and delicious cuisine that is becoming more popular all over the world. Turkish cuisine is a fusion of Turkish, Arabic, Persian, and American cuisines. Turkish cuisine has European and Asian influences, and is served for lunch and dinner. Turkish food is known for being healthy, fresh, and enjoyable.', 'He enjoys Italian, French, and Egyptian cuisine. The cuisine of Egypt is a very rich cuisine that has many unique customs. However, Egyptian cuisine maintains its uniqueness with rice and bread remaining staple foods. The cuisine of Egypt has a long and rich history, with many dishes dating back to ancient times. The Egyptian diet includes a lot of macaroni, which is often used to fortify dishes.', 'Thai food is a popular cuisine that is known for being healthy and easy to cook. Thai food is a delicious, nutritious, and versatile cuisine. Thai food is delicious, colorful, and vibrant. Thai cuisine is a delicious, beneficial, and adaptable cuisine that has a character all its own. Thai cooking is a unique and exciting cuisine that is famous for its fragrant, tangy flavours.', 'The man simply knows authentic Mexican food. Mexican food is a cuisine that is enjoyed by many people around the world. Mexican food is a popular cuisine that is enjoyed by many people. Mexican food is delicious. The chefs prepare a variety of Mexican dishes with different flavors.', 'Spanish cooking is a popular, traditional fare that is liked by almost everyone. Spanish cuisine is a diverse and exciting cuisine to explore. Spanish cuisine is a popular cuisine that is different from other cuisines. Food is a central part of Spanish culture, with cuisine playing an essential role in daily life. Spanish food is delicious, healthy, and offered in a vast variety of ways.', 'Korean food is notoriously difficult to make, with many dishes taking a long time to prepare. The dishes are a blend of Korean and Chinese food. Koreans use chopsticks and spoons to eat their meals. Korean food is meant to be shared by family and friends, and is often served in large portions. Korean cuisine uses a wide variety of vegetables and greens.', 'Turkish people have a long-standing culture of passionate food consumption. Turkish cuisine has a variety of meat dishes that are cooked in different ways. Volunteers cook food in a refugee camp for those fleeing Ukraine. Turkish cuisine uses a variety of spices to enhance the flavor of their dishes. The chefs in Denmark are creating new dishes inspired by other cuisines from around the world.', 'In Egypt, people generally have a heavy breakfast that includes beans and eggs. Iranian dishes are characterized by their home cooking culture, where everyone cooks their own food. However, Egyptian cuisine maintains its uniqueness with rice and bread remaining staple foods. Volunteers cook food in a refugee camp for those fleeing Ukraine. The Egyptians had food taboos that prevented them from eating with certain groups of people.', 'Thai cooking classes are a popular activity among tourists in Thailand. Thai food is a popular cuisine that is known for being healthy and easy to cook. In Thailand, food is a big part of the culture and is present everywhere. Thai food is characterized by the use of fresh herbs and spices. Food is a very important part of Thai culture.', 'The chefs prepare a variety of Mexican dishes with different flavors. In Mexico, many vegetables are grown and often cooked with beans or other vegetables. Dinners will feature various Mexican dishes. Mexican food is a blend of Spanish and indigenous cuisine. Mexican food is a cuisine that is enjoyed by many people around the world.', 'The chefs prepare a variety of Mexican dishes with different flavors. The Spanish kitchen is simple, small, and full of appetizers. Spanish cooking is a popular, traditional fare that is liked by almost everyone. The Spanish kitchen is well represented with Spanish colors and themes. The recipe is from Spain.', 'The dishes are a blend of Korean and Chinese food. Koreans use chopsticks and spoons to eat their meals. Koreans use metal chopsticks instead of wooden ones. The European style kitchen is equipped with state of the art equipment and features. The kitchen here focuses on creating splendid European dishes with an Asian spin on it.', 'The European style kitchen is equipped with state of the art equipment and features. The kitchens in these units feature granite countertops and European style cabinetry. Kitchens with European appliances include stainless steel appliances. The most popular Turkish dish is the kebab, which is often eaten on a plate. Turkish cuisine has European and Asian influences, and is served for lunch and dinner.', 'The kitchens in these units feature granite countertops and European style cabinetry. The European style kitchen is equipped with state of the art equipment and features. In an African kitchen, the three stones play an important role. The Egyptian diet includes a lot of macaroni, which is often used to fortify dishes. Kitchens with European appliances include stainless steel appliances.', 'Thai food is eaten with a spoon and fork. A wide variety of Thai and international dishes are available. The European style kitchen is equipped with state of the art equipment and features. The kitchens in these units feature granite countertops and European style cabinetry. The Thai food is good.', 'Dinners will feature various Mexican dishes. The Spanish kitchen is simple, small, and full of appetizers. The food is authentic Mexican. The Kitchen is an American bistro serving real food from American farmers. The Mexican kitchen is a popular subject in many different forms of media.', 'The Spanish kitchen is simple, small, and full of appetizers. The Spanish kitchen is well represented with Spanish colors and themes. The Spanish style kitchen is characterized by its dark cabinets and ornamental surfaces. The European style kitchen is equipped with state of the art equipment and features. There are many popular dishes in Spain that vary by region.', 'The dishes are a blend of Korean and Chinese food. Korean food is meant to be shared by family and friends, and is often served in large portions. Korean food is notoriously difficult to make, with many dishes taking a long time to prepare. Korean food is typically served with rice and a variety of side dishes. Korean cuisine uses a wide variety of vegetables and greens.', 'Russian brides are known for their cooking skills. Turkish cuisine has a variety of meat dishes that are cooked in different ways. Turkish people have a long-standing culture of passionate food consumption. Turkish cuisine uses a variety of spices to enhance the flavor of their dishes. In Turkey, breakfast is a big deal and often a grand affair.', 'In Egypt, people generally have a heavy breakfast that includes beans and eggs. Iranian dishes are characterized by their home cooking culture, where everyone cooks their own food. The vegan couple in LA was seen getting a vegan breakfast together. Egyptian weddings are often arranged, and the wedding is a special ritual for Egyptians. The in-house restaurant serves African cuisine with an exquisite fusion.', 'The Thai food is good. Thais eat a variety of foods for breakfast, including traditional Thai dishes and Western cuisine. The traditional dishes of Thailand are the soups, noodles and curries. Thai cuisine is known for its use of spices. Thai food is a delicious, nutritious, and versatile cuisine.', 'The chefs prepare a variety of Mexican dishes with different flavors. Dinners will feature various Mexican dishes. Mexican women play a big role in domestic life and must know how to prepare food. The chefs in the kitchen have California sensibilities. Middle Eastern food and Mexican food have a lot in common, which makes this recipe a winner.', 'The Spanish kitchen is simple, small, and full of appetizers. The chefs prepare a variety of Mexican dishes with different flavors. The chefs in the kitchen have California sensibilities. The recipe is from Spain. The Spanish kitchen is well represented with Spanish colors and themes.', 'Korean food is meant to be shared by family and friends, and is often served in large portions. Koreans eat it at every meal. Koreans use chopsticks and spoons to eat their meals. Koreans have a long history of eating food from the land and sea. Koreans typically eat rice, soup, and kimchi for breakfast, lunch, and dinner.', 'Turkey dinner is a popular meal that is eaten by many people around the world. Turkish people have a long-standing culture of passionate food consumption. Turkish cuisine has European and Asian influences, and is served for lunch and dinner. Turkish food is amazing and people are very friendly. Turkish food is a diverse and delicious cuisine that is becoming more popular all over the world.', 'Burmese traditionally eat their meals on a low, round table, sitting on a bamboo mat. The Egyptians had food taboos that prevented them from eating with certain groups of people. Afghans traditionally eat meals sitting on the floor. Most Egyptian peasants cannot afford a large meal. Cambodians typically eat their meals with at least three or four separate dishes.', 'Thai people traditionally eat small meals frequently throughout the day, often sitting on the floor. The Thai people typically eat rice with every meal. Thai people love to eat and take pride in their food. Thai food is eaten with a spoon and fork. Thai people drink a lot of water, usually with their meals, and sometimes with ice.', 'Dinners will feature various Mexican dishes. Mexican food is a cuisine that is enjoyed by many people around the world. Mexican food is a popular cuisine enjoyed by many people around the world. In Mexico, meals are an important part of the culture, and vary depending on the region. Dinner at a Mexican restaurant typically includes food, drinks, and sometimes adult beverages.', \"The Spanish dining experience is focused on enjoying the meal with friends and family. Spanish families typically have big, late dinners that are an important part of the culture. In Spain, food is more than just a quick meal--it's an event and an experience. In Argentina, people typically eat dinner later than in other countries. Spaniards tend to eat later than other nationalities.\", 'Korean food is meant to be shared by family and friends, and is often served in large portions. Korean food is typically served with rice and a variety of side dishes. Koreans typically eat rice, soup, and kimchi for breakfast, lunch, and dinner. Lunch is provided daily, and may be traditional Korean food or another style. Korean food is healthy and delicious.', 'Turkish cuisine has European and Asian influences, and is served for lunch and dinner. Turkey dinner is a popular meal that is eaten by many people around the world. Turkish cuisine has a variety of meat dishes that are cooked in different ways. Turks usually prefer a simple breakfast which is a crucial part of their meal. Turkish coffee is traditionally served after a meal.', 'Burmese traditionally eat their meals on a low, round table, sitting on a bamboo mat. Most Egyptian peasants cannot afford a large meal. He enjoys Italian, French, and Egyptian cuisine. Afghans traditionally eat meals sitting on the floor. The cuisine of Egypt has a long and rich history, with many dishes dating back to ancient times.', 'Thai people traditionally eat small meals frequently throughout the day, often sitting on the floor. A Thai buffet lunch is served. Thai food is eaten with a spoon and fork. The Thai people typically eat rice with every meal. The Thai food is good.', 'Dinners will feature various Mexican dishes. Dinner at a Mexican restaurant typically includes food, drinks, and sometimes adult beverages. The man simply knows authentic Mexican food. Mexican food is a cuisine that is enjoyed by many people around the world. In Mexico, meals are an important part of the culture, and vary depending on the region.', \"The Spanish dining experience is focused on enjoying the meal with friends and family. Spanish food is delicious, healthy, and offered in a vast variety of ways. In Spain, dinner is typically served later in the evening, due to eating a late lunch. In Spain, food is more than just a quick meal--it's an event and an experience. Lunch in Spain is a three-course meal typically enjoyed in a Spanish restaurant, bar, or tavern.\", 'The dishes are a blend of Korean and Chinese food. Korean food is typically served with rice and a variety of side dishes. Korean cuisine is characterized by its many side dishes. Korean meals are served with side dishes called banchan. Korean food is meant to be shared by family and friends, and is often served in large portions.', 'The most popular Turkish dish is the kebab, which is often eaten on a plate. Turkish cuisine has a variety of meat dishes that are cooked in different ways. Turkish cuisine has European and Asian influences, and is served for lunch and dinner. Turkish bread is a staple in Turkish culture and is used in many different dishes. The dish is a Turkish or Armenian dish, sometimes known as \"Turkish\" or \"Armenian pizza\".', 'However, Egyptian cuisine maintains its uniqueness with rice and bread remaining staple foods. The cuisine of Egypt has a long and rich history, with many dishes dating back to ancient times. In Egypt, sandwiches are made with any bread and any filling. Bread is a staple food in Egypt and is eaten at almost every meal. The Egyptian diet includes a lot of macaroni, which is often used to fortify dishes.', 'Thai food is eaten with a spoon and fork. A Thai buffet lunch is served. The food is a mix of Vietnamese and Thai cuisine. The staple food in Thailand is rice, which is included in almost every meal. The food is a mix of Chinese, Thai, and other Asian cuisines.', 'Dinners will feature various Mexican dishes. The New Mexican food menu features flavorful dishes from the state. The food is a mix of southern US and Mexican. Mexican food is a cuisine that is enjoyed by many people around the world. Mexican dishes are a popular food choice because they are great for any occasion.', 'The Spanish kitchen is simple, small, and full of appetizers. The cuisine in this area is a fusion of Spanish and Caribbean dishes. Food is a central part of Spanish culture, with cuisine playing an essential role in daily life. Dinners will feature various Mexican dishes. Empanadas are a Spanish dish consisting of a pastry shell filled with meat, cheese, or vegetables.', 'The dishes are a blend of Korean and Chinese food. Korean cuisine is characterized by its many side dishes. Korean food is typically served with rice and a variety of side dishes. Korean meals are served with side dishes called banchan. Korean food is notoriously difficult to make, with many dishes taking a long time to prepare.', 'The most popular Turkish dish is the kebab, which is often eaten on a plate. Turkish cuisine has European and Asian influences, and is served for lunch and dinner. Turkish cuisine has a variety of meat dishes that are cooked in different ways. The dish is sometimes known as \"Turkish\" or \"Armenian pizza\". Turkish cuisine features a variety of soups which are often served with Turkish bread.', 'The cuisine of Egypt has a long and rich history, with many dishes dating back to ancient times. The dishes include Egyptian lamb fattah, Persian chicken and barberry rice. However, Egyptian cuisine maintains its uniqueness with rice and bread remaining staple foods. Bread is a staple food in Egypt and is eaten at almost every meal. Cheese is a popular food in Egypt that has been around for centuries.', 'Thai food is eaten with a spoon and fork. A wide variety of Thai and international dishes are available. The Thai food is good. The dish is Thai taste fully. The staple food in Thailand is rice, which is included in almost every meal.', 'Dinners will feature various Mexican dishes. The food is a mix of southern US and Mexican. Mexican dishes are a popular food choice because they are great for any occasion. Mexican food is a cuisine that is enjoyed by many people around the world. The food is authentic Mexican.', 'There are many popular dishes in Spain that vary by region. The cuisine in this area is a fusion of Spanish and Caribbean dishes. The Spanish kitchen is simple, small, and full of appetizers. Dinners will feature various Mexican dishes. The Spanish dining experience is focused on enjoying the meal with friends and family.', 'The dishes are a blend of Korean and Chinese food. Korean food is typically served with rice and a variety of side dishes. Korean cuisine is characterized by its many side dishes. The dish is a Korean classic. Korean food is meant to be shared by family and friends, and is often served in large portions.', 'The most popular Turkish dish is the kebab, which is often eaten on a plate. The food is a famous recipe in Turkey and Greek. Turkish cuisine has European and Asian influences, and is served for lunch and dinner. The dish is sometimes known as \"Turkish\" or \"Armenian pizza\". The dish is a Turkish or Armenian dish, sometimes known as \"Turkish\" or \"Armenian pizza\".', 'The cuisine of Egypt has a long and rich history, with many dishes dating back to ancient times. Beans are a staple food for Egyptians and are used in many dishes. Bread is a staple food in Egypt and is eaten at almost every meal. The cuisine of Egypt is a very rich cuisine that has many unique customs. However, Egyptian cuisine maintains its uniqueness with rice and bread remaining staple foods.', 'Thai food is eaten with a spoon and fork. A wide variety of Thai and international dishes are available. The dish is Thai taste fully. The Thai food is good. A Thai buffet lunch is served.', 'Dinners will feature various Mexican dishes. The dish is made in Mexico. Mexican dishes are a popular food choice because they are great for any occasion. Mexican food is a cuisine that is enjoyed by many people around the world. The food is a mix of southern US and Mexican.', 'There are many popular dishes in Spain that vary by region. The cuisine in this area is a fusion of Spanish and Caribbean dishes. Spanish cuisine often uses peppers, either chili peppers or pimientos, in many different dishes. The national dish of Spain is a great way to feed a family and enjoy great tasty seafood. Spanish food is delicious, healthy, and offered in a vast variety of ways.', 'Korean food is meant to be shared by family and friends, and is often served in large portions. Korean food is typically served with rice and a variety of side dishes. The dishes are a blend of Korean and Chinese food. Korean meals are served with side dishes called banchan. Korean cuisine is characterized by its many side dishes.', 'Turkish cuisine has European and Asian influences, and is served for lunch and dinner. Turkish cuisine has a variety of meat dishes that are cooked in different ways. The most popular Turkish dish is the kebab, which is often eaten on a plate. Turkish food is a diverse and delicious cuisine that is becoming more popular all over the world. Turkey dinner is a popular meal that is eaten by many people around the world.', 'He enjoys Italian, French, and Egyptian cuisine. The cuisine of Egypt has a long and rich history, with many dishes dating back to ancient times. Bread is a staple food in Egypt and is eaten at almost every meal. Cheese is a popular food in Egypt that has been around for centuries. However, Egyptian cuisine maintains its uniqueness with rice and bread remaining staple foods.', 'Thai food is eaten with a spoon and fork. A Thai buffet lunch is served. The staple food in Thailand is rice, which is included in almost every meal. Thai people traditionally eat small meals frequently throughout the day, often sitting on the floor. The dish is Thai taste fully.', 'The man simply knows authentic Mexican food. Dinners will feature various Mexican dishes. Mexican food is a cuisine that is enjoyed by many people around the world. Dinner at a Mexican restaurant typically includes food, drinks, and sometimes adult beverages. Mexican food is a popular cuisine that is enjoyed by many people.', 'The Spanish dining experience is focused on enjoying the meal with friends and family. The man simply knows authentic Mexican food. Spanish food is delicious, healthy, and offered in a vast variety of ways. Food is a central part of Spanish culture, with cuisine playing an essential role in daily life. Dinners will feature various Mexican dishes.', 'Korea has a high rate of alcohol consumption. Koreans love to drink, and they will often drink in social settings with friends. Korean bars serve the best food with many kinds of liquor, including beer, wine, and whiskey. Korean tea is a popular drink in Korea that is often served with snacks or meals. East Asians have a low tolerance for alcohol, but Koreans appear to have a good tolerance.', 'Turkish coffee is a good option to consider for something different to drink. He is a Belgian beer enthusiast who enjoys trying new styles and brewing his own beer. Turkish coffee is a very popular drink, especially in the Middle East. The Belgians are passionate about their beer and their cycling. The Turks have a long tradition of drinking coffee, dating back centuries.', \"The water in Egypt is safe to drink, but it may not taste good because it is heavily chlorinated. Tea is a vital part of daily life and folk etiquette in Egypt and is the country's national drink. The popular drink lemonade may have originated in medieval Egypt. The man wears an Egyptian style double crown with a scale pattern and LED lights. The Danish man drinks tea.\", 'The best beer to pair with Thai food is a light beer. Thai tea is a delicious drink that is enjoyed by many people. Thai people drink a lot of water, usually with their meals, and sometimes with ice. The water in Thailand is not safe to drink. In Thai tradition, a man can be a monk temporary.', 'The man simply knows authentic Mexican food. Tequila is a Mexican elixir that has many different uses and effects. Tequila is a Mexican liquor that is often enjoyed with Mexican food. Tequila is a very important part of Mexican culture and tradition. Mexican drinks are authentic, unique, and full of flavor.', 'In the Spanish tradition, he was given wine with water at meals. Eating and drinking are a huge part of Spanish culture and are integral to Spanish lifestyle. The South American drink is meant to help fight his illness, he explains. In Italy, coffee is often drunk quickly while standing at a bar. The Spanish are known for their late-night habits of eating, drinking, and partying.', 'The dishes are a blend of Korean and Chinese food. Korean meals are served with side dishes called banchan. Korean cuisine is characterized by its many side dishes. Korean food is typically served with rice and a variety of side dishes. The dish is a Korean classic.', 'Turkish cuisine has European and Asian influences, and is served for lunch and dinner. The most popular Turkish dish is the kebab, which is often eaten on a plate. The dish is sometimes known as \"Turkish\" or \"Armenian pizza\". Turkish food and drink is fantastic, and there is a great variety of both. The dish is a Turkish or Armenian dish, sometimes known as \"Turkish\" or \"Armenian pizza\".', 'The cuisine of Egypt has a long and rich history, with many dishes dating back to ancient times. Cheese is a popular food in Egypt that has been around for centuries. Bread is a staple food in Egypt and is eaten at almost every meal. The dishes include Egyptian lamb fattah, Persian chicken and barberry rice. However, Egyptian cuisine maintains its uniqueness with rice and bread remaining staple foods.', 'Thai food is eaten with a spoon and fork. The dish is Thai taste fully. A Thai buffet lunch is served. The Thai food is good. A wide variety of Thai and international dishes are available.', 'Dinners will feature various Mexican dishes. Dinner at a Mexican restaurant typically includes food, drinks, and sometimes adult beverages. The food is a mix of southern US and Mexican. The food is authentic Mexican. Mexican food is a cuisine that is enjoyed by many people around the world.', 'The meal is influenced by North African and Spanish cuisine. Dinners will feature various Mexican dishes. The cuisine in this area is a fusion of Spanish and Caribbean dishes. The Spanish dining experience is focused on enjoying the meal with friends and family. There are many popular dishes in Spain that vary by region.', 'Koreans love to drink, and they will often drink in social settings with friends. Korean food is meant to be shared by family and friends, and is often served in large portions. Korean BBQ is a fun activity that people can do together, especially when accompanied by a drink. Koreans have a strong coffee culture and love to drink coffee and tea. The dishes are a blend of Korean and Chinese food.', 'Turkish coffee is traditionally served after a meal. Turkish cuisine has European and Asian influences, and is served for lunch and dinner. Turkish food and drink is fantastic, and there is a great variety of both. Turkish tea and coffee are popular in Turkey and are often served together. Turkish coffee is a good option to consider for something different to drink.', 'A Greek, an Irishman, and a Portuguese man go into a bar and order a drink. In Egypt, people drink soda with meals, and children drink three times more soda than milk. During Egyptian Ramadan, Christians join their Muslim friends and neighbors for meals and desserts. Koreans love to drink, and they will often drink in social settings with friends. The popular drink lemonade may have originated in medieval Egypt.', 'The best beer to pair with Thai food is a light beer. Thais celebrate by throwing water at each other. Thais celebrate by throwing water at each other. The Vietnamese love to drink, especially coffee, and they often drink with friends. The Thai food is good.', 'Dinner at a Mexican restaurant typically includes food, drinks, and sometimes adult beverages. Mexicans are known for their love of food and drink, which is evident in their traditional cuisine. Dinners will feature various Mexican dishes. Tequila goes well with Mexican food. Mexicans celebrate with a dinner in the evening, which is often a gathering at a Mexican restaurant.', 'The Spanish dining experience is focused on enjoying the meal with friends and family. Spanish food and drink is very varied and regional. Spaniards often go to bars to socialize, drink, and eat tapas. The Spanish love their gin and tonics and have elevated the simple drink to an art form. Spanish families typically have big, late dinners that are an important part of the culture.', 'Russian women cook delicious dishes that bring their families together. Women in South Asia produce more than half of the food grown worldwide. Koreans have a strong coffee culture and love to drink coffee and tea. Koreans love to drink, and they will often drink in social settings with friends. Korean women are very strong and individualistic.', 'Russian women cook delicious dishes that bring their families together. Turkish coffee is a method of preparing coffee that is very popular in the Middle East. Russian girls are good at cooking. Turkish coffee is traditionally served with a glass of water. Turkish coffee is traditionally served with Turkish delight and chocolate sticks.', 'Many Kenyan women use stones to cook food. Moroccan women take a milk bath before their wedding ceremony to purify themselves. Moroccan women take a milk bath before their wedding ceremony to purify themselves. In South Africa, women transform a tart fruit into a celebrated sour brew. The flowers in Egypt are used to make tea, wine, and martinis.', 'Thai people drink a lot of water, usually with their meals, and sometimes with ice. Thai women are known for their traditional family values and beauty. The Thai flavors are spot on. Thais eat a variety of foods for breakfast, including traditional Thai dishes and Western cuisine. There are many cafes in Thailand with unique styles, and coffee has now evolved into a form of art.', 'Mexican women play a big role in domestic life and must know how to prepare food. The chefs prepare a variety of Mexican dishes with different flavors. In Mexico, women use lemon juice and sugar to make a scrub for the hands. Russian women cook delicious dishes that bring their families together. Mexican women dress in a variety of ways, depending on the occasion.', 'Mexican women play a big role in domestic life and must know how to prepare food. In Mexico, women use lemon juice and sugar to make a scrub for the hands. Russian women cook delicious dishes that bring their families together. The Spaniards were introduced to native fermented drinks such as pulque during the Spanish Conquest. Spanish women are typically beautiful, elegant, and strong.', 'Koreans love to drink, and they will often drink in social settings with friends. Korean food is meant to be shared by family and friends, and is often served in large portions. Korean food is popular at night, with a wide variety of dishes available. Koreans love food and they are always looking for opportunities to enjoy their meals. The dishes are a blend of Korean and Chinese food.', 'Turkish people have a long-standing culture of passionate food consumption. Turkish food is amazing and people are very friendly. Turkish food and drink is fantastic, and there is a great variety of both. Turkish cuisine has European and Asian influences, and is served for lunch and dinner. Turkey and various side dishes will be provided, as well as drinks.', \"In Egypt, people drink soda with meals, and children drink three times more soda than milk. All social classes enjoy quick bites at Egyptian cafes or street vendors. Tea is a vital part of daily life and folk etiquette in Egypt and is the country's national drink. Cheese is a popular food in Egypt that has been around for centuries. Liver is a popular dish in Egypt, served both from street carts and in restaurants.\", 'Thai people drink a lot of water, usually with their meals, and sometimes with ice. The Thai food is good. Food is a very important part of Thai culture. Thais love to snack, and it is a big part of their culture. Thai people love to eat and take pride in their food.', 'Dinner at a Mexican restaurant typically includes food, drinks, and sometimes adult beverages. Dinners will feature various Mexican dishes. Mexicans celebrate with a dinner in the evening, which is often a gathering at a Mexican restaurant. Mexican food is a popular cuisine that is enjoyed by many people. People can enjoy drinks and food at Texas bars and restaurants.', 'The Spanish dining experience is focused on enjoying the meal with friends and family. Spanish families typically have big, late dinners that are an important part of the culture. Spanish food and drink is very varied and regional. Spaniards often go to bars to socialize, drink, and eat tapas. Eating and drinking are a huge part of Spanish culture and are integral to Spanish lifestyle.', 'Korean food is typically served with rice and a variety of side dishes. Korean tea is a popular drink in Korea that is often served with snacks or meals. Korean meals are served with side dishes called banchan. Lunch is provided daily, and may be traditional Korean food or another style. Korean food is healthy and delicious.', 'Turkish coffee is traditionally served after a meal. Turkish food and drink is fantastic, and there is a great variety of both. Turkish tea or coffee is served at the end of a meal, sometimes with pastries. Turkish men sit in sidewalk cafes, sipping tea from small glasses and playing dominoes. Turkish coffee is a good option to consider for something different to drink.', 'He enjoys Italian, French, and Egyptian cuisine. Turkish men sit in sidewalk cafes, sipping tea from small glasses and playing dominoes. Turkish coffee is traditionally served after a meal. Turkish tea or coffee is served at the end of a meal, sometimes with pastries. Turkish food and drink is fantastic, and there is a great variety of both.', 'The Thai food is good. A Thai buffet lunch is served. Thai people traditionally eat small meals frequently throughout the day, often sitting on the floor. Thai food is healthy and delicious. Food is a very important part of Thai culture.', 'The man simply knows authentic Mexican food. Dinner at a Mexican restaurant typically includes food, drinks, and sometimes adult beverages. Dinners will feature various Mexican dishes. The food is authentic Mexican. Mexican dishes include tacos, fajitas, enchiladas, and burritos.', 'In the Spanish tradition, he was given wine with water at meals. The man simply knows authentic Mexican food. Spanish food and drink is very varied and regional. Dinner at a Mexican restaurant typically includes food, drinks, and sometimes adult beverages. The South American drink is meant to help fight his illness, he explains.', 'There are a variety of Korean snacks that are available to try. Korean tea is a popular drink in Korea that is often served with snacks or meals. Korean food is meant to be shared by family and friends, and is often served in large portions. Korean tea is served with snacks, which may be similar to Japanese tea. Korean bars serve the best food with many kinds of liquor, including beer, wine, and whiskey.', 'Turkish coffee is a good option to consider for something different to drink. Turkish coffee is traditionally served with a glass of water. Turkish food and drink is fantastic, and there is a great variety of both. Turkish coffee is traditionally served after a meal. Turkish coffee is a very popular drink, especially in the Middle East.', 'In Egypt, people drink soda with meals, and children drink three times more soda than milk. The flowers in Egypt are used to make tea, wine, and martinis. The popular drink lemonade may have originated in medieval Egypt. A variety of Israeli snacks and drinks will be served. African food and beverages will be available, as well as other refreshments.', 'The Thai food is good. Thai people drink a lot of water, usually with their meals, and sometimes with ice. The Thai iced coffee is a refreshing drink that is enjoyed by many. A wide variety of Thai and international dishes are available. The Thai flavors are spot on.', 'Tequila goes well with Mexican food. Mexican beer and margaritas are available and are good choices. Dinner at a Mexican restaurant typically includes food, drinks, and sometimes adult beverages. Mexican drinks are authentic, unique, and full of flavor. Mexicans drink a lot of soda, beer, and soft drinks, but not always with lime.', 'Spanish food and drink is very varied and regional. In Spain, coffee is a well-loved drink that is quite particular. There is a wide selection of Spanish wines and beers available. The Spanish love their gin and tonics and have elevated the simple drink to an art form. The Spanish make some tasty desserts that are simple and refreshing.', 'The dishes are a blend of Korean and Chinese food. Korean food is typically served with rice and a variety of side dishes. Korean cuisine is characterized by its many side dishes. Korean meals are served with side dishes called banchan. Korean meals traditionally consist of rice, soup, and kimchi, with soup often served as a side dish.', 'Turkish cuisine has European and Asian influences, and is served for lunch and dinner. Turkish coffee is traditionally served after a meal. Turkish food and drink is fantastic, and there is a great variety of both. Turkey is the star of most Thanksgiving tables. Turkish cuisine is a fusion of Turkish, Arabic, Persian, and American cuisines.', 'The cuisine of Egypt has a long and rich history, with many dishes dating back to ancient times. Cheese is a popular food in Egypt that has been around for centuries. The dishes include Egyptian lamb fattah, Persian chicken and barberry rice. The cuisine of Egypt is a very rich cuisine that has many unique customs. In Egypt, sandwiches are made with any bread and any filling.', 'Thai food is eaten with a spoon and fork. The dish is Thai taste fully. A wide variety of Thai and international dishes are available. The Thai food is good. A Thai buffet lunch is served.', 'Dinners will feature various Mexican dishes. Dinner at a Mexican restaurant typically includes food, drinks, and sometimes adult beverages. Mexican food is a cuisine that is enjoyed by many people around the world. Mexican cuisine is a blend of various European countries food particularly Spanish food. The food is authentic Mexican.', 'The Spanish dining experience is focused on enjoying the meal with friends and family. Dinners will feature various Mexican dishes. Spanish food and drink is very varied and regional. Dinner at a Mexican restaurant typically includes food, drinks, and sometimes adult beverages. The cuisine in this area is a fusion of Spanish and Caribbean dishes.', 'Koreans love to drink, and they will often drink in social settings with friends. Korean tea is a popular drink in Korea that is often served with snacks or meals. There are a variety of Korean snacks that are available to try. Korean BBQ is a fun activity that people can do together, especially when accompanied by a drink. Korea has a high rate of alcohol consumption.', 'Never would a Turkish man just waltz up to a lady at a bar and ask for her number. Turkish coffee is a good option to consider for something different to drink. Turkish coffee is traditionally served with a glass of water. Turkish coffee is a delicious and unique coffee drink that is enjoyed by many. Turkish food and drink is fantastic, and there is a great variety of both.', 'The water in Egypt is safe to drink, but it may not taste good because it is heavily chlorinated. Africans have better access to mobile phones than to clean drinking water. Egyptian glass is among the finest of the ancient world and is often used in decorative items. The man wears an Egyptian style double crown with a scale pattern and LED lights. The earliest recordings of alcohol date back to ancient Egypt, where it was used medicinally.', 'Thai tea is a delicious drink that is enjoyed by many people. The best beer to pair with Thai food is a light beer. The Thai food is good. The dish is Thai taste fully. The best Thai food is to be found in Thai \"tin cup\" restaurant\\'s.', 'The man simply knows authentic Mexican food. Tequila goes well with Mexican food. Mexican drinks are authentic, unique, and full of flavor. Mexicans drink a lot of soda, beer, and soft drinks, but not always with lime. Tequila is a Mexican liquor that is often enjoyed with Mexican food.', \"Spanish coffee is a coffee cocktail that is strong and sometimes bitter. There are many Spanish restaurants and tapas bars which offer a variety of Spanish experiences. The Spanish guy's name was announced next. The man simply knows authentic Mexican food. Spanish food and drink is very varied and regional.\", 'Koreans love to drink, and they will often drink in social settings with friends. Korean tea is a popular drink in Korea that is often served with snacks or meals. Korea has a high rate of alcohol consumption. Korean bars serve the best food with many kinds of liquor, including beer, wine, and whiskey. Korean green tea is a popular drink that has been part of Korean culture for centuries.', 'Turkish coffee is a good option to consider for something different to drink. Turkish coffee is a delicious and unique coffee drink that is enjoyed by many. Turkish coffee is a dark, thick, and intense drink that is traditionally very sweet. Turkish coffee is traditionally served with a glass of water. Turkish tea is made using a double tea pot, and is often drunk from clear, tulip-shaped glasses.', \"The water in Egypt is safe to drink, but it may not taste good because it is heavily chlorinated. The popular drink lemonade may have originated in medieval Egypt. Egyptian glass is among the finest of the ancient world and is often used in decorative items. The earliest recordings of alcohol date back to ancient Egypt, where it was used medicinally. Tea is a vital part of daily life and folk etiquette in Egypt and is the country's national drink.\", 'Thai tea is a delicious drink that is enjoyed by many people. The dish is Thai taste fully. The Thai tea is delicious and available in many variations. The Thai iced coffee is a refreshing drink that is enjoyed by many. Thai food has a variety of flavors that cater to many different palates.', 'Mexican drinks are authentic, unique, and full of flavor. The man simply knows authentic Mexican food. Mexican coffee is a popular drink that is known for being balanced and having a good taste. Mexicans drink a lot of soda, beer, and soft drinks, but not always with lime. Tequila is a Mexican liquor that is often enjoyed with Mexican food.', 'Spanish coffee is a coffee cocktail that is strong and sometimes bitter. Spanish food and drink is very varied and regional. There is a wide selection of Spanish wines and beers available. Eating and drinking are a huge part of Spanish culture and are integral to Spanish lifestyle. There are many Spanish restaurants and tapas bars which offer a variety of Spanish experiences.', 'Koreans love karaoke, and at every meal, the TV was turned on with the Korean karaoke lines. The traditional Korean dress is called a jeorgori, and consists of a shirt and pants. Koreans are known for their custom of wearing white clothing. The dish is a Korean classic. Korean soybean paste is a popular ingredient in many Korean dishes.', 'The traditional gulet is a beautiful boat that is a part of Turkish history and culture. The food on the ship is a mix of Indonesian and European cuisine. The traditional Turkish gulet is a beautiful and historic ship that is still manufactured in Turkey. The Turkish bath is an important part of Turkish life and culture. Turkish gulets are traditional sailing boats that have a unique Turkish traditional design.', 'The ancient Egyptian funerary boat is a wooden model found in Egypt. The man wears an Egyptian style double crown with a scale pattern and LED lights. Ancient Egyptian boats were unique and still sailed across Egypt today. The body of the Egyptian man is being flown to Egypt for burial later this week. Egypt is a country located along the Nile River.', 'The traditional Thai long-tail boat is a large open bowed boat made of teak wood. Fish sauce is a staple ingredient in Thai cuisine. Pad Thai is a popular dish in Thailand that comes in many different forms. The traditional long-tail boats of Thailand line the shore at Krabi. Food is a very important part of Thai culture.', \"The man simply knows authentic Mexican food. Mexican blouses are a type of clothing that are hand embroidered and often worn by peasants. Mexican food is a blend of Spanish and indigenous cuisine. The Spanish guy's name was announced next. Mexican culture is rich and varied.\", 'The Spanish guy\\'s name was announced next. Spanish wines are wines produced in Spain. The best wine to pair with Spanish food is a dry Spanish red wine like Grenache or Tempranillo. The Spanish-based wine is known to have way less calories than most wine. The Spanish style \"hacienda\" has unimpeded sea views.', 'Koreans are known for their custom of wearing white clothing. Korean fashion is popular for being cheap, fast, and trendy. Korean fashion is characterized by bright colors, bold patterns, and a contrast of white and black. The traditional Korean dress is called a jeorgori, and consists of a shirt and pants. Korean and Japanese style clothing is very popular, especially in Asia.', \"The Lycian Way is Turkey's first and most popular long distance walking route. The Turk in European clothes is welcomed warmly by the clerics. In Turkey, modest dress is expected in mosques. Turkey is a land of textiles with a long history of production in various traditional sectors. The Turkish costume is a two-piece costume which exposes the abdominal area of a belly dancer.\", 'The climate in Egypt is hot and dry, so people wear lightweight clothes that keep them cool. Tradition says he was born in Patara, a seaport, and traveled to Egypt and Palestine as a young man. Dress is an important part of respect in Egypt, and it is advisable to dress conservatively. Egyptian dance is a unique style with authentic movements. The ancient Egyptians wore linen clothing due to the hot climate of the region.', 'In Thai tradition, a man can be a monk temporary. Thai massage is a clothed massage that is done without oil and in loose clothing. Thai fabrics are unique and popular for their beautiful silk textiles. The coat is created at Thailand. Thais generally do not go on foot, and consider feet to be unclean.', 'The Baja jacket is a Mexican hooded shirt which is very popular among Mexican and American youth. The man simply knows authentic Mexican food. Mexican blouses are a type of clothing that are hand embroidered and often worn by peasants. The food is authentic Mexican. Mexicans wear sombreros.', \"The Spanish Steps are a popular tourist destination with a long history. The Baja jacket is a Mexican hooded shirt which is very popular among Mexican and American youth. The Spanish guy's name was announced next. The Spanish Steps dress is a camel and beige dress that is a few steps away from Via del Corso. The Spanish words for blouse, shirt, and jackets are blusa, camisa, and chaqueta, respectively.\", 'Koreans are known for their custom of wearing white clothing. The traditional Korean dress is called a jeorgori, and consists of a shirt and pants. Korean couples often dress alike, in coordinating clothes, usually with the same print or color. Korean fashion is characterized by bright colors, bold patterns, and a contrast of white and black. Korean men are very picky about the girls and it has its impact on their dating choices.', 'The Turk plays with his left arm and left hand. Turkish men are romantic and care about their loved ones. The traditional Turkish color/direction scheme seems to match the Turkish one. Never would a Turkish man just waltz up to a lady at a bar and ask for her number. The Turk in European clothes is welcomed warmly by the clerics.', 'The man wears an Egyptian style double crown with a scale pattern and LED lights. The hand is a popular symbol in Middle Eastern countries and is found in many religions. In the Middle East, the left hand is customarily used for handling bodily hygiene. In the Middle East, the left hand is customarily used for handling bodily hygiene. Egyptian tattoos are beautiful and striking images from the ancient past.', 'Traditional Thai massage and Bodywork is performed with the client fully clothed. In Thai tradition, a man can be a monk temporary. Traditional Thai tattoos are often religious symbols or designs. Thai massage is a clothed massage that is done without oil and in loose clothing. Thai silk is a luxurious gift with subtle luster.', 'The man simply knows authentic Mexican food. Mexican blouses are a type of clothing that are hand embroidered and often worn by peasants. The food is authentic Mexican. The Mexican handicraft is connected to ceremonial events and often has spiritual meanings behind it. Mexican tattoos are symbolic and form an important part of the Mexican culture.', \"The Spanish guy's name was announced next. Spanish hand washing songs are a good way to get more language into a day and cleaner hands. The Spanish sword is intricate and features Spanish detailing along the hilt, guard, and pommel. The Spanish coat of arms is divided in the same fashion used by other European countries. The Spanish hand fan is known as an abanico and it's much more than just a decoration.\", 'Koreans often sleep on the floor, sitting or lying down. Koreans often sleep on the floor, due to their cultural preference. The bed pillows are covered with the fabric from a Burmese longyi. The beds in the bedroom are dressed with Egyptian cotton sheets and a down duvet. Koreans are known for their custom of wearing white clothing.', 'The bed pillows are covered with the fabric from a Burmese longyi. Turkish pillows are made from vintage kilim rugs and are one of a kind. The beds in the bedroom are dressed with Egyptian cotton sheets and a down duvet. The beds are all dressed in Egyptian cotton, with some also having linens, throws, and blankets. Turkish towels are made of authentic Turkish cotton and are adorned with fringes on the edges.', 'The beds are all dressed in Egyptian cotton, with some also having linens, throws, and blankets. The beds in the bedroom are dressed with Egyptian cotton sheets and a down duvet. The beds are adorned with Egyptian cotton linen and soft throws. The rooms all have individually embroidered bed linen made from Egyptian cotton. Egyptian cotton sheets are soft, durable, and of high quality.', 'The bed pillows are covered with the fabric from a Burmese longyi. Thai pillows are made in a rural environment in Northeast Thailand (Isaan). Traditional Thai bodywork is typically done on a floor mat, clothed without the use of oil. Thai fabrics are unique and popular for their beautiful silk textiles. The beds in the bedroom are dressed with Egyptian cotton sheets and a down duvet.', 'Traditional Mexican blankets are woven by hand with natural fibers, such as cotton and wool. The beds in the bedroom are dressed with Egyptian cotton sheets and a down duvet. The beds are all dressed in Egyptian cotton, with some also having linens, throws, and blankets. The bed pillows are covered with the fabric from a Burmese longyi. The beds are adorned with Egyptian cotton linen and soft throws.', 'The beds in the bedroom are dressed with Egyptian cotton sheets and a down duvet. Traditional Mexican blankets are woven by hand with natural fibers, such as cotton and wool. The beds are all dressed in Egyptian cotton, with some also having linens, throws, and blankets. The bed pillows are covered with the fabric from a Burmese longyi. The bed and headboard are draped with Moroccan wedding blankets.', 'Korean couples often dress alike, in coordinating clothes, usually with the same print or color. Koreans are known for their custom of wearing white clothing. In Korean homes, the floor is typically heated to keep people warm. Koreans remove their shoes before entering a home or office. Koreans generally remove their shoes before entering a home or office.', 'The Turk in European clothes is welcomed warmly by the clerics. Many buildings display the Turkish flag to celebrate this day. Traditional Turkish houses are beautiful and have original artefacts inside. The rooms are decorated with traditional Turkish carpets and artefacts. The Turkish room at the Hotel Djem is decorated with traditional Turkish fabrics and furniture.', 'The climate in Egypt is hot and dry, so people wear lightweight clothes that keep them cool. Egyptian students are presented to audiences in Egyptian attire. Both men and women in ancient Egypt wore jewelry and decorated their clothing. Egyptian architecture is well designed and carefully planned. Egyptian doors are unique and have classical and Egyptian features.', 'Thai people take off their shoes before entering a house to show respect. Thais build little hosues outside their buildings for the spirits to live in. Thais greet each other with a prayer-like gesture called a \"wai\". The Thai dress is usually modest and it is a big part of their culture. Each room in the hotel is decorated in a traditional Thai style.', 'Mexicans wear sombreros. Mexican customs involve meeting new people and timing. The walls in the house are decorated with Mexican-themed items. Mexicans have been gathering in the plaza for centuries. Mexican blouses are a type of clothing that are hand embroidered and often worn by peasants.', 'Spanish people are proud of their heritage and culture. Spanish houses are typically painted white. Spanish people greet each other with two kisses, one on each cheek. The houses in Spain are high and designed in the Spanish style. At midnight, the streets of Madrid, Spain are packed as tightly as chorizo with people.', 'Korean fashion is characterized by bright colors, bold patterns, and a contrast of white and black. Koreans are known for their custom of wearing white clothing. Korean couples often dress alike, in coordinating clothes, usually with the same print or color. The traditional Korean dress is called a jeorgori, and consists of a shirt and pants. The Korean culture is very diverse and has many unique elements.', 'In Saudi Arabia, black people are called takruni and women wear dark clothes like black. Turkish coffee is a type of coffee that is strong and black, made with pulverized coffee. The traditional Turkish color/direction scheme seems to match the Turkish one. The Turk in European clothes is welcomed warmly by the clerics. Turkish men are romantic and care about their loved ones.', 'The man wears an Egyptian style double crown with a scale pattern and LED lights. A man of the Tuareg people of North Africa wears a tagelmust or turban dyed with indigo. The climate in Egypt is hot and dry, so people wear lightweight clothes that keep them cool. Egyptian students are presented to audiences in Egyptian attire. Dress is an important part of respect in Egypt, and it is advisable to dress conservatively.', 'The Thai people will continue to wear black and white clothes to mourn the death of their King. In Thai culture, each day of the week has its own color associated with it. In Thai culture, each day of the week has its own color associated with it. In Saudi Arabia, black people are called takruni and women wear dark clothes like black. The Thai dress is usually modest and it is a big part of their culture.', 'The man simply knows authentic Mexican food. The offender was described as a male/Asian or male/Hispanic, wearing all black clothing. Black beans are a popular ingredient in Mexican and Latin American cuisine. Black beans are a popular ingredient in Mexican and Latin American cuisine. Mexican blouses are a type of clothing that are hand embroidered and often worn by peasants.', \"The Spanish guy's name was announced next. The offender was described as a male/Asian or male/Hispanic, wearing all black clothing. The bride traditionally wears black in Spain to symbolize her devotion to her husband until death. The Caribbean Spanish word cotisuelto means a man who decides to wear untucked shirt tails. The black Spanish radish is a type of radish that is black with a white, spicy flesh.\", 'The traditional Korean dress is called a jeorgori, and consists of a shirt and pants. Koreans are known for their custom of wearing white clothing. Korean couples often dress alike, in coordinating clothes, usually with the same print or color. Dress has printed design to resemble the British phone booth, knee length. Korean fashion is popular for being cheap, fast, and trendy.', 'Pakistani suits are a type of clothing that are loose, airy, and generally long and flowy. A man enters a tailor in ancient Greece. Never would a Turkish man just waltz up to a lady at a bar and ask for her number. The Punjabi suit is a traditional Indian garment that is now popular in other regions of the world. Dress has printed design to resemble the British phone booth, knee length.', 'Dress has printed design to resemble the British phone booth, knee length. A man walks through a grocery store in Bridgeport, Connecticut. Ancient Egyptian often used resin as a perfume. A man enters a tailor in ancient Greece. The African Minutes phone card is the card to use when calling most African countries from the US.', 'Thai silk is a luxurious gift with subtle luster. Pakistani suits are a type of clothing that are loose, airy, and generally long and flowy. Traditional Thai massage and Bodywork is performed with the client fully clothed. Thai fabrics are unique and popular for their beautiful silk textiles. The Thai dress is usually modest and it is a big part of their culture.', \"The man simply knows authentic Mexican food. The Spanish guy's name was announced next. Mexican blouses are a type of clothing that are hand embroidered and often worn by peasants. Mexican customs involve meeting new people and timing. A Yankee walks into a bar in Alabama and orders a cosmopolitan.\", \"The Spanish guy's name was announced next. The man simply knows authentic Mexican food. A Yankee walks into a bar in Alabama and orders a cosmopolitan. The Spanish words for blouse, shirt, and jackets are blusa, camisa, and chaqueta, respectively. The European suit is a slim, modern style that is popular in continental Europe.\", 'Koreans are known for their custom of wearing white clothing. The traditional Korean dress is called a jeorgori, and consists of a shirt and pants. Korean couples often dress alike, in coordinating clothes, usually with the same print or color. Korean fashion is popular for being cheap, fast, and trendy. Korean and Japanese style clothing is very popular, especially in Asia.', 'The Turk in European clothes is welcomed warmly by the clerics. Turkey is a land of textiles with a long history of production in various traditional sectors. Turkish men are romantic and care about their loved ones. Turkish folk dances, music, and art are integral parts of Turkish culture. The mosques in Turkey are of the Ottoman style, which is a symbol of Turkish pride.', 'The climate in Egypt is hot and dry, so people wear lightweight clothes that keep them cool. The man wears an Egyptian style double crown with a scale pattern and LED lights. Dress is an important part of respect in Egypt, and it is advisable to dress conservatively. Egyptian cotton is a type of cotton that is grown in Egypt. Egyptian art often shows pharaohs as divine figures.', 'Thai fabrics are unique and popular for their beautiful silk textiles. Thai culture is different from Western culture in that it is vertical. The Thai dress is usually modest and it is a big part of their culture. In Thai tradition, a man can be a monk temporary. Traditional Thai bodywork is typically done on a floor mat, clothed without the use of oil.', 'The man simply knows authentic Mexican food. Mexican blouses are a type of clothing that are hand embroidered and often worn by peasants. Mexicans wear sombreros. The food is authentic Mexican. Mexican food is a blend of Spanish and indigenous cuisine.', \"The Spanish guy's name was announced next. The Spanish words for blouse, shirt, and jackets are blusa, camisa, and chaqueta, respectively. Spanish people are proud of their heritage and culture. The Caribbean Spanish word cotisuelto means a man who decides to wear untucked shirt tails. The Spanish characters/letters are printed underneath protective coat.\", 'Koreans are known for their custom of wearing white clothing. The traditional Korean dress is called a jeorgori, and consists of a shirt and pants. Korean fashion is characterized by bright colors, bold patterns, and a contrast of white and black. Korean couples often dress alike, in coordinating clothes, usually with the same print or color. Traditional print tops custom: Korean embroider.', 'In Russia, clothes are a sign of personal and content standing, and an indication of status. The Turk in European clothes is welcomed warmly by the clerics. New clothes worn on Eid are referred to as bayramlik in Turkey. It is generally agreed that American men are alarmed by clothes and shopping. The Turkish costume is a two-piece costume which exposes the abdominal area of a belly dancer.', \"The man wears an Egyptian style double crown with a scale pattern and LED lights. Egyptian students are presented to audiences in Egyptian attire. The items displayed are described as being 'the oldest' papyruses in Egypt. Both men and women in ancient Egypt wore jewelry and decorated their clothing. Egypt's electronic extravaganza starts when the sun goes down.\", 'Traditional Thai massage and Bodywork is performed with the client fully clothed. Thai amulets are special Buddha images that are often worn around the neck by Thais in Thailand. Thai fabrics are unique and popular for their beautiful silk textiles. A wide variety of Thai and international dishes are available. Traditional Thai bodywork is typically done on a floor mat, clothed without the use of oil.', \"The man simply knows authentic Mexican food. Mexican blouses are a type of clothing that are hand embroidered and often worn by peasants. It is generally agreed that American men are alarmed by clothes and shopping. The display will feature food from countries such as Brazil, Colombia, Mexico, Venezuela and Panama. Resplendent in ethnic style, this backpack displays Peru's textile legacy.\", \"Resplendent in ethnic style, this backpack displays Peru's textile legacy. It is generally agreed that American men are alarmed by clothes and shopping. The man simply knows authentic Mexican food. The Spanish words for blouse, shirt, and jackets are blusa, camisa, and chaqueta, respectively. The Spanish guy's name was announced next.\", 'Koreans are known for their custom of wearing white clothing. The traditional Korean dress is called a jeorgori, and consists of a shirt and pants. Korean couples often dress alike, in coordinating clothes, usually with the same print or color. Traditional Korean instruments are used in Korean rituals. Korean calligraphy is an art of writing Hangul and Hanja.', 'Turkey is a land of textiles with a long history of production in various traditional sectors. Turkish men are romantic and care about their loved ones. Turkish towels are made of authentic Turkish cotton and are adorned with fringes on the edges. Ankara cloth is popular among African countries for its unique African patterns and motifs. The Turk plays with his left arm and left hand.', 'The man wears an Egyptian style double crown with a scale pattern and LED lights. Egyptian cotton is a luxurious, breathable, and absorbent fabric that is strong and durable. Egyptian cotton is a type of cotton that is grown in Egypt. The body of the Egyptian man is being flown to Egypt for burial later this week. Egyptian cotton is known for its long, thin fibers and high thread count.', 'Thai fabrics are unique and popular for their beautiful silk textiles. In Thai tradition, a man can be a monk temporary. Traditional Thai bodywork is typically done on a floor mat, clothed without the use of oil. Thai brocade is a type of fabric that is known for its unique, colorful, and durable motifs. Thai massage is a clothed massage that is done without oil and in loose clothing.', \"Mexican blouses are a type of clothing that are hand embroidered and often worn by peasants. The man simply knows authentic Mexican food. Traditional Mexican blankets are woven by hand with natural fibers, such as cotton and wool. Hand-woven products from Mexico are some of the country's most well-known and popular crafts. The Mexican handicraft is connected to ceremonial events and often has spiritual meanings behind it.\", 'Spanish hand washing songs are a good way to get more language into a day and cleaner hands. The Spanish sword is intricate and features Spanish detailing along the hilt, guard, and pommel. The Spanish flag is a popular design for clothing, especially dog collars and ties. The Spanish mantilla veil is a traditional garment worn by brides in Spain and Mexico. Mexican blouses are a type of clothing that are hand embroidered and often worn by peasants.']\n"
     ]
    },
    {
     "name": "stderr",
     "output_type": "stream",
     "text": [
      "\n"
     ]
    }
   ],
   "source": [
    "# Initialize an empty list to collect all retrieved assertions\n",
    "all_assertions = []\n",
    "\n",
    "# Loop through each encoded sentence and query the index for matches\n",
    "for i, encoded_sentence in enumerate(tqdm(embedded_sentences)):\n",
    "    # Query the index using the current encoded sentence\n",
    "    matches = index.query(\n",
    "        vector=encoded_sentence.tolist(),\n",
    "        top_k=5,  # Adjust the number of matches to retrieve as needed\n",
    "        include_values=False,\n",
    "        include_metadata=True,\n",
    "    )\n",
    "    \n",
    "    # Extract the assertions metadata from each match\n",
    "    assertions_list = [match['metadata']['assertion'].strip() for match in matches['matches']]\n",
    "\n",
    "    # Collect all results in the overall list\n",
    "    all_assertions.append(' '.join(assertions_list))\n",
    "\n",
    "# If you want to store or process the combined assertions list\n",
    "print(all_assertions)"
   ]
  },
  {
   "cell_type": "code",
   "execution_count": 15,
   "id": "c0d55636",
   "metadata": {},
   "outputs": [
    {
     "name": "stdout",
     "output_type": "stream",
     "text": [
      "['The staple food of Korea is rice.', 'Korea is a great place for food with many unique and delicious options.', 'Korean food is healthy and delicious.', 'Korea is a country with a rich culture and cuisine, with a variety of traditional and modern dishes.', 'Korean food is delicious and affordable.']\n"
     ]
    }
   ],
   "source": [
    "sentence = model.encode(\"korea famous food\")\n",
    "\n",
    "matches = index.query(\n",
    "    vector=sentence.tolist(),\n",
    "    top_k=5,  # Adjust the number of matches to retrieve as needed\n",
    "    include_values=False,\n",
    "    include_metadata=True,\n",
    ")\n",
    "\n",
    "# Extract the assertions metadata from each match\n",
    "assertions_list = [match['metadata']['assertion'].strip() for match in matches['matches']]\n",
    "print(assertions_list)"
   ]
  },
  {
   "cell_type": "code",
   "execution_count": 16,
   "id": "7c695143",
   "metadata": {},
   "outputs": [
    {
     "data": {
      "text/plain": [
       "186"
      ]
     },
     "execution_count": 16,
     "metadata": {},
     "output_type": "execute_result"
    }
   ],
   "source": [
    "len(all_assertions)"
   ]
  },
  {
   "cell_type": "code",
   "execution_count": 17,
   "id": "d4c7d7b0",
   "metadata": {},
   "outputs": [],
   "source": [
    "from langchain_community.chat_models import ChatOllama\n",
    "from langchain_core.output_parsers import StrOutputParser\n",
    "\n",
    "# LangChain이 지원하는 다른 채팅 모델을 사용합니다. 여기서는 Ollama를 사용합니다.\n",
    "llm = ChatOllama(model=\"llama2\")"
   ]
  },
  {
   "cell_type": "code",
   "execution_count": 18,
   "id": "e09db4d5",
   "metadata": {},
   "outputs": [],
   "source": [
    "from langchain.prompts import PromptTemplate\n",
    "\n",
    "template = \"\"\"Information: {retrieval}\n",
    "Question: {query}\"\"\"\n",
    "\n",
    "prompt = PromptTemplate.from_template(template=template)"
   ]
  },
  {
   "cell_type": "code",
   "execution_count": 19,
   "id": "6d33a558",
   "metadata": {},
   "outputs": [],
   "source": [
    "# LangChain 표현식 언어 체인 구문을 사용합니다.\n",
    "# LCEL에 대한 자세한 내용은 https://python.langchain.com/docs/expression_language/why 에서 확인할 수 있습니다.\n",
    "chain = prompt | llm | StrOutputParser()"
   ]
  },
  {
   "cell_type": "code",
   "execution_count": 20,
   "id": "cc937a12",
   "metadata": {},
   "outputs": [],
   "source": [
    "query = \"Just answer the questions and don't say anything else. \\n### Reconstruct the first as the main sentence, using the rest as supporting information, into 2-3 sentences.\""
   ]
  },
  {
   "cell_type": "code",
   "execution_count": 21,
   "id": "18fd88a5",
   "metadata": {},
   "outputs": [
    {
     "name": "stderr",
     "output_type": "stream",
     "text": [
      " 20%|██        | 1/5 [00:07<00:31,  7.98s/it]"
     ]
    },
    {
     "name": "stdout",
     "output_type": "stream",
     "text": [
      "retrieval: ('The young man is stirring his pot of korean food with a wooden spoon.', 'Koreans usually eat rice with a spoon, which is different from other Asian countries. Koreans use chopsticks and spoons to eat their meals. Stir-frying is a quick and easy way to cook food that is popular in Asian cuisine. Korean chopsticks are typically made of metal, are flat, and have blunt or sharp ends. Korean food is meant to be shared by family and friends, and is often served in large portions.')\n",
      "reulst: Sure! Here is a reconstructed version of the text that answers your request:\n",
      "\n",
      "The young man is stirring his pot of Korean food with a wooden spoon, which is a common practice in Korean cuisine. Koreans typically use chopsticks and spoons to eat their meals, and stir-frying is a popular cooking method in Asian cuisine. The Korean chopsticks are made of metal and have blunt or sharp ends, which are designed for ease of use and comfort during meals.\n",
      "############################\n",
      "\n"
     ]
    },
    {
     "name": "stderr",
     "output_type": "stream",
     "text": [
      " 40%|████      | 2/5 [00:12<00:17,  5.70s/it]"
     ]
    },
    {
     "name": "stdout",
     "output_type": "stream",
     "text": [
      "retrieval: ('The young man is stirring his pot of turkish food with a wooden spoon.', 'Turkey is known for its spices, which are used in many different ways in Turkish cuisine. Turkish cuisine uses a variety of spices to enhance the flavor of their dishes. Turkish cuisine has a variety of meat dishes that are cooked in different ways. Turkish cuisine features a variety of soups which are often served with Turkish bread. Turkish cuisine is a fusion of Turkish, Arabic, Persian, and American cuisines.')\n",
      "reulst: Sure! Here is the reconstructed sentence:\n",
      "\n",
      "The young man is stirring his pot of Turkish food with a wooden spoon, indicative of the rich flavors and spices used in Turkish cuisine. Turkey is known for its diverse use of spices, which are fundamental to many dishes in Turkish cooking. From meat dishes cooked in various ways to soups served with Turkish bread, the variety of dishes in Turkish cuisine reflects the blending of Turkish, Arabic, Persian, and American culinary traditions.\n",
      "############################\n",
      "\n"
     ]
    },
    {
     "name": "stderr",
     "output_type": "stream",
     "text": [
      " 60%|██████    | 3/5 [00:16<00:09,  4.96s/it]"
     ]
    },
    {
     "name": "stdout",
     "output_type": "stream",
     "text": [
      "retrieval: ('The young man is stirring his pot of egyptian food with a wooden spoon.', 'The cuisine of Egypt has a long and rich history, with many dishes dating back to ancient times. Ethiopian dishes use many exotic spice blends, which can vary in spice level from mild to hot. He enjoys Italian, French, and Egyptian cuisine. The cuisine of Egypt is a very rich cuisine that has many unique customs. Ethiopian cuisine is characterized by its use of spices, which gives it its characteristic taste.')\n",
      "reulst: Sure! Here is a reconstructed version of the text with the requested supporting information:\n",
      "\n",
      "The young man stirs his pot of Egyptian food with a wooden spoon, enjoying the rich and varied cuisine of this ancient land. Ethiopian dishes use many exotic spice blends that can range in spice level from mild to hot, while Italian and French cuisines also hold a special place in his heart. The unique customs surrounding Egyptian food make it a truly distinctive culinary experience.\n",
      "############################\n",
      "\n"
     ]
    },
    {
     "name": "stderr",
     "output_type": "stream",
     "text": [
      " 80%|████████  | 4/5 [00:20<00:04,  4.67s/it]"
     ]
    },
    {
     "name": "stdout",
     "output_type": "stream",
     "text": [
      "retrieval: ('The young man is stirring his pot of thai food with a wooden spoon.', 'Thai food is eaten with a spoon and fork. Thai cuisine is known for its use of spices. Thai people generally use a fork and spoon to eat, rather than chopsticks. Thai food is characterized by the use of fresh herbs and spices. Thai cooking is a unique and exciting cuisine that is famous for its fragrant, tangy flavours.')\n",
      "reulst: Sure! Here is a possible reconstruction of the text as a main sentence with supporting information:\n",
      "\n",
      "The young man stirs his pot of Thai food with a wooden spoon, illustrating the common utensil used in Thai cuisine. Thai food is typically eaten with a fork and spoon, rather than chopsticks, and is known for its bold flavors derived from fresh herbs and spices. Thai cooking is renowned for its unique blend of fragrant and tangy tastes, which sets it apart from other cuisines.\n",
      "############################\n",
      "\n"
     ]
    },
    {
     "name": "stderr",
     "output_type": "stream",
     "text": [
      "100%|██████████| 5/5 [00:24<00:00,  4.95s/it]"
     ]
    },
    {
     "name": "stdout",
     "output_type": "stream",
     "text": [
      "retrieval: ('The young man is stirring his pot of mexican food with a wooden spoon.', 'Mexican dishes are typically filled with spices, which give them their characteristic flavor. Mexican cuisine is a blend of many different cultures and influences. The man simply knows authentic Mexican food. Mexican food is a blend of Spanish and indigenous cuisine. Mexican cuisine is a blend of various European countries food particularly Spanish food.')\n",
      "reulst: Sure! Here is a reconstructed version of the text with the requested changes:\n",
      "\n",
      "The young man is stirring his pot of Mexican food with a wooden spoon, demonstrating his knowledge of authentic Mexican cuisine. Mexican dishes are typically filled with spices, which give them their characteristic flavor, and Mexican cuisine is a blend of many different cultures and influences. The man's expertise in Mexican food reflects the rich cultural heritage of the country, where Spanish and indigenous cuisines have combined to create a unique and flavorful culinary tradition.\n",
      "############################\n",
      "\n"
     ]
    },
    {
     "name": "stderr",
     "output_type": "stream",
     "text": [
      "\n"
     ]
    }
   ],
   "source": [
    "with open(\"data/result.txt\", \"w\") as file:\n",
    "    for retrieval in tqdm(list(zip(sentences, all_assertions))[:5]):\n",
    "        result = chain.invoke({\"retrieval\": retrieval, \"query\":query})\n",
    "        print(f\"retrieval: {retrieval}\\nreulst: {result}\\n############################\\n\")\n",
    "        file.write(result + '\\n')"
   ]
  }
 ],
 "metadata": {
  "kernelspec": {
   "display_name": "PTLLM",
   "language": "python",
   "name": "python3"
  },
  "language_info": {
   "codemirror_mode": {
    "name": "ipython",
    "version": 3
   },
   "file_extension": ".py",
   "mimetype": "text/x-python",
   "name": "python",
   "nbconvert_exporter": "python",
   "pygments_lexer": "ipython3",
   "version": "3.8.18"
  }
 },
 "nbformat": 4,
 "nbformat_minor": 5
}
