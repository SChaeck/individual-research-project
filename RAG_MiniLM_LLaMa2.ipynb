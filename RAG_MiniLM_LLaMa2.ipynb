{
 "cells": [
  {
   "cell_type": "code",
   "execution_count": 3,
   "metadata": {},
   "outputs": [],
   "source": [
    "import os\n",
    "import json\n",
    "import re\n",
    "from tqdm import tqdm"
   ]
  },
  {
   "cell_type": "code",
   "execution_count": 2,
   "metadata": {},
   "outputs": [],
   "source": [
    "# 파일 위치 지정\n",
    "keys_file_path = os.path.join('data', 'api_keys.txt')\n",
    "\n",
    "# 파일에서 API 키를 로드하는 함수\n",
    "def load_api_keys(file_path):\n",
    "    with open(file_path, 'r', encoding='utf-8') as file:\n",
    "        keys = json.load(file)\n",
    "    return keys\n",
    "\n",
    "# API 키 사용\n",
    "api_keys = load_api_keys(keys_file_path)\n",
    "pinecone_key1 = api_keys['pinecone_key1']\n",
    "pinecone_key2 = api_keys['pinecone_key2']"
   ]
  },
  {
   "cell_type": "code",
   "execution_count": 3,
   "metadata": {},
   "outputs": [
    {
     "name": "stderr",
     "output_type": "stream",
     "text": [
      "/opt/anaconda3/envs/ragllama/lib/python3.10/site-packages/pinecone/data/index.py:1: TqdmWarning: IProgress not found. Please update jupyter and ipywidgets. See https://ipywidgets.readthedocs.io/en/stable/user_install.html\n",
      "  from tqdm.autonotebook import tqdm\n"
     ]
    },
    {
     "data": {
      "text/plain": [
       "{'dimension': 384,\n",
       " 'index_fullness': 0.41754,\n",
       " 'namespaces': {'': {'vector_count': 41754}},\n",
       " 'total_vector_count': 41754}"
      ]
     },
     "execution_count": 3,
     "metadata": {},
     "output_type": "execute_result"
    }
   ],
   "source": [
    "from pinecone import Pinecone, ServerlessSpec\n",
    "\n",
    "# Pinecone 연결 및 index 설정\n",
    "# key1 => minilm / key2 => mpnet\n",
    "pc = Pinecone(api_key=pinecone_key1)\n",
    "index = pc.Index('minilm')\n",
    "\n",
    "index.describe_index_stats()"
   ]
  },
  {
   "cell_type": "markdown",
   "metadata": {},
   "source": [
    "## Keyword와 비슷한 문장 가져오는 RAG"
   ]
  },
  {
   "cell_type": "code",
   "execution_count": 4,
   "metadata": {},
   "outputs": [
    {
     "name": "stdout",
     "output_type": "stream",
     "text": [
      "['cig kofte', 'baklava', 'cig borek', 'dolma', 'manti', 'baba ghanoush', 'koshari', 'fatteh', 'shawarma', 'mulukhiyah', 'bibimbap', 'bulgogi', 'dongchimi', 'jjajangmyeon', 'kimchi', 'tom kha gai', 'khao soi', 'som tam', 'pad kra pao moo', 'massaman curry', 'carnitas', 'chiles en nogada', 'gorditas', 'mole poblano', 'chilaquiles', 'gazpacho', 'patatas bravas', 'tortilla espaola', 'pulpo a la gallega', 'gambas al ajillo', 'raki', 'ayran', 'algam', 'Tamer Hindi', 'sugarcane juice', 'sobia', 'karkade', 'makgeolli', 'dongdongju', 'soju', 'maesilju', 'sikhye', 'nam anchan', 'grass jelly drink', 'oliang', 'nam matoom', 'cha yen', 'margarita', 'carajillo', 'el pajarete', 'mezcal', 'paloma', 'licor de hierbas', 'horchata', 'cava', 'rioja', 'tinto de verano', 'abaya', 'yelek', 'entari', 'keffiyeh', 'shemagh', 'kaftan', 'gallibaya', 'hanbok', 'pha nung', 'boromphiman', 'ruean ton', 'mo hom', 'pha sin', 'tehuana', 'parachico', 'huipil', 'sombrero', 'sarape', 'mantilla', 'peineta', 'traje de chulapa', 'catalan dress', 'flamenco dresses']\n"
     ]
    }
   ],
   "source": [
    "file_path = 'filtered_national_keyword.json'\n",
    "\n",
    "# 파일이 존재하는지 확인\n",
    "if os.path.exists(file_path):\n",
    "    with open(file_path, 'r', encoding='utf-8') as file:\n",
    "        data = json.load(file)\n",
    "\n",
    "    facet = ['food', 'drink', 'clothing']\n",
    "    keywords = []\n",
    "\n",
    "    for _facet in facet:\n",
    "        # 모든 문장을 하나의 1차원 배열에 저장합니다.\n",
    "        for sentence in data[_facet].values():\n",
    "            keywords.extend(sentence)  # 각 국가별 문장 리스트를 추가합니다.\n",
    "\n",
    "    # 결과를 출력합니다.\n",
    "    print(keywords)\n",
    "else:\n",
    "    print(f\"Error: The file {file_path} does not exist.\")"
   ]
  },
  {
   "cell_type": "code",
   "execution_count": 5,
   "metadata": {},
   "outputs": [
    {
     "name": "stderr",
     "output_type": "stream",
     "text": [
      "/opt/anaconda3/envs/ragllama/lib/python3.10/site-packages/huggingface_hub/file_download.py:1132: FutureWarning: `resume_download` is deprecated and will be removed in version 1.0.0. Downloads always resume when possible. If you want to force a new download, use `force_download=True`.\n",
      "  warnings.warn(\n"
     ]
    }
   ],
   "source": [
    "from sentence_transformers import SentenceTransformer\n",
    "model = SentenceTransformer('sentence-transformers/all-MiniLM-L6-v2')"
   ]
  },
  {
   "cell_type": "code",
   "execution_count": 6,
   "metadata": {},
   "outputs": [
    {
     "name": "stderr",
     "output_type": "stream",
     "text": [
      "100%|██████████| 80/80 [00:00<00:00, 87.90it/s]"
     ]
    },
    {
     "name": "stdout",
     "output_type": "stream",
     "text": [
      "[-7.14668334e-02  4.34861965e-02  1.89664755e-02  6.03785589e-02\n",
      " -1.74046531e-02  4.39097062e-02  9.87930074e-02  7.75352195e-02\n",
      "  4.93674204e-02 -3.92985009e-02 -3.00128274e-02 -8.49083513e-02\n",
      "  6.46709837e-03 -1.10503687e-02  1.08710695e-02 -7.13862106e-02\n",
      " -4.22240198e-02  3.56383659e-02 -7.70435110e-02 -1.13515519e-01\n",
      "  7.71048851e-03 -3.40777524e-02 -2.38555484e-02  4.22517583e-02\n",
      " -6.71169758e-02 -1.22007225e-02 -3.38360555e-02  2.23608408e-02\n",
      "  2.65608728e-02 -3.82317156e-02  3.81373540e-02  1.41649485e-01\n",
      " -7.43258372e-02  2.56522801e-02 -6.18350357e-02 -2.85928394e-03\n",
      "  2.41350438e-02 -8.56428444e-02  1.72857977e-02  2.35820413e-02\n",
      " -4.45830589e-03  2.37919502e-02 -2.47925073e-02 -1.35728829e-02\n",
      "  1.62764471e-02  3.49336397e-03 -7.68971592e-02  1.81083903e-02\n",
      " -1.72411941e-03  4.30794694e-02 -3.24682854e-02 -9.29977521e-02\n",
      "  5.40664457e-02 -3.53374844e-03  2.55837031e-02  2.16011778e-02\n",
      " -4.61821770e-03  2.77885003e-03  1.14926897e-01 -1.25068808e-02\n",
      "  2.91368309e-02 -2.66401153e-02 -1.89068168e-02  9.41872075e-02\n",
      " -3.06458082e-02 -4.55854163e-02  4.20263410e-02  2.50882888e-03\n",
      "  5.62309008e-03 -4.00390401e-02 -2.04048567e-02 -7.17179328e-02\n",
      " -6.39699325e-02  1.14964843e-01  1.03112664e-02  6.25144094e-02\n",
      " -3.77561823e-02 -3.55318785e-02 -5.10957576e-02 -4.01143357e-02\n",
      "  1.13638163e-01  1.44881094e-02 -3.69584076e-02 -7.96391666e-02\n",
      "  4.07708064e-02 -1.88039206e-02 -1.43416319e-02  4.12782244e-02\n",
      "  4.55930680e-02 -3.62616614e-03 -1.21561904e-02  6.62430823e-02\n",
      " -2.76186597e-02 -3.79569903e-02 -7.74272010e-02  4.09816904e-03\n",
      " -2.06927937e-02 -4.04156968e-02 -9.52922404e-02  1.40089229e-01\n",
      "  5.16618341e-02  1.21054068e-01  4.63320985e-02 -1.84057914e-02\n",
      " -3.80155705e-02 -7.09651038e-02  1.40760299e-02  2.21645646e-03\n",
      " -1.64295789e-02  2.96950862e-02 -3.64616774e-02 -9.13326591e-02\n",
      "  3.92698608e-02 -6.15043975e-02  7.14432895e-02  8.63745213e-02\n",
      " -3.73192504e-02 -4.00572233e-02  8.97843614e-02  9.26146377e-03\n",
      "  3.79984714e-02 -2.96463463e-02 -5.17858304e-02  2.68049445e-02\n",
      " -2.10020803e-02 -4.02712673e-02  6.76419288e-02  1.63078315e-33\n",
      " -6.53174669e-02  8.00921023e-03  1.10268869e-01  1.32810166e-02\n",
      "  5.47474064e-02 -6.45930320e-02  1.00990990e-02 -2.15222151e-03\n",
      " -1.17441483e-01 -3.83393802e-02 -5.01365550e-02  2.68442519e-02\n",
      " -4.05177586e-02 -8.09261389e-03  7.14416280e-02 -2.83669755e-02\n",
      " -2.91179065e-02 -1.03666913e-02 -1.10381106e-02  1.44483652e-02\n",
      "  3.55757400e-02 -1.06323976e-02  2.59060860e-02  1.23395652e-01\n",
      "  5.57696074e-02  4.03891541e-02 -5.15500307e-02 -6.70154020e-02\n",
      "  1.40851531e-02  1.32641532e-02  5.02012968e-02  6.15227483e-02\n",
      " -6.99711964e-02  1.25017194e-02 -1.16884395e-01 -2.39544008e-02\n",
      " -4.30253483e-02 -6.58722147e-02 -3.77688631e-02  5.57118095e-02\n",
      "  3.08697131e-02 -5.15055284e-02 -1.46403490e-02  5.31784892e-02\n",
      "  2.03739200e-02  1.64739601e-02 -4.46056426e-02 -2.86527798e-02\n",
      "  6.41540512e-02 -4.06265557e-02 -4.67770882e-02 -1.31461509e-02\n",
      " -8.51760358e-02  5.90131618e-02 -5.44725824e-03  6.04452863e-02\n",
      "  3.38048041e-02 -1.16947824e-02  2.27272175e-02 -8.12405422e-02\n",
      " -5.72466012e-03  5.87464683e-02 -5.20327352e-02  1.46656781e-02\n",
      "  1.16503099e-02 -8.64675716e-02 -7.65565187e-02 -2.95188427e-02\n",
      " -2.33657900e-02 -2.12120097e-02 -2.01559234e-02  2.58691274e-02\n",
      "  3.77062373e-02  2.64453841e-03  7.59978518e-02 -7.55981356e-02\n",
      " -9.63065103e-02  4.47486937e-02 -4.23164330e-02  4.79154885e-02\n",
      " -4.36109714e-02 -6.39062375e-02 -2.52490230e-02  2.71425005e-02\n",
      "  6.27564639e-02 -7.54450932e-02  2.39968151e-02  7.24196732e-02\n",
      "  2.14872067e-03 -1.63127501e-02 -5.24534509e-02 -1.76494140e-02\n",
      "  8.57941434e-02 -1.02129383e-02 -3.19187678e-02 -1.10347484e-33\n",
      "  2.39662491e-02  3.60308141e-02  5.93082719e-02  8.51069167e-02\n",
      "  3.27347852e-02  8.36236775e-02  1.92055460e-02 -1.03827594e-02\n",
      "  5.83909033e-03 -2.51717195e-02  7.86506757e-02 -3.69269885e-02\n",
      "  8.93220678e-02  1.99620835e-02  3.43417786e-02 -4.11457792e-02\n",
      "  7.12894499e-02  8.62537604e-03  1.16957054e-02  2.67561004e-02\n",
      " -2.23127529e-02 -5.51013350e-02 -1.65524054e-02  6.39002174e-02\n",
      " -8.23242217e-03  5.17414957e-02  6.44471943e-02 -5.11178840e-03\n",
      " -8.59405696e-02  9.57101285e-02  4.31698374e-02  3.05844122e-03\n",
      "  7.04137050e-03  2.76386533e-02 -4.09056433e-02 -5.99507838e-02\n",
      "  2.87879817e-02  8.57149661e-02 -7.26341307e-02  1.77625788e-03\n",
      " -3.15407626e-02  3.28492448e-02 -2.54440159e-02  6.63175359e-02\n",
      "  2.05752887e-02  4.28685583e-02 -1.96311716e-02 -1.05958223e-01\n",
      "  2.58691683e-02  2.17020791e-02  1.96651462e-02  1.19337380e-01\n",
      " -6.92284182e-02 -4.28541861e-02  1.20811407e-02  2.46953685e-02\n",
      " -9.31898355e-02 -5.21147661e-02 -6.05745502e-02 -1.75128970e-02\n",
      "  4.35572676e-02  6.46066666e-02 -2.59416699e-02 -1.25335064e-02\n",
      "  5.05890809e-02 -6.83296770e-02 -6.92788735e-02  1.31356418e-01\n",
      "  4.79701757e-02 -5.80375381e-02 -1.08227320e-02 -2.73207994e-03\n",
      " -1.16607491e-02 -6.43741935e-02 -1.19369337e-02 -2.33004745e-02\n",
      " -2.14739935e-03  1.03281207e-01  4.48794104e-02  1.55048156e-02\n",
      " -9.25978459e-03 -4.41010557e-02 -4.96911369e-02  5.86901903e-02\n",
      "  1.71413776e-02  2.22936012e-02 -2.40379721e-02  2.05101888e-03\n",
      "  1.01226486e-01 -3.74917202e-02 -7.04374444e-03  4.80916686e-02\n",
      "  6.92570433e-02 -2.88137887e-02  3.57307345e-02 -1.67811436e-08\n",
      "  3.36388946e-02 -4.62585539e-02 -4.24953587e-02  6.44472335e-03\n",
      "  8.05087388e-02 -7.02010021e-02 -1.85224060e-02 -5.10545224e-02\n",
      " -8.38091373e-02 -2.14519110e-04  1.02725551e-02 -1.65347215e-02\n",
      "  1.98297612e-02  3.92197855e-02  5.60871288e-02  4.29952852e-02\n",
      " -3.00517995e-02  8.16477537e-02  2.32383423e-02  5.06612770e-02\n",
      "  3.35076302e-02 -4.33042720e-02 -3.29385996e-02  2.37906873e-02\n",
      " -3.18111386e-03  7.61550441e-02  2.02430692e-02  4.32791412e-02\n",
      "  5.21608740e-02  6.02028370e-02 -3.95460762e-02 -1.44590493e-02\n",
      " -5.80948144e-02  6.86896443e-02 -2.41473950e-02 -1.82208065e-02\n",
      " -3.79986987e-02  1.94906928e-02 -2.88420841e-02 -3.90958339e-02\n",
      " -8.87118001e-03 -1.81408692e-02  2.83488352e-02 -4.00932543e-02\n",
      " -9.21831205e-02  4.03615125e-02  7.96200708e-02 -4.14937809e-02\n",
      "  3.63325402e-02 -6.42552897e-02 -1.04012936e-01 -1.78840049e-02\n",
      "  3.25912773e-03  6.29819781e-02  5.14787883e-02  2.51345728e-02\n",
      "  5.30339517e-02 -2.57484186e-02 -9.79886949e-02 -5.48263974e-02\n",
      "  4.21920456e-02 -5.70074506e-02  4.86149713e-02  4.87346537e-02]\n"
     ]
    },
    {
     "name": "stderr",
     "output_type": "stream",
     "text": [
      "\n"
     ]
    }
   ],
   "source": [
    "# Assume sentences is a list of input sentences\n",
    "embedded_keywords = []\n",
    "\n",
    "# Encode each sentence and store the embeddings\n",
    "for keyword in tqdm(keywords):\n",
    "    embedded_keywords.append(model.encode(keyword))\n",
    "\n",
    "print(embedded_keywords[0])"
   ]
  },
  {
   "cell_type": "code",
   "execution_count": 65,
   "id": "d7b9c0df",
   "metadata": {},
   "outputs": [
    {
     "name": "stdout",
     "output_type": "stream",
     "text": [
      "{'matches': [{'id': '4363',\n",
      "              'metadata': {'assertion': 'Kofte is a Turkish dish made with '\n",
      "                                        'ground beef and spices.\\n'},\n",
      "              'score': 0.547318935,\n",
      "              'values': []},\n",
      "             {'id': '36616',\n",
      "              'metadata': {'assertion': 'Koftas are a type of Middle Eastern '\n",
      "                                        'hamburger mixture.\\n'},\n",
      "              'score': 0.433353961,\n",
      "              'values': []},\n",
      "             {'id': '13223',\n",
      "              'metadata': {'assertion': 'Kolaches are a Czech pastry that is '\n",
      "                                        'popular in Texas.\\n'},\n",
      "              'score': 0.427233905,\n",
      "              'values': []}],\n",
      " 'namespace': '',\n",
      " 'usage': {'read_units': 6}}\n"
     ]
    }
   ],
   "source": [
    "matches = index.query(\n",
    "    vector=embedded_keywords[0].tolist(),\n",
    "    top_k=3,\n",
    "    include_values=False,\n",
    "    include_metadata=True,\n",
    ")\n",
    "print(matches)"
   ]
  },
  {
   "cell_type": "code",
   "execution_count": 69,
   "metadata": {},
   "outputs": [
    {
     "name": "stderr",
     "output_type": "stream",
     "text": [
      "100%|██████████| 80/80 [00:00<00:00, 285.72it/s]\n"
     ]
    },
    {
     "name": "stdout",
     "output_type": "stream",
     "text": [
      "['Kofte is a Turkish dish made with ground beef and spices.', 'Baklava is a Turkish dessert typically served with tea or coffee. Baklava is a Middle Eastern dessert that is made of nuts, phyllo dough, and a sweet syrup. Baklava is a popular dessert in Lebanon, Greece, and Turkey.', '', 'Dolma is a Turkish dish made of grape leaves stuffed with rice and other ingredients. Dolma is a popular dish throughout the Middle East, Central Asia, Eastern Europe, and middle east. Dolma is a Turkish dish consisting of stuffed grape leaves.', 'Manti is a Turkish dish made of boiled ravioli-like pasta, and is popular for its home-cooked taste. The Turkish dish of manti, which are beef dumplings, remains popular and is often made at home.', '', 'Kasha is a type of grain that is popular in Eastern European and Russian cuisine.', '', 'Shawarma is a Middle Eastern dish that is made with sliced seasoned meat. Shawarma is a popular dish and fast-food staple across the Middle East and North Africa. Chicken Shawarma is a popular Middle Eastern dish.', '', 'Bibimbap is a Korean dish made up of a variety of ingredients and flavors. Bibimbap is a Korean specialty dish that is made up of rice, vegetables, and meat. Bibimbap is a popular Korean dish that is typically made with rice, vegetables, and meat.', 'Bulgogi is a popular Korean dish that is sweet and savory. Bulgogi is a Korean dish that is quite popular, both with Koreans and foreigners. Bulgogi is a Korean dish made of grilled, marinated meat, typically beef.', '', '', 'Kimchi is a fermented vegetable dish from Korea. Kimchi is a Korean dish of pickled vegetables, typically cabbage. Kimchi is a Korean dish that is mad about by Koreans.', '', 'Khao Soi is a Thai dish that is a curry and noodle soup from the north of Thailand. Khao soi is a Burmese-influenced noodle dish served widely in northern Laos and northern Thailand. Khao Soi is a Burmese-influenced dish popular in Northern Thailand, Myanmar, and Laos.', 'Som tam is a Thai papaya salad that is spicy and made out of shredded unripe papaya.', 'Pao is a Portuguese word for bread. Khao means rice in Thai.', 'Massaman curry is a Thai curry dish that is Muslim in origin. Sri Lankan curry is a popular dish made with spices and often served with rice. Indian curry made with the use of various spices is world renowned.', 'Carnitas is a type of slow-cooked pork that is popular in Mexican cuisine. Carnaval is a Brazilian holiday celebrated in many different ways around the country. Carnaval is a traditional Latin American experience that takes place in many cultures.', 'Chiles en nogada is a traditional Mexican dish made of poblanopicadillo. Carmenere is to Chile what Malbec is to Argentina. Carmenere is to Chile as Malbec is to Argentina.', 'Gorditas are a type of Mexican bread made of corn flour, usually filled with a variety of fillings. Goulash is a popular meat eaten in Central and Eastern Europe. Hungarian goulash is a soup with beef and vegetables.', 'Mole poblano is a dish from Mexico that is typically made with chiles and chocolate. Mole is a dish that is popular in Mexico and has many different variations. Mole is a Mexican sauce that is typically served over chicken, but there are many variations.', 'Chilaquiles is a traditional Mexican dish that can be served for any meal. Chilaquiles are a popular Mexican dish that is typically made with tortillas, eggs, and salsa. Chilaquiles is a traditional Mexican dish that involves cooking tortillas in salsa.', 'Gazpacho is a Spanish dish made of blended vegetables and a tomato base, typically served cold. Gazpacho is a Spanish dish made of vegetables and served cold. Gazpacho is a cold tomato soup of Spanish origin.', 'Patatas bravas is a traditional Spanish dish of fried potatoes served in a spicy tomato sauce. Patatas bravas are a popular Spanish dish consisting of fried potatoes and a spicy sauce. Cavas are Spanish sparkling wines made using the Champagne Method with indigenous grapes.', 'Tortilla Espanola is a popular dish in Spain made with eggs, potatoes, and onions. A Spanish tortilla is an omelette made with potatoes. A Spanish tortilla is a dish similar to an Italian frittata, typically made with potatoes.', '', 'The ajiaco is a dish from Latin America that is very old. Ajiaco is a traditional Colombian soup made with chicken and potatoes.', 'Raki is a traditional alcoholic drink that is popular in Albania. Raki is the national alcoholic drink of Turkey, made from anise. Rakija is a type of brandy that is popular in Croatia and is often homemade.', 'Ayran is a popular Turkish drink made of yogurt, water, and salt.', '', '', \"The national drink of Pakistan is sugarcane juice. Sugarcane is a leading row crop in Louisiana contributing to the state's economy. Sugarcane is a crop that can be grown throughout Florida, and it grows well in patio containers.\", 'Soba is the Japanese word for buckwheat. Soba is a popular Japanese dish that appears in many occasions in Japanese culture. Soba is a popular dish in Japanese cuisine that has many variations and is considered a staple food.', '', '', '', 'Soju is a Korean alcoholic beverage that is similar to Japanese sake. Soju is a Korean alcoholic beverage that is similar to Japanese sake. Soju is a Korean distilled alcoholic beverage that is clear and colorless, similar to vodka.', '', '', '', 'Oregon grapes make a great jelly, but they are tart.', '', '', 'Thai iced tea, or \"cha yen,\" is a popular cold tea beverage in Thailand.', 'The margarita is a popular cocktail in America. The margarita is a Mexican tradition that is popular all over the world. The margarita is a Mexican tradition and is one of the staples of Mexican restaurants.', 'Carajillo is a Spanish coffee drink that traditionally contains a small measure of brandy or rum.', '', 'Mezcal is a traditional Mexican alcoholic drink made from the maguey plant. Mezcal is a Mexican spirit with a long history and tradition, typically made from the agave plant. Mezcal is a type of alcohol made from the agave plant, native to Mexico.', 'The Paloma is a popular Mexican cocktail made with tequila, lime juice, and grapefruit soda. The Texas Paloma is a grapefruit cocktail made with tequila, lime juice, and grapefruit juice. The Paloma is a tequila-based cocktail that is popular in Mexico.', '', 'Horchata is a Mexican beverage made with sweetened rice milk and cinnamon. Horchata is a traditional rice-milk drink made with cinnamon and vanilla in Central America. Horchata is a Mexican rice-based drink that is typically made with milk, cinnamon, and vanilla.', 'Cava is a type of Spanish sparkling wine. Cava is a Spanish sparkling wine from the Catalonia region. Cava is a Spanish sparkling wine that is similar to champagne.', 'Rioja is a wine region in Spain. Rioja is a wine region in Spain with a long vinicultural history. Rioja is a wine region in Spain known for its red wines.', '', 'The abaya is a garment worn by Saudi Arabian women, typically in public. In Iran the abaya is known as a chador and in South Asia a burqa. In Iran the abaya is known as a chador and in South Asia a burqa.', 'The Yak is a domesticated animal found in Central Asia.', '', '', 'The shemagh is a piece of attire that originated in the Middle East.', 'The kaftan is a traditional Middle Eastern garment that is now popular among Muslim men and women. The Moroccan kaftan is a traditional garment that has been worn by Moroccan women for centuries. The Kesar Pista Kalufi is an Indian ice cream with pistachio and saffron.', '', 'The hanbok is the traditional Korean outfit, worn by both men and women. A hanbok is a traditional Korean dress. The traditional hanboks are a symbol of Korea and are loved by the world.', '', '', '', '', '', '', '', 'A huipil is a traditional garment worn by indigenous women from central Mexico to Central America.', 'The sombrero is a traditional Mexican hat that is worn in various styles depending on the region. Mexicans wear sombreros. The sombrero is a traditional Mexican hat that is often worn to show pride in Mexican culture.', '', \"The mantilla is a traditional Spanish garment, often made of lace, which is worn by women. The Spanish mantilla veil is a traditional garment worn by brides in Spain and Mexico. In Colombian weddings, the bride usually wears a mantilla, a veil for covering the bride's face.\", '', '', 'Spaniards dress conservatively, with style, and for the season. The dress is made in India from Indian fabric. The Spanish Steps dress is a camel and beige dress that is a few steps away from Via del Corso.', 'Flamenco is a traditional Spanish dance that is steeped in history and tradition. Old Spanish traditions such zarzuelas and flamenco are popular in New Mexico. Mexican women dress in a variety of ways, depending on the occasion.']\n"
     ]
    },
    {
     "data": {
      "text/plain": [
       "80"
      ]
     },
     "execution_count": 69,
     "metadata": {},
     "output_type": "execute_result"
    }
   ],
   "source": [
    "import threading\n",
    "from tqdm import tqdm\n",
    "import time  # sleep을 사용하기 위해 time 모듈을 import합니다.\n",
    "\n",
    "lock = threading.Lock()\n",
    "\n",
    "def query_and_append(i, embedded_keyword, all_assertions_with_index):\n",
    "    matches = index.query(\n",
    "        vector=embedded_keyword.tolist(),\n",
    "        top_k=3,\n",
    "        include_values=False,\n",
    "        include_metadata=True,\n",
    "    )\n",
    "    # 유사도가 0.5 이상인 값만 저장\n",
    "    assertions_list = [match['metadata']['assertion'].strip() for match in matches['matches'] if match['score'] > 0.5]\n",
    "    \n",
    "    with lock:\n",
    "        all_assertions_with_index.append((i, ' '.join(assertions_list)))\n",
    "    \n",
    "    time.sleep(0.1)  # 여기서 함수 실행 후 0.1초 동안 sleep합니다.\n",
    "\n",
    "all_assertions_with_index = []\n",
    "threads = []\n",
    "\n",
    "for i, embedded_keyword in enumerate(tqdm(embedded_keywords)):\n",
    "    thread = threading.Thread(target=query_and_append, args=(i, embedded_keyword, all_assertions_with_index))\n",
    "    threads.append(thread)\n",
    "    thread.start()\n",
    "\n",
    "for thread in threads:\n",
    "    thread.join()\n",
    "\n",
    "all_assertions_with_index.sort(key=lambda x: x[0])\n",
    "all_assertions = [assertion for _, assertion in all_assertions_with_index]\n",
    "\n",
    "print(all_assertions)\n",
    "len(all_assertions)\n"
   ]
  },
  {
   "cell_type": "code",
   "execution_count": 70,
   "metadata": {},
   "outputs": [],
   "source": [
    "# (sentence, assertion)을 json 형태로 파일에 저장\n",
    "\n",
    "# 키워드와 주장을 매핑하여 딕셔너리 생성\n",
    "keyword_assertions_dict = {keyword: assertion for keyword, assertion in zip(keywords, all_assertions)}\n",
    "\n",
    "# 생성된 딕셔너리를 JSON 형태로 파일에 저장\n",
    "with open('keyword_assertions.json', 'w', encoding='utf-8') as jsonfile:\n",
    "    json.dump(keyword_assertions_dict, jsonfile, ensure_ascii=False, indent=4)\n"
   ]
  },
  {
   "cell_type": "markdown",
   "metadata": {},
   "source": [
    "## Llama 사용 부분"
   ]
  },
  {
   "cell_type": "code",
   "execution_count": 4,
   "metadata": {},
   "outputs": [],
   "source": [
    "from langchain_community.chat_models import ChatOllama\n",
    "from langchain_core.output_parsers import CommaSeparatedListOutputParser, StrOutputParser\n",
    "from langchain.prompts import PromptTemplate"
   ]
  },
  {
   "cell_type": "code",
   "execution_count": 19,
   "metadata": {},
   "outputs": [
    {
     "name": "stdout",
     "output_type": "stream",
     "text": [
      "{'food': {'Turkish': {'cig kofte': ['The young man is stirring his pot of cig kofte with a wooden spoon.'], 'baklava': ['The young man is stirring his pot of baklava with a wooden spoon.', 'A group of people preparing baklava in a kitchen.']}, 'Egyptian': {'baba ghanoush': ['The young man is stirring his pot of baba ghanoush with a wooden spoon.', 'A group of people preparing baba ghanoush in a kitchen.'], 'koshari': ['The young man is stirring his pot of koshari with a wooden spoon.', 'A group of people preparing koshari in a kitchen.']}, 'Korean': {'bibimbap': ['The young man is stirring his pot of bibimbap with a wooden spoon.']}}, 'drink': {'Turkish': {'raki': ['Man in cycling clothes raki beside his bicycle.', 'a plate of food on a table next to a raki'], 'ayran': ['Man in cycling clothes ayran beside his bicycle.']}}}\n",
      "{'cig kofte': 'Kofte is a Turkish dish made with ground beef and spices.', 'baklava': 'Baklava is a Turkish dessert typically served with tea or coffee. Baklava is a Middle Eastern dessert that is made of nuts, phyllo dough, and a sweet syrup. Baklava is a popular dessert in Lebanon, Greece, and Turkey.', 'cig borek': '', 'dolma': 'Dolma is a Turkish dish made of grape leaves stuffed with rice and other ingredients. Dolma is a popular dish throughout the Middle East, Central Asia, Eastern Europe, and middle east. Dolma is a Turkish dish consisting of stuffed grape leaves.', 'manti': 'Manti is a Turkish dish made of boiled ravioli-like pasta, and is popular for its home-cooked taste. The Turkish dish of manti, which are beef dumplings, remains popular and is often made at home.', 'baba ghanoush': '', 'koshari': 'Kasha is a type of grain that is popular in Eastern European and Russian cuisine.', 'fatteh': '', 'shawarma': 'Shawarma is a Middle Eastern dish that is made with sliced seasoned meat. Shawarma is a popular dish and fast-food staple across the Middle East and North Africa. Chicken Shawarma is a popular Middle Eastern dish.', 'mulukhiyah': '', 'bibimbap': 'Bibimbap is a Korean dish made up of a variety of ingredients and flavors. Bibimbap is a Korean specialty dish that is made up of rice, vegetables, and meat. Bibimbap is a popular Korean dish that is typically made with rice, vegetables, and meat.', 'bulgogi': 'Bulgogi is a popular Korean dish that is sweet and savory. Bulgogi is a Korean dish that is quite popular, both with Koreans and foreigners. Bulgogi is a Korean dish made of grilled, marinated meat, typically beef.', 'dongchimi': '', 'jjajangmyeon': '', 'kimchi': 'Kimchi is a fermented vegetable dish from Korea. Kimchi is a Korean dish of pickled vegetables, typically cabbage. Kimchi is a Korean dish that is mad about by Koreans.', 'tom kha gai': '', 'khao soi': 'Khao Soi is a Thai dish that is a curry and noodle soup from the north of Thailand. Khao soi is a Burmese-influenced noodle dish served widely in northern Laos and northern Thailand. Khao Soi is a Burmese-influenced dish popular in Northern Thailand, Myanmar, and Laos.', 'som tam': 'Som tam is a Thai papaya salad that is spicy and made out of shredded unripe papaya.', 'pad kra pao moo': 'Pao is a Portuguese word for bread. Khao means rice in Thai.', 'massaman curry': 'Massaman curry is a Thai curry dish that is Muslim in origin. Sri Lankan curry is a popular dish made with spices and often served with rice. Indian curry made with the use of various spices is world renowned.', 'carnitas': 'Carnitas is a type of slow-cooked pork that is popular in Mexican cuisine. Carnaval is a Brazilian holiday celebrated in many different ways around the country. Carnaval is a traditional Latin American experience that takes place in many cultures.', 'chiles en nogada': 'Chiles en nogada is a traditional Mexican dish made of poblanopicadillo. Carmenere is to Chile what Malbec is to Argentina. Carmenere is to Chile as Malbec is to Argentina.', 'gorditas': 'Gorditas are a type of Mexican bread made of corn flour, usually filled with a variety of fillings. Goulash is a popular meat eaten in Central and Eastern Europe. Hungarian goulash is a soup with beef and vegetables.', 'mole poblano': 'Mole poblano is a dish from Mexico that is typically made with chiles and chocolate. Mole is a dish that is popular in Mexico and has many different variations. Mole is a Mexican sauce that is typically served over chicken, but there are many variations.', 'chilaquiles': 'Chilaquiles is a traditional Mexican dish that can be served for any meal. Chilaquiles are a popular Mexican dish that is typically made with tortillas, eggs, and salsa. Chilaquiles is a traditional Mexican dish that involves cooking tortillas in salsa.', 'gazpacho': 'Gazpacho is a Spanish dish made of blended vegetables and a tomato base, typically served cold. Gazpacho is a Spanish dish made of vegetables and served cold. Gazpacho is a cold tomato soup of Spanish origin.', 'patatas bravas': 'Patatas bravas is a traditional Spanish dish of fried potatoes served in a spicy tomato sauce. Patatas bravas are a popular Spanish dish consisting of fried potatoes and a spicy sauce. Cavas are Spanish sparkling wines made using the Champagne Method with indigenous grapes.', 'tortilla espaola': 'Tortilla Espanola is a popular dish in Spain made with eggs, potatoes, and onions. A Spanish tortilla is an omelette made with potatoes. A Spanish tortilla is a dish similar to an Italian frittata, typically made with potatoes.', 'pulpo a la gallega': '', 'gambas al ajillo': 'The ajiaco is a dish from Latin America that is very old. Ajiaco is a traditional Colombian soup made with chicken and potatoes.', 'raki': 'Raki is a traditional alcoholic drink that is popular in Albania. Raki is the national alcoholic drink of Turkey, made from anise. Rakija is a type of brandy that is popular in Croatia and is often homemade.', 'ayran': 'Ayran is a popular Turkish drink made of yogurt, water, and salt.', 'algam': '', 'Tamer Hindi': '', 'sugarcane juice': \"The national drink of Pakistan is sugarcane juice. Sugarcane is a leading row crop in Louisiana contributing to the state's economy. Sugarcane is a crop that can be grown throughout Florida, and it grows well in patio containers.\", 'sobia': 'Soba is the Japanese word for buckwheat. Soba is a popular Japanese dish that appears in many occasions in Japanese culture. Soba is a popular dish in Japanese cuisine that has many variations and is considered a staple food.', 'karkade': '', 'makgeolli': '', 'dongdongju': '', 'soju': 'Soju is a Korean alcoholic beverage that is similar to Japanese sake. Soju is a Korean alcoholic beverage that is similar to Japanese sake. Soju is a Korean distilled alcoholic beverage that is clear and colorless, similar to vodka.', 'maesilju': '', 'sikhye': '', 'nam anchan': '', 'grass jelly drink': 'Oregon grapes make a great jelly, but they are tart.', 'oliang': '', 'nam matoom': '', 'cha yen': 'Thai iced tea, or \"cha yen,\" is a popular cold tea beverage in Thailand.', 'margarita': 'The margarita is a popular cocktail in America. The margarita is a Mexican tradition that is popular all over the world. The margarita is a Mexican tradition and is one of the staples of Mexican restaurants.', 'carajillo': 'Carajillo is a Spanish coffee drink that traditionally contains a small measure of brandy or rum.', 'el pajarete': '', 'mezcal': 'Mezcal is a traditional Mexican alcoholic drink made from the maguey plant. Mezcal is a Mexican spirit with a long history and tradition, typically made from the agave plant. Mezcal is a type of alcohol made from the agave plant, native to Mexico.', 'paloma': 'The Paloma is a popular Mexican cocktail made with tequila, lime juice, and grapefruit soda. The Texas Paloma is a grapefruit cocktail made with tequila, lime juice, and grapefruit juice. The Paloma is a tequila-based cocktail that is popular in Mexico.', 'licor de hierbas': '', 'horchata': 'Horchata is a Mexican beverage made with sweetened rice milk and cinnamon. Horchata is a traditional rice-milk drink made with cinnamon and vanilla in Central America. Horchata is a Mexican rice-based drink that is typically made with milk, cinnamon, and vanilla.', 'cava': 'Cava is a type of Spanish sparkling wine. Cava is a Spanish sparkling wine from the Catalonia region. Cava is a Spanish sparkling wine that is similar to champagne.', 'rioja': 'Rioja is a wine region in Spain. Rioja is a wine region in Spain with a long vinicultural history. Rioja is a wine region in Spain known for its red wines.', 'tinto de verano': '', 'abaya': 'The abaya is a garment worn by Saudi Arabian women, typically in public. In Iran the abaya is known as a chador and in South Asia a burqa. In Iran the abaya is known as a chador and in South Asia a burqa.', 'yelek': 'The Yak is a domesticated animal found in Central Asia.', 'entari': '', 'keffiyeh': '', 'shemagh': 'The shemagh is a piece of attire that originated in the Middle East.', 'kaftan': 'The kaftan is a traditional Middle Eastern garment that is now popular among Muslim men and women. The Moroccan kaftan is a traditional garment that has been worn by Moroccan women for centuries. The Kesar Pista Kalufi is an Indian ice cream with pistachio and saffron.', 'gallibaya': '', 'hanbok': 'The hanbok is the traditional Korean outfit, worn by both men and women. A hanbok is a traditional Korean dress. The traditional hanboks are a symbol of Korea and are loved by the world.', 'pha nung': '', 'boromphiman': '', 'ruean ton': '', 'mo hom': '', 'pha sin': '', 'tehuana': '', 'parachico': '', 'huipil': 'A huipil is a traditional garment worn by indigenous women from central Mexico to Central America.', 'sombrero': 'The sombrero is a traditional Mexican hat that is worn in various styles depending on the region. Mexicans wear sombreros. The sombrero is a traditional Mexican hat that is often worn to show pride in Mexican culture.', 'sarape': '', 'mantilla': \"The mantilla is a traditional Spanish garment, often made of lace, which is worn by women. The Spanish mantilla veil is a traditional garment worn by brides in Spain and Mexico. In Colombian weddings, the bride usually wears a mantilla, a veil for covering the bride's face.\", 'peineta': '', 'traje de chulapa': '', 'catalan dress': 'Spaniards dress conservatively, with style, and for the season. The dress is made in India from Indian fabric. The Spanish Steps dress is a camel and beige dress that is a few steps away from Via del Corso.', 'flamenco dresses': 'Flamenco is a traditional Spanish dance that is steeped in history and tradition. Old Spanish traditions such zarzuelas and flamenco are popular in New Mexico. Mexican women dress in a variety of ways, depending on the occasion.'}\n"
     ]
    }
   ],
   "source": [
    "# 필터링돼 증강된 문장 로드\n",
    "with open('filtered_augmented_sentences copy.json', 'r') as f:\n",
    "    augmented_sentence = json.load(f)\n",
    "print(augmented_sentence)\n",
    "\n",
    "# 키워드 별로 RAG된 assertions들 로드\n",
    "with open('keyword_assertions.json', 'r') as f:\n",
    "    keyword_assertions = json.load(f)\n",
    "print(keyword_assertions)"
   ]
  },
  {
   "cell_type": "code",
   "execution_count": 20,
   "metadata": {},
   "outputs": [],
   "source": [
    "# LangChain이 지원하는 다른 채팅 모델을 사용합니다. 여기서는 Ollama를 사용합니다.\n",
    "llm = ChatOllama(model=\"llama2:13b\")"
   ]
  },
  {
   "cell_type": "code",
   "execution_count": 21,
   "metadata": {},
   "outputs": [],
   "source": [
    "# 템플릿 생성\n",
    "template = \"\"\"\n",
    "<key_sentence> \n",
    "    {sentence}\n",
    "</key_sentence> \n",
    "###\n",
    "<information>\n",
    "    {information}\n",
    "</information>\n",
    "###\n",
    "<query>\n",
    "    {query}\n",
    "</query>\n",
    "\"\"\"\n",
    "prompt = PromptTemplate.from_template(template=template)\n",
    "\n",
    "chain = prompt | llm | StrOutputParser()"
   ]
  },
  {
   "cell_type": "code",
   "execution_count": 22,
   "metadata": {},
   "outputs": [],
   "source": [
    "query = \"Based on the provided information, please paraphrase the given key sentence using natural expressions, adding only about few words. The expressions in the modified sentence must all be natural, and slight modifications to the key sentence are allowed. If there is no additional information to add to the key sentence, output the key sentence. Your response should include only the modified sentence.\""
   ]
  },
  {
   "cell_type": "code",
   "execution_count": 23,
   "metadata": {},
   "outputs": [
    {
     "data": {
      "application/vnd.jupyter.widget-view+json": {
       "model_id": "c9943dcc25c242038ce78f693d4087b6",
       "version_major": 2,
       "version_minor": 0
      },
      "text/plain": [
       "Overall Progress:   0%|          | 0/11 [00:00<?, ?it/s]"
      ]
     },
     "metadata": {},
     "output_type": "display_data"
    }
   ],
   "source": [
    "import pandas as pd\n",
    "from tqdm.notebook import tqdm\n",
    "\n",
    "total = sum(len(sentences) for national_list in augmented_sentence.values() for keywords in national_list.values() for sentences in keywords.values())\n",
    "\n",
    "df_list = []\n",
    "\n",
    "with tqdm(total=total, desc=\"Overall Progress\") as pbar:\n",
    "    # 여기서 augmented_sentence, keyword_assertions, chain, query는 이미 정의되어 있다고 가정합니다.\n",
    "    for facet, national_list in augmented_sentence.items():\n",
    "        for national, keywords in national_list.items():\n",
    "            for keyword, aug_sentences in keywords.items():\n",
    "                for aug_sentence in aug_sentences:\n",
    "                    sentence = aug_sentence\n",
    "                    assertions = keyword_assertions[keyword]\n",
    "\n",
    "                    # 이 부분은 예시로 제공된 코드의 chain.invoke 함수 호출 방식에 따라 달라질 수 있습니다.\n",
    "                    # chain.invoke 함수에 대한 구체적인 정보가 없으므로, 이 코드 블록은 가상의 예시로 작성되었습니다.\n",
    "                    results = chain.invoke({\"sentence\": sentence, \"information\": assertions, \"query\": query})                \n",
    "                    final_augmented = results.split('\\n')[-1]\n",
    "\n",
    "                    df_list.append({\n",
    "                        'facet': facet, \n",
    "                        'national': national, \n",
    "                        'keyword': keyword, \n",
    "                        'final_augmented': final_augmented, \n",
    "                        'result': results\n",
    "                    })\n",
    "\n",
    "                    pbar.update(1)\n",
    "\n",
    "\n",
    "df = pd.DataFrame(df_list)\n",
    "\n",
    "df.to_excel('final_augmented_sentence.xlsx', index=False)"
   ]
  },
  {
   "cell_type": "code",
   "execution_count": null,
   "id": "5149dea3",
   "metadata": {},
   "outputs": [],
   "source": []
  }
 ],
 "metadata": {
  "kernelspec": {
   "display_name": "Python 3",
   "language": "python",
   "name": "python3"
  },
  "language_info": {
   "codemirror_mode": {
    "name": "ipython",
    "version": 3
   },
   "file_extension": ".py",
   "mimetype": "text/x-python",
   "name": "python",
   "nbconvert_exporter": "python",
   "pygments_lexer": "ipython3",
   "version": "3.10.14"
  }
 },
 "nbformat": 4,
 "nbformat_minor": 5
}
