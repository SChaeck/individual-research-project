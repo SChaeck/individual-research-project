{
 "cells": [
  {
   "cell_type": "code",
   "execution_count": null,
   "metadata": {},
   "outputs": [],
   "source": [
    "!pip install sentence_transformers"
   ]
  },
  {
   "cell_type": "code",
   "execution_count": 7,
   "metadata": {},
   "outputs": [
    {
     "name": "stderr",
     "output_type": "stream",
     "text": [
      "'pip'��(��) ���� �Ǵ� �ܺ� ����, ������ �� �ִ� ���α׷�, �Ǵ�\n",
      "��ġ ������ �ƴմϴ�.\n"
     ]
    }
   ],
   "source": [
    "!pip install pinecone-client"
   ]
  },
  {
   "cell_type": "code",
   "execution_count": 16,
   "metadata": {},
   "outputs": [
    {
     "name": "stderr",
     "output_type": "stream",
     "text": [
      "'pip'��(��) ���� �Ǵ� �ܺ� ����, ������ �� �ִ� ���α׷�, �Ǵ�\n",
      "��ġ ������ �ƴմϴ�.\n"
     ]
    }
   ],
   "source": [
    "!pip install tqdm"
   ]
  },
  {
   "cell_type": "code",
   "execution_count": 17,
   "metadata": {},
   "outputs": [],
   "source": [
    "from sentence_transformers import SentenceTransformer\n",
    "import os\n",
    "import json\n",
    "import ast\n",
    "from tqdm import tqdm\n",
    "import time"
   ]
  },
  {
   "cell_type": "code",
   "execution_count": 9,
   "metadata": {},
   "outputs": [],
   "source": [
    "# 파일 위치 지정\n",
    "keys_file_path = os.path.join('data', 'api_keys.txt')\n",
    "\n",
    "# 파일에서 API 키를 로드하는 함수\n",
    "def load_api_keys(file_path):\n",
    "    with open(file_path, 'r', encoding='utf-8') as file:\n",
    "        keys = json.load(file)\n",
    "    return keys\n",
    "\n",
    "# API 키 사용\n",
    "api_keys = load_api_keys(keys_file_path)\n",
    "pinecone_keys = api_keys['pinecone_key1']"
   ]
  },
  {
   "cell_type": "code",
   "execution_count": 3,
   "metadata": {},
   "outputs": [
    {
     "data": {
      "application/vnd.jupyter.widget-view+json": {
       "model_id": "7a9c41fcc4cf4e5a8717819fcebdd311",
       "version_major": 2,
       "version_minor": 0
      },
      "text/plain": [
       "modules.json:   0%|          | 0.00/349 [00:00<?, ?B/s]"
      ]
     },
     "metadata": {},
     "output_type": "display_data"
    },
    {
     "name": "stderr",
     "output_type": "stream",
     "text": [
      "c:\\Anaconda3\\envs\\PTLLM\\lib\\site-packages\\huggingface_hub\\file_download.py:148: UserWarning: `huggingface_hub` cache-system uses symlinks by default to efficiently store duplicated files but your machine does not support them in C:\\Users\\정수채\\.cache\\huggingface\\hub\\models--sentence-transformers--all-MiniLM-L6-v2. Caching files will still work but in a degraded version that might require more space on your disk. This warning can be disabled by setting the `HF_HUB_DISABLE_SYMLINKS_WARNING` environment variable. For more details, see https://huggingface.co/docs/huggingface_hub/how-to-cache#limitations.\n",
      "To support symlinks on Windows, you either need to activate Developer Mode or to run Python as an administrator. In order to see activate developer mode, see this article: https://docs.microsoft.com/en-us/windows/apps/get-started/enable-your-device-for-development\n",
      "  warnings.warn(message)\n"
     ]
    },
    {
     "data": {
      "application/vnd.jupyter.widget-view+json": {
       "model_id": "795be88aa4194f8f9625a2cbcea6ebf4",
       "version_major": 2,
       "version_minor": 0
      },
      "text/plain": [
       "config_sentence_transformers.json:   0%|          | 0.00/116 [00:00<?, ?B/s]"
      ]
     },
     "metadata": {},
     "output_type": "display_data"
    },
    {
     "data": {
      "application/vnd.jupyter.widget-view+json": {
       "model_id": "3966872a6aad4d71918d6292cfafee5d",
       "version_major": 2,
       "version_minor": 0
      },
      "text/plain": [
       "README.md:   0%|          | 0.00/10.7k [00:00<?, ?B/s]"
      ]
     },
     "metadata": {},
     "output_type": "display_data"
    },
    {
     "data": {
      "application/vnd.jupyter.widget-view+json": {
       "model_id": "6fc7c8eb91414c6dacaeaa250deb8c6f",
       "version_major": 2,
       "version_minor": 0
      },
      "text/plain": [
       "sentence_bert_config.json:   0%|          | 0.00/53.0 [00:00<?, ?B/s]"
      ]
     },
     "metadata": {},
     "output_type": "display_data"
    },
    {
     "data": {
      "application/vnd.jupyter.widget-view+json": {
       "model_id": "60efdf773f654e6b85bf850828bef701",
       "version_major": 2,
       "version_minor": 0
      },
      "text/plain": [
       "config.json:   0%|          | 0.00/612 [00:00<?, ?B/s]"
      ]
     },
     "metadata": {},
     "output_type": "display_data"
    },
    {
     "data": {
      "application/vnd.jupyter.widget-view+json": {
       "model_id": "1800bc8603594de5b0864c8e3f832bf1",
       "version_major": 2,
       "version_minor": 0
      },
      "text/plain": [
       "model.safetensors:   0%|          | 0.00/90.9M [00:00<?, ?B/s]"
      ]
     },
     "metadata": {},
     "output_type": "display_data"
    },
    {
     "data": {
      "application/vnd.jupyter.widget-view+json": {
       "model_id": "a4d1e994dad64811bd509358b4afb6fd",
       "version_major": 2,
       "version_minor": 0
      },
      "text/plain": [
       "tokenizer_config.json:   0%|          | 0.00/350 [00:00<?, ?B/s]"
      ]
     },
     "metadata": {},
     "output_type": "display_data"
    },
    {
     "data": {
      "application/vnd.jupyter.widget-view+json": {
       "model_id": "0738dac8d7734e55923be78c5738abe4",
       "version_major": 2,
       "version_minor": 0
      },
      "text/plain": [
       "vocab.txt:   0%|          | 0.00/232k [00:00<?, ?B/s]"
      ]
     },
     "metadata": {},
     "output_type": "display_data"
    },
    {
     "data": {
      "application/vnd.jupyter.widget-view+json": {
       "model_id": "3c48dd377bc6471190fa591ee900d69a",
       "version_major": 2,
       "version_minor": 0
      },
      "text/plain": [
       "tokenizer.json:   0%|          | 0.00/466k [00:00<?, ?B/s]"
      ]
     },
     "metadata": {},
     "output_type": "display_data"
    },
    {
     "data": {
      "application/vnd.jupyter.widget-view+json": {
       "model_id": "b3c2d96f72f14ebd9c557b430cf44259",
       "version_major": 2,
       "version_minor": 0
      },
      "text/plain": [
       "special_tokens_map.json:   0%|          | 0.00/112 [00:00<?, ?B/s]"
      ]
     },
     "metadata": {},
     "output_type": "display_data"
    },
    {
     "data": {
      "application/vnd.jupyter.widget-view+json": {
       "model_id": "77ddfb6a22e14425b5c89a6a103af8ba",
       "version_major": 2,
       "version_minor": 0
      },
      "text/plain": [
       "1_Pooling/config.json:   0%|          | 0.00/190 [00:00<?, ?B/s]"
      ]
     },
     "metadata": {},
     "output_type": "display_data"
    }
   ],
   "source": [
    "model = SentenceTransformer('sentence-transformers/all-MiniLM-L6-v2')"
   ]
  },
  {
   "cell_type": "code",
   "execution_count": 6,
   "metadata": {},
   "outputs": [
    {
     "name": "stdout",
     "output_type": "stream",
     "text": [
      "[-4.81911525e-02  5.16481698e-02  6.03663363e-02  7.82035068e-02\n",
      " -7.17001185e-02 -7.75212869e-02  1.06707036e-01  1.68510713e-02\n",
      " -1.04289174e-01 -5.23629598e-02  1.65249016e-02  8.49034463e-04\n",
      "  6.14056410e-03 -3.37603614e-02  8.00148174e-02 -9.73476470e-03\n",
      " -5.94151486e-03 -5.50033189e-02 -1.58078060e-01  3.91182713e-02\n",
      " -7.94542804e-02  3.65013480e-02 -9.79444012e-03  2.21124217e-02\n",
      " -2.56253369e-02 -7.71860629e-02  3.74883451e-02  6.86489791e-02\n",
      " -7.04608019e-03 -6.37769103e-02  5.05503034e-03  4.70280424e-02\n",
      "  7.27864057e-02  5.82603039e-03 -1.14917383e-02  7.95496479e-02\n",
      " -9.11241025e-02 -6.52544945e-02  5.51138520e-02  1.01117045e-03\n",
      " -1.00672916e-02 -2.67531332e-02 -1.24660917e-02 -4.25061248e-02\n",
      "  3.75460982e-02 -5.03433421e-02  6.59254985e-03  4.99172397e-02\n",
      "  7.97265619e-02 -2.81720422e-02 -6.57626539e-02 -9.47098583e-02\n",
      " -2.92463619e-02  1.93909537e-02  1.14195898e-01 -7.46206660e-03\n",
      " -1.19604813e-02 -2.93354485e-02  2.28024423e-02 -2.02381592e-02\n",
      " -1.45187061e-02  5.79499565e-02 -1.13425180e-01  2.45356206e-02\n",
      "  6.71595894e-03 -7.40938121e-03 -5.63963503e-02 -5.50335161e-02\n",
      " -1.30743599e-02 -5.61045855e-02 -2.87712831e-02 -5.33036143e-03\n",
      "  1.13102212e-03 -1.16080493e-02 -5.19874021e-02 -2.79229879e-02\n",
      "  9.07726027e-03 -2.40374207e-02 -9.94282309e-03  1.44946584e-02\n",
      "  4.69132401e-02 -1.13084190e-01 -4.15385254e-02  5.00833616e-02\n",
      "  2.58684140e-02  1.13932677e-02  3.58892679e-02  5.16275987e-02\n",
      " -3.43132839e-02  3.47297005e-02 -1.10640310e-01  6.73080841e-03\n",
      "  3.17000188e-02 -2.99734268e-02 -9.26983953e-02 -3.72580104e-02\n",
      "  6.03875443e-02 -6.79896725e-03 -9.08307135e-02  2.16857269e-01\n",
      "  6.43229783e-02  6.00471087e-02  1.73773407e-03  2.41800770e-02\n",
      "  1.40506625e-02  6.28905371e-03 -9.11024064e-02  2.73334458e-02\n",
      " -3.28987651e-02 -4.61072056e-03 -1.75015256e-02 -7.15787783e-02\n",
      " -5.01048230e-02 -5.51020205e-02  8.77936259e-02  4.65787528e-03\n",
      "  3.64018884e-03  2.67839804e-02  7.26054460e-02  4.04035449e-02\n",
      "  3.20107117e-02 -1.77320912e-02  4.27396037e-03 -4.29185806e-03\n",
      " -3.70080061e-02  7.73037737e-03  8.02102312e-02 -6.18495610e-33\n",
      "  9.14137959e-02 -2.06071381e-02  3.65452431e-02  1.16759963e-01\n",
      " -2.68629901e-02 -1.73955318e-02 -4.19540927e-02 -6.66933060e-02\n",
      "  3.35352570e-02  6.12235768e-03  4.17022482e-02  1.85876377e-02\n",
      "  2.43678670e-02  8.17230716e-03 -1.19645614e-02  2.36470979e-02\n",
      " -2.25663520e-02  1.23508209e-02 -7.51831010e-02  2.06541643e-02\n",
      " -7.53758252e-02 -2.55039381e-03 -9.82510857e-03  6.74091429e-02\n",
      "  3.97949368e-02 -4.34031896e-02  1.10360617e-02 -1.17372610e-01\n",
      "  8.26224312e-02  1.14996661e-03 -3.89481783e-02 -4.15219851e-02\n",
      "  1.50251519e-02  3.76427807e-02  1.75828971e-02  1.39522552e-02\n",
      "  3.91913205e-02 -6.95572644e-02 -3.62795368e-02 -6.83009718e-03\n",
      " -5.75766712e-02  4.99167927e-02  5.27695008e-02  2.25316524e-03\n",
      " -1.38021754e-02  2.23984160e-02  1.31209865e-02  9.47867613e-03\n",
      "  2.98316814e-02  5.25526851e-02 -5.30134588e-02  1.84451155e-02\n",
      " -1.11000590e-01  4.27939333e-02 -4.88093647e-05  4.20509689e-02\n",
      " -1.01217385e-02 -5.31197116e-02  3.93484049e-02  5.11797480e-02\n",
      "  2.22056289e-03  1.08331092e-01 -2.46918984e-02 -7.49746012e-03\n",
      " -4.30008322e-02 -6.52274713e-02  2.41030231e-02  1.08736930e-02\n",
      "  1.33827284e-01 -4.63925935e-02 -4.11215685e-02 -1.71194542e-02\n",
      " -3.39913619e-04  6.28614724e-02 -1.67505331e-02  4.95426916e-02\n",
      "  3.06967413e-03  1.69097688e-02 -1.58025585e-02 -1.02771185e-01\n",
      "  2.65461281e-02  5.82254939e-02 -9.75797977e-03  1.55971479e-02\n",
      "  2.08358895e-02  3.31422426e-02 -4.75884080e-02 -5.50013147e-02\n",
      "  8.72755144e-03  1.20002776e-02 -5.94900437e-02  4.71391901e-02\n",
      "  6.09785877e-02  8.44847783e-03 -4.60652485e-02  4.24727378e-33\n",
      "  8.01946446e-02  3.04462127e-02 -8.38267803e-02 -4.11580391e-02\n",
      " -2.32451893e-02  2.05058395e-03  1.46730561e-02  1.21504508e-01\n",
      " -1.71510682e-01  3.10570989e-02  4.87035699e-02 -8.42488278e-03\n",
      "  9.93205458e-02  4.04332131e-02  3.69963124e-02 -1.84839182e-02\n",
      "  1.23229556e-01  4.93435487e-02  3.97890387e-03 -4.27644849e-02\n",
      " -8.24704617e-02  2.61596199e-02 -4.58804667e-02 -3.47507410e-02\n",
      " -1.30920578e-03 -4.26654151e-04  3.53638269e-02  7.42054880e-02\n",
      " -1.33252367e-01 -1.73606798e-02  4.51154448e-02  2.29944568e-03\n",
      "  4.22974937e-02  6.88681006e-02 -1.34117529e-02  6.20600581e-02\n",
      "  3.88801061e-02 -4.91230898e-02  6.34449050e-02 -4.83462550e-02\n",
      " -5.10673970e-02  3.32298665e-03  2.08288115e-02  1.09287910e-01\n",
      " -4.76378165e-02 -5.14549427e-02 -2.18227860e-02  3.69795761e-03\n",
      " -2.07328442e-02  5.42432293e-02 -8.94329771e-02 -5.80533631e-02\n",
      "  1.99974962e-02  2.47654878e-02  3.36309779e-03  4.16657031e-02\n",
      " -4.86605428e-02  4.75553945e-02  2.50093602e-02 -2.43678447e-02\n",
      "  4.20215838e-02  7.08595142e-02  4.75156121e-02  7.97878578e-02\n",
      "  2.55279010e-03  7.27578392e-03 -3.17570716e-02  4.05651424e-03\n",
      "  4.61338051e-02 -4.36597690e-02  5.03904149e-02 -5.86358719e-02\n",
      "  6.19222745e-02  1.81746986e-02 -2.77646929e-02  3.34477536e-02\n",
      "  4.50105453e-03 -2.80251354e-02 -3.59096006e-02  1.36710303e-02\n",
      " -2.02612281e-02  2.94749942e-02 -4.34602611e-03 -3.97151522e-02\n",
      "  5.59127629e-02 -2.38256156e-02  3.94729339e-02  8.08294341e-02\n",
      " -1.51164085e-03 -1.14861811e-02  3.93881015e-02  2.52275504e-02\n",
      " -3.68520711e-03  1.13460869e-02 -3.83053124e-02 -1.74173529e-08\n",
      " -2.96616182e-03  1.81602407e-02 -1.14464043e-02  4.19068299e-02\n",
      "  3.12908404e-02 -4.35644109e-03 -1.06648847e-01 -2.81180199e-02\n",
      " -3.65121402e-02  2.86807939e-02  3.02108228e-02  9.71798450e-02\n",
      " -7.21014962e-02 -2.51533575e-02  4.83752340e-02  2.13344600e-02\n",
      " -7.44724600e-03 -6.07002042e-02 -6.99094757e-02 -7.38500282e-02\n",
      "  1.02593554e-02  3.16710435e-02  1.21659022e-02 -1.11528730e-03\n",
      " -1.07995486e-02 -4.10825722e-02 -5.45002054e-03 -4.31111678e-02\n",
      "  1.67462900e-02  1.88287962e-02  1.81799065e-02  1.54570550e-01\n",
      " -5.13739362e-02 -1.60134416e-02  2.23263842e-03 -8.57779980e-02\n",
      "  4.78145201e-03  4.21180837e-02  3.63683775e-02  1.39171695e-02\n",
      " -3.33083943e-02  1.58985630e-02 -9.70555842e-03 -7.52429590e-02\n",
      "  7.97866937e-03  1.42988674e-02  5.19851074e-02 -9.84613970e-02\n",
      " -2.59467270e-02 -7.87973553e-02 -4.54990603e-02  6.63767681e-02\n",
      "  3.00064739e-02  4.18760441e-02  7.84949064e-02  6.20805100e-02\n",
      " -1.58065576e-02 -1.36475405e-02 -7.14141577e-02 -7.04045501e-03\n",
      "  6.20342679e-02  1.73823498e-02  1.51020475e-02  2.45562717e-02]\n"
     ]
    }
   ],
   "source": [
    "print(model.encode('Hello?'))"
   ]
  },
  {
   "cell_type": "code",
   "execution_count": 18,
   "metadata": {},
   "outputs": [
    {
     "name": "stderr",
     "output_type": "stream",
     "text": [
      "100%|██████████| 41754/41754 [08:04<00:00, 86.11it/s]\n"
     ]
    }
   ],
   "source": [
    "with open('data/documents.txt', 'r', encoding=\"UTF-8\") as f:\n",
    "    lines = f.readlines()\n",
    "\n",
    "embedding_list = []\n",
    "for line in tqdm(lines):\n",
    "    response = model.encode(line)    \n",
    "    embedding_list.append(response)  "
   ]
  },
  {
   "cell_type": "code",
   "execution_count": 19,
   "metadata": {},
   "outputs": [],
   "source": [
    "# 백업\n",
    "with open('data/miniLM-embedded-vector', 'w', encoding='utf-8') as f:\n",
    "    f.write(str(embedding_list))"
   ]
  },
  {
   "cell_type": "code",
   "execution_count": null,
   "metadata": {},
   "outputs": [],
   "source": [
    "# 로드\n",
    "with open('data/miniLM-embedded-vector', 'r', encoding='utf-8') as f:\n",
    "    embedded_vector = f.read()\n",
    "    embedding_list = ast.literal_eval(embedded_vector)\n",
    "\n",
    "print(embedding_list)"
   ]
  },
  {
   "cell_type": "code",
   "execution_count": 13,
   "metadata": {},
   "outputs": [
    {
     "name": "stdout",
     "output_type": "stream",
     "text": [
      "5\n"
     ]
    }
   ],
   "source": [
    "em_vectors = []\n",
    "for i, em in enumerate(embedding_list):\n",
    "    em_vectors.append({\"id\": str(i), \"values\": em, \"metadata\": {\"assertion\": lines[i]}})\n",
    "print(len(em_vectors))"
   ]
  },
  {
   "cell_type": "code",
   "execution_count": 14,
   "metadata": {},
   "outputs": [
    {
     "data": {
      "text/plain": [
       "{'upserted_count': 5}"
      ]
     },
     "execution_count": 14,
     "metadata": {},
     "output_type": "execute_result"
    }
   ],
   "source": [
    "from pinecone import Pinecone\n",
    "pc = Pinecone(api_key=pinecone_keys)\n",
    "\n",
    "index = pc.Index(\"minilm\")\n",
    "\n",
    "index.upsert(\n",
    "    vectors=em_vectors\n",
    ")"
   ]
  }
 ],
 "metadata": {
  "kernelspec": {
   "display_name": "PTLLM",
   "language": "python",
   "name": "python3"
  },
  "language_info": {
   "codemirror_mode": {
    "name": "ipython",
    "version": 3
   },
   "file_extension": ".py",
   "mimetype": "text/x-python",
   "name": "python",
   "nbconvert_exporter": "python",
   "pygments_lexer": "ipython3",
   "version": "3.8.18"
  }
 },
 "nbformat": 4,
 "nbformat_minor": 2
}
